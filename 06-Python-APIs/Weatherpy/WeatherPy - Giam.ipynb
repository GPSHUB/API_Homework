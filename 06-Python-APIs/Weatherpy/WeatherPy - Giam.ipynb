{
 "cells": [
  {
   "cell_type": "markdown",
   "metadata": {},
   "source": [
    "# WeatherPy\n",
    "----\n",
    "\n",
    "#### Note\n",
    "* Instructions have been included for each segment. You do not have to follow them exactly, but they are included to help you think through the steps."
   ]
  },
  {
   "cell_type": "markdown",
   "metadata": {},
   "source": [
    "Giam Sigaud PART 1: 3 Observable trends:\n",
    "\n",
    "1. From the Latitude vs Temperature plot: We can confirm that, the closer a city is to the equator, the hotter the temperature tends to get.\n",
    "\n",
    "2. From the Northern Hemisphere - Max Temp vs. Latitude Linear Regression plot: Consistent with the 1st observable trend featured above, the temperature for the queried cities south of the equator, consistently climbed the closer they got to the equator.\n",
    "\n",
    "3. From the Latitude vs Cloudiness plot: The wind speed of the cities queried in this data set were generally 8 mph or less."
   ]
  },
  {
   "cell_type": "code",
   "execution_count": 1,
   "metadata": {
    "scrolled": true
   },
   "outputs": [],
   "source": [
    "# Dependencies and Setup\n",
    "import matplotlib.pyplot as plt\n",
    "import pandas as pd\n",
    "import numpy as np\n",
    "import requests\n",
    "import time\n",
    "from scipy.stats import linregress\n",
    "from pprint import pprint\n",
    "\n",
    "# Import API key\n",
    "from api_keys import weather_api_key\n",
    "\n",
    "# Incorporated citipy to determine city based on latitude and longitude\n",
    "from citipy import citipy\n",
    "\n",
    "# Output File (CSV)\n",
    "output_data_file = \"output_data/cities.csv\"\n",
    "\n",
    "# Range of latitudes and longitudes\n",
    "lat_range = (-90, 90)\n",
    "lng_range = (-180, 180)"
   ]
  },
  {
   "cell_type": "markdown",
   "metadata": {},
   "source": [
    "## Generate Cities List"
   ]
  },
  {
   "cell_type": "code",
   "execution_count": 2,
   "metadata": {},
   "outputs": [
    {
     "data": {
      "text/plain": [
       "609"
      ]
     },
     "execution_count": 2,
     "metadata": {},
     "output_type": "execute_result"
    }
   ],
   "source": [
    "# List for holding lat_lngs and cities\n",
    "lat_lngs = []\n",
    "cities = []\n",
    "\n",
    "# Create a set of random lat and lng combinations\n",
    "lats = np.random.uniform(lat_range[0], lat_range[1], size=1500)\n",
    "lngs = np.random.uniform(lng_range[0], lng_range[1], size=1500)\n",
    "lat_lngs = zip(lats, lngs)\n",
    "\n",
    "# Identify nearest city for each lat, lng combination\n",
    "for lat_lng in lat_lngs:\n",
    "    city = citipy.nearest_city(lat_lng[0], lat_lng[1]).city_name\n",
    "    \n",
    "    # If the city is unique, then add it to a our cities list\n",
    "    if city not in cities:\n",
    "        cities.append(city)\n",
    "\n",
    "# Print the city count to confirm sufficient count\n",
    "len(cities)"
   ]
  },
  {
   "cell_type": "code",
   "execution_count": 3,
   "metadata": {},
   "outputs": [
    {
     "data": {
      "text/html": [
       "<div>\n",
       "<style scoped>\n",
       "    .dataframe tbody tr th:only-of-type {\n",
       "        vertical-align: middle;\n",
       "    }\n",
       "\n",
       "    .dataframe tbody tr th {\n",
       "        vertical-align: top;\n",
       "    }\n",
       "\n",
       "    .dataframe thead th {\n",
       "        text-align: right;\n",
       "    }\n",
       "</style>\n",
       "<table border=\"1\" class=\"dataframe\">\n",
       "  <thead>\n",
       "    <tr style=\"text-align: right;\">\n",
       "      <th></th>\n",
       "      <th>City</th>\n",
       "    </tr>\n",
       "  </thead>\n",
       "  <tbody>\n",
       "    <tr>\n",
       "      <th>0</th>\n",
       "      <td>upernavik</td>\n",
       "    </tr>\n",
       "    <tr>\n",
       "      <th>1</th>\n",
       "      <td>port alfred</td>\n",
       "    </tr>\n",
       "    <tr>\n",
       "      <th>2</th>\n",
       "      <td>crotone</td>\n",
       "    </tr>\n",
       "    <tr>\n",
       "      <th>3</th>\n",
       "      <td>komsomolskiy</td>\n",
       "    </tr>\n",
       "    <tr>\n",
       "      <th>4</th>\n",
       "      <td>kruisfontein</td>\n",
       "    </tr>\n",
       "  </tbody>\n",
       "</table>\n",
       "</div>"
      ],
      "text/plain": [
       "           City\n",
       "0     upernavik\n",
       "1   port alfred\n",
       "2       crotone\n",
       "3  komsomolskiy\n",
       "4  kruisfontein"
      ]
     },
     "execution_count": 3,
     "metadata": {},
     "output_type": "execute_result"
    }
   ],
   "source": [
    "# Verifying Cities\n",
    "city_weather = pd.DataFrame(cities, columns=['City'])\n",
    "city_weather.head()"
   ]
  },
  {
   "cell_type": "code",
   "execution_count": 5,
   "metadata": {},
   "outputs": [
    {
     "data": {
      "text/html": [
       "<div>\n",
       "<style scoped>\n",
       "    .dataframe tbody tr th:only-of-type {\n",
       "        vertical-align: middle;\n",
       "    }\n",
       "\n",
       "    .dataframe tbody tr th {\n",
       "        vertical-align: top;\n",
       "    }\n",
       "\n",
       "    .dataframe thead th {\n",
       "        text-align: right;\n",
       "    }\n",
       "</style>\n",
       "<table border=\"1\" class=\"dataframe\">\n",
       "  <thead>\n",
       "    <tr style=\"text-align: right;\">\n",
       "      <th></th>\n",
       "      <th>City</th>\n",
       "      <th>Lat</th>\n",
       "      <th>Lng</th>\n",
       "      <th>Max Temp</th>\n",
       "      <th>Humidity</th>\n",
       "      <th>Cloudiness</th>\n",
       "      <th>Wind Speed</th>\n",
       "      <th>Country</th>\n",
       "      <th>Date</th>\n",
       "    </tr>\n",
       "  </thead>\n",
       "  <tbody>\n",
       "    <tr>\n",
       "      <th>0</th>\n",
       "      <td>upernavik</td>\n",
       "      <td></td>\n",
       "      <td></td>\n",
       "      <td></td>\n",
       "      <td></td>\n",
       "      <td></td>\n",
       "      <td></td>\n",
       "      <td></td>\n",
       "      <td></td>\n",
       "    </tr>\n",
       "    <tr>\n",
       "      <th>1</th>\n",
       "      <td>port alfred</td>\n",
       "      <td></td>\n",
       "      <td></td>\n",
       "      <td></td>\n",
       "      <td></td>\n",
       "      <td></td>\n",
       "      <td></td>\n",
       "      <td></td>\n",
       "      <td></td>\n",
       "    </tr>\n",
       "    <tr>\n",
       "      <th>2</th>\n",
       "      <td>crotone</td>\n",
       "      <td></td>\n",
       "      <td></td>\n",
       "      <td></td>\n",
       "      <td></td>\n",
       "      <td></td>\n",
       "      <td></td>\n",
       "      <td></td>\n",
       "      <td></td>\n",
       "    </tr>\n",
       "    <tr>\n",
       "      <th>3</th>\n",
       "      <td>komsomolskiy</td>\n",
       "      <td></td>\n",
       "      <td></td>\n",
       "      <td></td>\n",
       "      <td></td>\n",
       "      <td></td>\n",
       "      <td></td>\n",
       "      <td></td>\n",
       "      <td></td>\n",
       "    </tr>\n",
       "    <tr>\n",
       "      <th>4</th>\n",
       "      <td>kruisfontein</td>\n",
       "      <td></td>\n",
       "      <td></td>\n",
       "      <td></td>\n",
       "      <td></td>\n",
       "      <td></td>\n",
       "      <td></td>\n",
       "      <td></td>\n",
       "      <td></td>\n",
       "    </tr>\n",
       "  </tbody>\n",
       "</table>\n",
       "</div>"
      ],
      "text/plain": [
       "           City Lat Lng Max Temp Humidity Cloudiness Wind Speed Country Date\n",
       "0     upernavik                                                             \n",
       "1   port alfred                                                             \n",
       "2       crotone                                                             \n",
       "3  komsomolskiy                                                             \n",
       "4  kruisfontein                                                             "
      ]
     },
     "execution_count": 5,
     "metadata": {},
     "output_type": "execute_result"
    }
   ],
   "source": [
    "# Setting up DF\n",
    "city_weather['Lat']=''\n",
    "city_weather['Lng']=''\n",
    "city_weather['Max Temp']=''\n",
    "city_weather['Humidity']=''\n",
    "city_weather['Cloudiness']=''\n",
    "city_weather['Wind Speed']=''\n",
    "city_weather['Country']=''\n",
    "city_weather['Date']=''\n",
    "\n",
    "city_weather.head()"
   ]
  },
  {
   "cell_type": "markdown",
   "metadata": {},
   "source": [
    "### Perform API Calls\n",
    "* Perform a weather check on each city using a series of successive API calls.\n",
    "* Include a print log of each city as it'sbeing processed (with the city number and city name)."
   ]
  },
  {
   "cell_type": "code",
   "execution_count": 6,
   "metadata": {
    "scrolled": true
   },
   "outputs": [
    {
     "name": "stdout",
     "output_type": "stream",
     "text": [
      "Beginning Data Retrieval\n",
      "-----------------------------\n",
      "Processing Record 1 of Set 1| upernavik\n",
      "Processing Record 2 of Set 1| port alfred\n",
      "Processing Record 3 of Set 1| crotone\n",
      "Processing Record 4 of Set 1| komsomolskiy\n",
      "Processing Record 5 of Set 1| kruisfontein\n",
      "Processing Record 6 of Set 1| rikitea\n",
      "Processing Record 7 of Set 1| busselton\n",
      "Processing Record 8 of Set 1| miri\n",
      "Processing Record 9 of Set 1| avarua\n",
      "Processing Record 10 of Set 1| khatanga\n",
      "Processing Record 11 of Set 1| storforshei\n",
      "Processing Record 12 of Set 1| cabo san lucas\n",
      "Processing Record 13 of Set 1| tasiilaq\n",
      "Processing Record 14 of Set 1| saint-philippe\n",
      "Processing Record 15 of Set 1| chiredzi\n",
      "Processing Record 16 of Set 1| husavik\n",
      "Processing Record 17 of Set 1| mataura\n",
      "Processing Record 18 of Set 1| yellowknife\n",
      "Processing Record 19 of Set 1| isangel\n",
      "Processing Record 20 of Set 1| punta arenas\n",
      "Processing Record 21 of Set 1| torbay\n",
      "Processing Record 22 of Set 1| vaini\n",
      "Processing Record 23 of Set 1| agirish\n",
      "Processing Record 24 of Set 1| cape town\n",
      "Processing Record 25 of Set 1| kamyaran\n",
      "Processing Record 26 of Set 1| hermanus\n",
      "Processing Record 27 of Set 1| port elizabeth\n",
      "Processing Record 28 of Set 1| albany\n",
      "Processing Record 29 of Set 1| souillac\n",
      "Processing Record 30 of Set 1| mabay\n",
      "Processing Record 31 of Set 1| amahai\n",
      "Processing Record 32 of Set 1| socota\n",
      "Processing Record 33 of Set 1| elizabeth city\n",
      "Processing Record 34 of Set 1| sao filipe\n",
      "Processing Record 35 of Set 1| muli\n",
      "Processing Record 36 of Set 1| payo\n",
      "Processing Record 37 of Set 1| evensk\n",
      "Processing Record 38 of Set 1| jiayuguan\n",
      "Processing Record 39 of Set 1| kahului\n",
      "Processing Record 40 of Set 1| kapaa\n",
      "Processing Record 41 of Set 1| fortuna\n",
      "Processing Record 42 of Set 1| bengkulu\n",
      "Processing Record 43 of Set 1| port blair\n",
      "Processing Record 44 of Set 1| agen\n",
      "Processing Record 45 of Set 1| grand river south east\n",
      "City not found, skipping...\n",
      "Processing Record 46 of Set 1| new norfolk\n",
      "Processing Record 47 of Set 1| mount isa\n",
      "Processing Record 48 of Set 1| paamiut\n",
      "Processing Record 49 of Set 1| ushuaia\n",
      "Processing Record 1 of Set 2| lagoa\n",
      "Processing Record 2 of Set 2| bethel\n",
      "Processing Record 3 of Set 2| junagarh\n",
      "Processing Record 4 of Set 2| ossora\n",
      "Processing Record 5 of Set 2| hasaki\n",
      "Processing Record 6 of Set 2| thompson\n",
      "Processing Record 7 of Set 2| laupheim\n",
      "Processing Record 8 of Set 2| iquique\n",
      "Processing Record 9 of Set 2| clyde river\n",
      "Processing Record 10 of Set 2| lavrentiya\n",
      "Processing Record 11 of Set 2| taolanaro\n",
      "City not found, skipping...\n",
      "Processing Record 12 of Set 2| macaboboni\n",
      "City not found, skipping...\n",
      "Processing Record 13 of Set 2| gushikawa\n",
      "Processing Record 14 of Set 2| castro\n",
      "Processing Record 15 of Set 2| kununurra\n",
      "Processing Record 16 of Set 2| bakchar\n",
      "Processing Record 17 of Set 2| beckley\n",
      "Processing Record 18 of Set 2| vila velha\n",
      "Processing Record 19 of Set 2| tlaxco\n",
      "Processing Record 20 of Set 2| kalmunai\n",
      "Processing Record 21 of Set 2| puerto ayora\n",
      "Processing Record 22 of Set 2| touros\n",
      "Processing Record 23 of Set 2| oktyabrskiy\n",
      "Processing Record 24 of Set 2| hobart\n",
      "Processing Record 25 of Set 2| narsaq\n",
      "Processing Record 26 of Set 2| grand gaube\n",
      "Processing Record 27 of Set 2| dikson\n",
      "Processing Record 28 of Set 2| barentsburg\n",
      "City not found, skipping...\n",
      "Processing Record 29 of Set 2| mapiripan\n",
      "Processing Record 30 of Set 2| sabang\n",
      "Processing Record 31 of Set 2| ribeira grande\n",
      "Processing Record 32 of Set 2| quesnel\n",
      "Processing Record 33 of Set 2| deh rawud\n",
      "City not found, skipping...\n",
      "Processing Record 34 of Set 2| faanui\n",
      "Processing Record 35 of Set 2| ostrovnoy\n",
      "Processing Record 36 of Set 2| utiroa\n",
      "City not found, skipping...\n",
      "Processing Record 37 of Set 2| arman\n",
      "Processing Record 38 of Set 2| guerrero negro\n",
      "Processing Record 39 of Set 2| medea\n",
      "Processing Record 40 of Set 2| ayan\n",
      "Processing Record 41 of Set 2| poum\n",
      "Processing Record 42 of Set 2| belmonte\n",
      "Processing Record 43 of Set 2| berea\n",
      "Processing Record 44 of Set 2| saskylakh\n",
      "Processing Record 45 of Set 2| bambous virieux\n",
      "Processing Record 46 of Set 2| atuona\n",
      "Processing Record 47 of Set 2| ovsyanka\n",
      "Processing Record 48 of Set 2| tura\n",
      "Processing Record 49 of Set 2| nsanje\n",
      "Processing Record 1 of Set 3| manokwari\n",
      "Processing Record 2 of Set 3| bafoulabe\n",
      "Processing Record 3 of Set 3| berlevag\n",
      "Processing Record 4 of Set 3| yar-sale\n",
      "Processing Record 5 of Set 3| galiwinku\n",
      "City not found, skipping...\n",
      "Processing Record 6 of Set 3| tabalosos\n",
      "Processing Record 7 of Set 3| serenje\n",
      "Processing Record 8 of Set 3| iqaluit\n",
      "Processing Record 9 of Set 3| qaanaaq\n",
      "Processing Record 10 of Set 3| ponta delgada\n",
      "Processing Record 11 of Set 3| port hardy\n",
      "Processing Record 12 of Set 3| pangnirtung\n",
      "Processing Record 13 of Set 3| atasu\n",
      "Processing Record 14 of Set 3| salamanca\n",
      "Processing Record 15 of Set 3| marabba\n",
      "Processing Record 16 of Set 3| lompoc\n",
      "Processing Record 17 of Set 3| mehamn\n",
      "Processing Record 18 of Set 3| comodoro rivadavia\n",
      "Processing Record 19 of Set 3| salalah\n",
      "Processing Record 20 of Set 3| sitka\n",
      "Processing Record 21 of Set 3| amderma\n",
      "City not found, skipping...\n",
      "Processing Record 22 of Set 3| gizo\n",
      "Processing Record 23 of Set 3| svetlyy\n",
      "Processing Record 24 of Set 3| lorengau\n",
      "Processing Record 25 of Set 3| norman wells\n",
      "Processing Record 26 of Set 3| fuente palmera\n",
      "Processing Record 27 of Set 3| hithadhoo\n",
      "Processing Record 28 of Set 3| ancud\n",
      "Processing Record 29 of Set 3| mardin\n",
      "Processing Record 30 of Set 3| lebu\n",
      "Processing Record 31 of Set 3| baracoa\n",
      "Processing Record 32 of Set 3| muros\n",
      "Processing Record 33 of Set 3| necochea\n",
      "Processing Record 34 of Set 3| port hedland\n",
      "Processing Record 35 of Set 3| bitung\n",
      "Processing Record 36 of Set 3| san pedro\n",
      "Processing Record 37 of Set 3| tabou\n",
      "Processing Record 38 of Set 3| buin\n",
      "Processing Record 39 of Set 3| college\n",
      "Processing Record 40 of Set 3| kirakira\n",
      "Processing Record 41 of Set 3| slave lake\n",
      "Processing Record 42 of Set 3| san patricio\n",
      "Processing Record 43 of Set 3| baoying\n",
      "Processing Record 44 of Set 3| bluff\n",
      "Processing Record 45 of Set 3| naze\n",
      "Processing Record 46 of Set 3| san quintin\n",
      "Processing Record 47 of Set 3| illoqqortoormiut\n",
      "City not found, skipping...\n",
      "Processing Record 48 of Set 3| barrow\n",
      "Processing Record 49 of Set 3| churapcha\n",
      "Processing Record 1 of Set 4| viligili\n",
      "City not found, skipping...\n",
      "Processing Record 2 of Set 4| hanyang\n",
      "Processing Record 3 of Set 4| sambava\n",
      "Processing Record 4 of Set 4| taketa\n",
      "Processing Record 5 of Set 4| hay river\n",
      "Processing Record 6 of Set 4| paracuru\n",
      "Processing Record 7 of Set 4| kavieng\n",
      "Processing Record 8 of Set 4| ust-maya\n",
      "Processing Record 9 of Set 4| eureka\n",
      "Processing Record 10 of Set 4| najran\n",
      "Processing Record 11 of Set 4| rio claro\n",
      "Processing Record 12 of Set 4| moanda\n",
      "Processing Record 13 of Set 4| kapit\n",
      "Processing Record 14 of Set 4| mercedes\n",
      "Processing Record 15 of Set 4| maragogi\n",
      "Processing Record 16 of Set 4| egvekinot\n",
      "Processing Record 17 of Set 4| rosarito\n",
      "Processing Record 18 of Set 4| chapais\n",
      "Processing Record 19 of Set 4| qaqortoq\n",
      "Processing Record 20 of Set 4| eyl\n",
      "Processing Record 21 of Set 4| karratha\n",
      "Processing Record 22 of Set 4| ahuimanu\n",
      "Processing Record 23 of Set 4| butaritari\n",
      "Processing Record 24 of Set 4| saldanha\n",
      "Processing Record 25 of Set 4| llangefni\n",
      "Processing Record 26 of Set 4| ponta do sol\n",
      "Processing Record 27 of Set 4| mindszent\n",
      "Processing Record 28 of Set 4| krasnogorodsk\n",
      "Processing Record 29 of Set 4| biak\n",
      "Processing Record 30 of Set 4| belle glade\n",
      "Processing Record 31 of Set 4| cherskiy\n",
      "Processing Record 32 of Set 4| waipawa\n",
      "Processing Record 33 of Set 4| pathein\n",
      "Processing Record 34 of Set 4| east london\n",
      "Processing Record 35 of Set 4| wajir\n",
      "Processing Record 36 of Set 4| bud\n",
      "Processing Record 37 of Set 4| kobryn\n",
      "Processing Record 38 of Set 4| flinders\n",
      "Processing Record 39 of Set 4| grindavik\n",
      "Processing Record 40 of Set 4| chishtian mandi\n",
      "Processing Record 41 of Set 4| upata\n",
      "Processing Record 42 of Set 4| juneau\n",
      "Processing Record 43 of Set 4| longyearbyen\n",
      "Processing Record 44 of Set 4| varnavino\n",
      "Processing Record 45 of Set 4| georgetown\n",
      "Processing Record 46 of Set 4| malindi\n",
      "Processing Record 47 of Set 4| miramar\n",
      "Processing Record 48 of Set 4| praia da vitoria\n",
      "Processing Record 49 of Set 4| seoul\n",
      "Processing Record 1 of Set 5| sentyabrskiy\n",
      "City not found, skipping...\n",
      "Processing Record 2 of Set 5| hilo\n"
     ]
    },
    {
     "name": "stdout",
     "output_type": "stream",
     "text": [
      "Processing Record 3 of Set 5| padang\n",
      "Processing Record 4 of Set 5| nikolskoye\n",
      "Processing Record 5 of Set 5| uni\n",
      "Processing Record 6 of Set 5| port macquarie\n",
      "Processing Record 7 of Set 5| mar del plata\n",
      "Processing Record 8 of Set 5| yulara\n",
      "Processing Record 9 of Set 5| pyay\n",
      "Processing Record 10 of Set 5| samarai\n",
      "Processing Record 11 of Set 5| north platte\n",
      "Processing Record 12 of Set 5| carnarvon\n",
      "Processing Record 13 of Set 5| subotica\n",
      "Processing Record 14 of Set 5| kamenka\n",
      "Processing Record 15 of Set 5| cidreira\n",
      "Processing Record 16 of Set 5| sept-iles\n",
      "Processing Record 17 of Set 5| maceio\n",
      "Processing Record 18 of Set 5| jumla\n",
      "Processing Record 19 of Set 5| campos belos\n",
      "Processing Record 20 of Set 5| vila\n",
      "Processing Record 21 of Set 5| sorkjosen\n",
      "Processing Record 22 of Set 5| xai-xai\n",
      "Processing Record 23 of Set 5| coquimbo\n",
      "Processing Record 24 of Set 5| kodiak\n",
      "Processing Record 25 of Set 5| nalut\n",
      "Processing Record 26 of Set 5| arraial do cabo\n",
      "Processing Record 27 of Set 5| saint george\n",
      "Processing Record 28 of Set 5| tuktoyaktuk\n",
      "Processing Record 29 of Set 5| sinjah\n",
      "City not found, skipping...\n",
      "Processing Record 30 of Set 5| moron\n",
      "Processing Record 31 of Set 5| nanortalik\n",
      "Processing Record 32 of Set 5| tual\n",
      "Processing Record 33 of Set 5| mangrol\n",
      "Processing Record 34 of Set 5| kupang\n",
      "Processing Record 35 of Set 5| sovetskiy\n",
      "Processing Record 36 of Set 5| selma\n",
      "Processing Record 37 of Set 5| tumannyy\n",
      "City not found, skipping...\n",
      "Processing Record 38 of Set 5| kloulklubed\n",
      "Processing Record 39 of Set 5| raudeberg\n",
      "Processing Record 40 of Set 5| neuquen\n",
      "Processing Record 41 of Set 5| dori\n",
      "Processing Record 42 of Set 5| kamenskoye\n",
      "City not found, skipping...\n",
      "Processing Record 43 of Set 5| srikakulam\n",
      "Processing Record 44 of Set 5| bredasdorp\n",
      "Processing Record 45 of Set 5| murighiol\n",
      "Processing Record 46 of Set 5| zabkowice slaskie\n",
      "Processing Record 47 of Set 5| hovd\n",
      "Processing Record 48 of Set 5| kemin\n",
      "Processing Record 49 of Set 5| batagay-alyta\n",
      "Processing Record 1 of Set 6| jiazi\n",
      "Processing Record 2 of Set 6| deputatskiy\n",
      "Processing Record 3 of Set 6| bowen\n",
      "Processing Record 4 of Set 6| pevek\n",
      "Processing Record 5 of Set 6| beipiao\n",
      "Processing Record 6 of Set 6| klaksvik\n",
      "Processing Record 7 of Set 6| severo-kurilsk\n",
      "Processing Record 8 of Set 6| yumen\n",
      "Processing Record 9 of Set 6| dengfeng\n",
      "Processing Record 10 of Set 6| tocopilla\n",
      "Processing Record 11 of Set 6| broken hill\n",
      "Processing Record 12 of Set 6| sataua\n",
      "City not found, skipping...\n",
      "Processing Record 13 of Set 6| bac lieu\n",
      "Processing Record 14 of Set 6| atambua\n",
      "Processing Record 15 of Set 6| naifaru\n",
      "Processing Record 16 of Set 6| tiksi\n",
      "Processing Record 17 of Set 6| chuy\n",
      "Processing Record 18 of Set 6| sao joao da barra\n",
      "Processing Record 19 of Set 6| byron bay\n",
      "Processing Record 20 of Set 6| geraldton\n",
      "Processing Record 21 of Set 6| sur\n",
      "Processing Record 22 of Set 6| sao felix do xingu\n",
      "Processing Record 23 of Set 6| ust-kamchatsk\n",
      "City not found, skipping...\n",
      "Processing Record 24 of Set 6| pisco\n",
      "Processing Record 25 of Set 6| codrington\n",
      "Processing Record 26 of Set 6| jamestown\n",
      "Processing Record 27 of Set 6| tsihombe\n",
      "City not found, skipping...\n",
      "Processing Record 28 of Set 6| alofi\n",
      "Processing Record 29 of Set 6| kingori\n",
      "Processing Record 30 of Set 6| sobolevo\n",
      "Processing Record 31 of Set 6| ondorhaan\n",
      "City not found, skipping...\n",
      "Processing Record 32 of Set 6| bargal\n",
      "City not found, skipping...\n",
      "Processing Record 33 of Set 6| nyurba\n",
      "Processing Record 34 of Set 6| attawapiskat\n",
      "City not found, skipping...\n",
      "Processing Record 35 of Set 6| santa maria\n",
      "Processing Record 36 of Set 6| fram\n",
      "Processing Record 37 of Set 6| marsabit\n",
      "Processing Record 38 of Set 6| airai\n",
      "Processing Record 39 of Set 6| sioux lookout\n",
      "Processing Record 40 of Set 6| rawannawi\n",
      "City not found, skipping...\n",
      "Processing Record 41 of Set 6| sibolga\n",
      "Processing Record 42 of Set 6| victoria\n",
      "Processing Record 43 of Set 6| constitucion\n",
      "Processing Record 44 of Set 6| asifabad\n",
      "Processing Record 45 of Set 6| dingtao\n",
      "Processing Record 46 of Set 6| laguna\n",
      "Processing Record 47 of Set 6| nizhneyansk\n",
      "City not found, skipping...\n",
      "Processing Record 48 of Set 6| tsaratanana\n",
      "Processing Record 49 of Set 6| vila franca do campo\n",
      "Processing Record 1 of Set 7| aguimes\n",
      "Processing Record 2 of Set 7| morondava\n",
      "Processing Record 3 of Set 7| rio grande\n",
      "Processing Record 4 of Set 7| saint anthony\n",
      "Processing Record 5 of Set 7| yuty\n",
      "Processing Record 6 of Set 7| nanga eboko\n",
      "Processing Record 7 of Set 7| porangatu\n",
      "Processing Record 8 of Set 7| katsuura\n",
      "Processing Record 9 of Set 7| huilong\n",
      "Processing Record 10 of Set 7| rey bouba\n",
      "Processing Record 11 of Set 7| nador\n",
      "Processing Record 12 of Set 7| tyukhtet\n",
      "Processing Record 13 of Set 7| port hawkesbury\n",
      "Processing Record 14 of Set 7| bethanien\n",
      "Processing Record 15 of Set 7| tukrah\n",
      "Processing Record 16 of Set 7| karasburg\n",
      "Processing Record 17 of Set 7| palmer\n",
      "Processing Record 18 of Set 7| lapua\n",
      "Processing Record 19 of Set 7| acapulco\n",
      "Processing Record 20 of Set 7| aljezur\n",
      "Processing Record 21 of Set 7| port lincoln\n",
      "Processing Record 22 of Set 7| aklavik\n",
      "Processing Record 23 of Set 7| locri\n",
      "Processing Record 24 of Set 7| golspie\n",
      "Processing Record 25 of Set 7| urusha\n",
      "Processing Record 26 of Set 7| ukiah\n",
      "Processing Record 27 of Set 7| arys\n",
      "Processing Record 28 of Set 7| odienne\n",
      "Processing Record 29 of Set 7| plymouth\n",
      "Processing Record 30 of Set 7| ilulissat\n",
      "Processing Record 31 of Set 7| mathathane\n",
      "Processing Record 32 of Set 7| wanxian\n",
      "Processing Record 33 of Set 7| marigot\n",
      "Processing Record 34 of Set 7| spencer\n",
      "Processing Record 35 of Set 7| nangal\n",
      "Processing Record 36 of Set 7| arinos\n",
      "Processing Record 37 of Set 7| petropavlovsk-kamchatskiy\n",
      "Processing Record 38 of Set 7| kodinsk\n",
      "Processing Record 39 of Set 7| abnub\n",
      "Processing Record 40 of Set 7| santiago\n",
      "Processing Record 41 of Set 7| oranjemund\n",
      "Processing Record 42 of Set 7| nguiu\n",
      "City not found, skipping...\n",
      "Processing Record 43 of Set 7| amazar\n",
      "Processing Record 44 of Set 7| prachuap khiri khan\n",
      "Processing Record 45 of Set 7| mezhdurechensk\n",
      "Processing Record 46 of Set 7| taldan\n",
      "Processing Record 47 of Set 7| plettenberg bay\n",
      "Processing Record 48 of Set 7| mount gambier\n",
      "Processing Record 49 of Set 7| umm kaddadah\n",
      "Processing Record 1 of Set 8| kayes\n",
      "Processing Record 2 of Set 8| gravdal\n",
      "Processing Record 3 of Set 8| fort-shevchenko\n",
      "Processing Record 4 of Set 8| artesia\n",
      "Processing Record 5 of Set 8| sangmelima\n",
      "Processing Record 6 of Set 8| kasempa\n",
      "Processing Record 7 of Set 8| dingle\n",
      "Processing Record 8 of Set 8| changji\n",
      "Processing Record 9 of Set 8| khorixas\n",
      "Processing Record 10 of Set 8| fairbanks\n",
      "Processing Record 11 of Set 8| turukhansk\n",
      "Processing Record 12 of Set 8| bilokurakyne\n",
      "Processing Record 13 of Set 8| yerofey pavlovich\n",
      "Processing Record 14 of Set 8| molteno\n",
      "Processing Record 15 of Set 8| kushima\n",
      "Processing Record 16 of Set 8| mahebourg\n",
      "Processing Record 17 of Set 8| nizhnevartovsk\n",
      "Processing Record 18 of Set 8| tabuk\n",
      "Processing Record 19 of Set 8| provideniya\n",
      "Processing Record 20 of Set 8| itaituba\n",
      "Processing Record 21 of Set 8| ushtobe\n",
      "Processing Record 22 of Set 8| edgewater\n",
      "Processing Record 23 of Set 8| beringovskiy\n",
      "Processing Record 24 of Set 8| hammerfest\n",
      "Processing Record 25 of Set 8| dublin\n",
      "Processing Record 26 of Set 8| mahadday weyne\n",
      "City not found, skipping...\n",
      "Processing Record 27 of Set 8| parati\n",
      "Processing Record 28 of Set 8| sinkat\n",
      "City not found, skipping...\n",
      "Processing Record 29 of Set 8| sabha\n",
      "Processing Record 30 of Set 8| brandon\n",
      "Processing Record 31 of Set 8| cayenne\n",
      "Processing Record 32 of Set 8| xam nua\n",
      "Processing Record 33 of Set 8| lata\n",
      "Processing Record 34 of Set 8| falealupo\n",
      "City not found, skipping...\n",
      "Processing Record 35 of Set 8| nikel\n",
      "Processing Record 36 of Set 8| stanislav\n",
      "Processing Record 37 of Set 8| bandarbeyla\n",
      "Processing Record 38 of Set 8| zhanatas\n",
      "City not found, skipping...\n",
      "Processing Record 39 of Set 8| camacha\n",
      "Processing Record 40 of Set 8| san jose\n",
      "Processing Record 41 of Set 8| longlac\n",
      "City not found, skipping...\n",
      "Processing Record 42 of Set 8| kaitangata\n",
      "Processing Record 43 of Set 8| praya\n",
      "Processing Record 44 of Set 8| mount pleasant\n",
      "Processing Record 45 of Set 8| hervey bay\n",
      "Processing Record 46 of Set 8| maningrida\n",
      "Processing Record 47 of Set 8| faya\n",
      "Processing Record 48 of Set 8| leningradskiy\n"
     ]
    },
    {
     "name": "stdout",
     "output_type": "stream",
     "text": [
      "Processing Record 49 of Set 8| homer\n",
      "Processing Record 1 of Set 9| qumaym\n",
      "Processing Record 2 of Set 9| marawi\n",
      "Processing Record 3 of Set 9| ilinsko-podomskoye\n",
      "City not found, skipping...\n",
      "Processing Record 4 of Set 9| abu dhabi\n",
      "Processing Record 5 of Set 9| aktau\n",
      "Processing Record 6 of Set 9| kijang\n",
      "Processing Record 7 of Set 9| bathsheba\n",
      "Processing Record 8 of Set 9| vaitupu\n",
      "City not found, skipping...\n",
      "Processing Record 9 of Set 9| hambantota\n",
      "Processing Record 10 of Set 9| vao\n",
      "Processing Record 11 of Set 9| portland\n",
      "Processing Record 12 of Set 9| ayagoz\n",
      "Processing Record 13 of Set 9| pa sang\n",
      "Processing Record 14 of Set 9| lerwick\n",
      "Processing Record 15 of Set 9| smithers\n",
      "Processing Record 16 of Set 9| salinopolis\n",
      "Processing Record 17 of Set 9| daru\n",
      "Processing Record 18 of Set 9| ternate\n",
      "Processing Record 19 of Set 9| dubbo\n",
      "Processing Record 20 of Set 9| itarema\n",
      "Processing Record 21 of Set 9| igarka\n",
      "Processing Record 22 of Set 9| inveraray\n",
      "City not found, skipping...\n",
      "Processing Record 23 of Set 9| cururupu\n",
      "Processing Record 24 of Set 9| hofn\n",
      "Processing Record 25 of Set 9| pryazha\n",
      "Processing Record 26 of Set 9| omsukchan\n",
      "Processing Record 27 of Set 9| huangzhou\n",
      "Processing Record 28 of Set 9| jalu\n",
      "Processing Record 29 of Set 9| pilar\n",
      "Processing Record 30 of Set 9| ouegoa\n",
      "Processing Record 31 of Set 9| cuamba\n",
      "Processing Record 32 of Set 9| le port\n",
      "Processing Record 33 of Set 9| balkhash\n",
      "Processing Record 34 of Set 9| lukovetskiy\n",
      "Processing Record 35 of Set 9| mallapuram\n",
      "Processing Record 36 of Set 9| kiama\n",
      "Processing Record 37 of Set 9| belushya guba\n",
      "City not found, skipping...\n",
      "Processing Record 38 of Set 9| borovskoy\n",
      "Processing Record 39 of Set 9| palana\n",
      "Processing Record 40 of Set 9| goba\n",
      "Processing Record 41 of Set 9| watsa\n",
      "Processing Record 42 of Set 9| the valley\n",
      "Processing Record 43 of Set 9| reconquista\n",
      "Processing Record 44 of Set 9| shimoda\n",
      "Processing Record 45 of Set 9| barranca\n",
      "Processing Record 46 of Set 9| suntar\n",
      "Processing Record 47 of Set 9| miraflores\n",
      "Processing Record 48 of Set 9| ceres\n",
      "Processing Record 49 of Set 9| gafanha da encarnacao\n",
      "Processing Record 1 of Set 10| luderitz\n",
      "Processing Record 2 of Set 10| pacific grove\n",
      "Processing Record 3 of Set 10| giyani\n",
      "Processing Record 4 of Set 10| dicabisagan\n",
      "Processing Record 5 of Set 10| huarmey\n",
      "Processing Record 6 of Set 10| tondano\n",
      "Processing Record 7 of Set 10| goderich\n",
      "Processing Record 8 of Set 10| buraydah\n",
      "Processing Record 9 of Set 10| puerto pinasco\n",
      "City not found, skipping...\n",
      "Processing Record 10 of Set 10| yerbogachen\n",
      "Processing Record 11 of Set 10| mondolfo\n",
      "Processing Record 12 of Set 10| chaman\n",
      "Processing Record 13 of Set 10| baykit\n",
      "Processing Record 14 of Set 10| vanimo\n",
      "Processing Record 15 of Set 10| talsi\n",
      "Processing Record 16 of Set 10| hirara\n",
      "Processing Record 17 of Set 10| villa rica\n",
      "Processing Record 18 of Set 10| honningsvag\n",
      "Processing Record 19 of Set 10| siva\n",
      "Processing Record 20 of Set 10| smidovich\n",
      "Processing Record 21 of Set 10| ampanihy\n",
      "Processing Record 22 of Set 10| juifang\n",
      "City not found, skipping...\n",
      "Processing Record 23 of Set 10| konevo\n",
      "Processing Record 24 of Set 10| sorvag\n",
      "City not found, skipping...\n",
      "Processing Record 25 of Set 10| pahrump\n",
      "Processing Record 26 of Set 10| ulladulla\n",
      "Processing Record 27 of Set 10| vestmannaeyjar\n",
      "Processing Record 28 of Set 10| peniche\n",
      "Processing Record 29 of Set 10| george town\n",
      "Processing Record 30 of Set 10| odesskoye\n",
      "Processing Record 31 of Set 10| tabulbah\n",
      "City not found, skipping...\n",
      "Processing Record 32 of Set 10| tuatapere\n",
      "Processing Record 33 of Set 10| amarante do maranhao\n",
      "Processing Record 34 of Set 10| tarhunah\n",
      "City not found, skipping...\n",
      "Processing Record 35 of Set 10| tingrela\n",
      "City not found, skipping...\n",
      "Processing Record 36 of Set 10| vestbygda\n",
      "City not found, skipping...\n",
      "Processing Record 37 of Set 10| bundaberg\n",
      "Processing Record 38 of Set 10| dergachi\n",
      "Processing Record 39 of Set 10| westport\n",
      "Processing Record 40 of Set 10| kungurtug\n",
      "Processing Record 41 of Set 10| thunder bay\n",
      "Processing Record 42 of Set 10| pareora\n",
      "Processing Record 43 of Set 10| aleksandrov gay\n",
      "Processing Record 44 of Set 10| kaoma\n",
      "Processing Record 45 of Set 10| kostomuksha\n",
      "Processing Record 46 of Set 10| werda\n",
      "Processing Record 47 of Set 10| dhidhdhoo\n",
      "Processing Record 48 of Set 10| inhambane\n",
      "Processing Record 49 of Set 10| san ramon\n",
      "Processing Record 1 of Set 11| concepcion del oro\n",
      "Processing Record 2 of Set 11| ixtapa\n",
      "Processing Record 3 of Set 11| saint-joseph\n",
      "Processing Record 4 of Set 11| la ronge\n",
      "Processing Record 5 of Set 11| ferrol\n",
      "Processing Record 6 of Set 11| altamont\n",
      "Processing Record 7 of Set 11| balkanabat\n",
      "Processing Record 8 of Set 11| chokurdakh\n",
      "Processing Record 9 of Set 11| ashland\n",
      "Processing Record 10 of Set 11| samfya\n",
      "Processing Record 11 of Set 11| joshimath\n",
      "Processing Record 12 of Set 11| aswan\n",
      "Processing Record 13 of Set 11| requena\n",
      "Processing Record 14 of Set 11| hamadan\n",
      "Processing Record 15 of Set 11| inta\n",
      "Processing Record 16 of Set 11| nizhniy kuranakh\n",
      "Processing Record 17 of Set 11| susaki\n",
      "Processing Record 18 of Set 11| soyo\n",
      "Processing Record 19 of Set 11| kampot\n",
      "Processing Record 20 of Set 11| denpasar\n",
      "Processing Record 21 of Set 11| palma\n",
      "Processing Record 22 of Set 11| acajutla\n",
      "Processing Record 23 of Set 11| afmadu\n",
      "City not found, skipping...\n",
      "Processing Record 24 of Set 11| kalofer\n",
      "Processing Record 25 of Set 11| tarata\n",
      "Processing Record 26 of Set 11| kirkwall\n",
      "Processing Record 27 of Set 11| stawell\n",
      "Processing Record 28 of Set 11| porbandar\n",
      "Processing Record 29 of Set 11| santiago del estero\n",
      "Processing Record 30 of Set 11| iisalmi\n",
      "Processing Record 31 of Set 11| meulaboh\n",
      "Processing Record 32 of Set 11| vardo\n",
      "Processing Record 33 of Set 11| esperance\n",
      "Processing Record 34 of Set 11| tidore\n",
      "City not found, skipping...\n",
      "Processing Record 35 of Set 11| tatvan\n",
      "Processing Record 36 of Set 11| sturgis\n",
      "Processing Record 37 of Set 11| ambon\n",
      "Processing Record 38 of Set 11| ligayan\n",
      "Processing Record 39 of Set 11| yarmouth\n",
      "Processing Record 40 of Set 11| andrews\n",
      "Processing Record 41 of Set 11| takaungu\n",
      "Processing Record 42 of Set 11| lufilufi\n",
      "Processing Record 43 of Set 11| dawlatabad\n",
      "Processing Record 44 of Set 11| yashalta\n",
      "Processing Record 45 of Set 11| belle fourche\n",
      "Processing Record 46 of Set 11| rovaniemi\n",
      "Processing Record 47 of Set 11| dustlik\n",
      "Processing Record 48 of Set 11| riyadh\n",
      "Processing Record 49 of Set 11| gubkinskiy\n",
      "Processing Record 1 of Set 12| santo tomas\n",
      "Processing Record 2 of Set 12| ciudad bolivar\n",
      "Processing Record 3 of Set 12| pouembout\n",
      "Processing Record 4 of Set 12| canchungo\n",
      "Processing Record 5 of Set 12| kegayli\n",
      "City not found, skipping...\n",
      "Processing Record 6 of Set 12| mys shmidta\n",
      "City not found, skipping...\n",
      "Processing Record 7 of Set 12| ghanzi\n",
      "Processing Record 8 of Set 12| baft\n",
      "Processing Record 9 of Set 12| bani\n",
      "Processing Record 10 of Set 12| tapaua\n",
      "City not found, skipping...\n",
      "Processing Record 11 of Set 12| belaya gora\n",
      "Processing Record 12 of Set 12| chapleau\n",
      "Processing Record 13 of Set 12| namibe\n",
      "Processing Record 14 of Set 12| tamandare\n",
      "Processing Record 15 of Set 12| gagnoa\n",
      "Processing Record 16 of Set 12| duluth\n",
      "Processing Record 17 of Set 12| aizkraukle\n",
      "Processing Record 18 of Set 12| moerai\n",
      "Processing Record 19 of Set 12| tarauaca\n",
      "Processing Record 20 of Set 12| bonnyville\n",
      "Processing Record 21 of Set 12| bolungarvik\n",
      "City not found, skipping...\n",
      "Processing Record 22 of Set 12| kaeo\n",
      "Processing Record 23 of Set 12| bilma\n",
      "Processing Record 24 of Set 12| san cristobal\n",
      "Processing Record 25 of Set 12| brae\n",
      "Processing Record 26 of Set 12| purpe\n",
      "Processing Record 27 of Set 12| adrar\n",
      "Processing Record 28 of Set 12| aurdal\n",
      "Processing Record 29 of Set 12| joao camara\n",
      "Processing Record 30 of Set 12| dzhebariki-khaya\n",
      "Processing Record 31 of Set 12| dickinson\n",
      "Processing Record 32 of Set 12| viedma\n",
      "Processing Record 33 of Set 12| kachug\n",
      "Processing Record 34 of Set 12| san carlos\n",
      "Processing Record 35 of Set 12| buala\n",
      "Processing Record 36 of Set 12| richards bay\n",
      "Processing Record 37 of Set 12| bur gabo\n",
      "City not found, skipping...\n",
      "Processing Record 38 of Set 12| banjar\n",
      "Processing Record 39 of Set 12| havre-saint-pierre\n",
      "Processing Record 40 of Set 12| solnechnyy\n",
      "Processing Record 41 of Set 12| maniitsoq\n",
      "Processing Record 42 of Set 12| koslan\n"
     ]
    },
    {
     "name": "stdout",
     "output_type": "stream",
     "text": [
      "Processing Record 43 of Set 12| atbasar\n",
      "Processing Record 44 of Set 12| polunochnoye\n",
      "Processing Record 45 of Set 12| barstow\n",
      "Processing Record 46 of Set 12| nouadhibou\n",
      "Processing Record 47 of Set 12| mamallapuram\n",
      "Processing Record 48 of Set 12| matagami\n",
      "Processing Record 49 of Set 12| ankang\n",
      "Processing Record 1 of Set 13| makamba\n",
      "Processing Record 2 of Set 13| ilhabela\n",
      "Processing Record 3 of Set 13| gharghoda\n",
      "Processing Record 4 of Set 13| quattro castella\n",
      "Processing Record 5 of Set 13| jacareacanga\n",
      "Processing Record 6 of Set 13| usinsk\n",
      "Processing Record 7 of Set 13| henties bay\n",
      "Processing Record 8 of Set 13| vanavara\n",
      "Processing Record 9 of Set 13| havoysund\n",
      "Processing Record 10 of Set 13| madang\n",
      "Processing Record 11 of Set 13| balikpapan\n",
      "Processing Record 12 of Set 13| syracuse\n",
      "Processing Record 13 of Set 13| fort nelson\n",
      "Processing Record 14 of Set 13| canico\n",
      "Processing Record 15 of Set 13| nioki\n",
      "Processing Record 16 of Set 13| san andres\n",
      "Processing Record 17 of Set 13| vostok\n",
      "Processing Record 18 of Set 13| blythe\n",
      "Processing Record 19 of Set 13| puerto padre\n",
      "Processing Record 20 of Set 13| goteborg\n",
      "City not found, skipping...\n",
      "Processing Record 21 of Set 13| kanigoro\n",
      "-----------------------------\n",
      "Data Retrieval Complete\n",
      "-----------------------------\n"
     ]
    }
   ],
   "source": [
    "# Define Base URL\n",
    "base_url = \"http://api.openweathermap.org/data/2.5/weather?\"\n",
    "\n",
    "# building URL by adding Key and query (not query values - yet)\n",
    "query_url = f\"{base_url}appid={weather_api_key}&q=\" \n",
    "\n",
    "print(\"Beginning Data Retrieval\") \n",
    "print(\"-----------------------------\") \n",
    "\n",
    "# Looping\n",
    "count = 0\n",
    "set_count = 1\n",
    "\n",
    "for index, row in city_weather.iterrows(): \n",
    "    city_name = row[\"City\"]\n",
    "    weather_response = requests.get(query_url + city_name)\n",
    "    weather_json = weather_response.json()\n",
    "    count +=1\n",
    "     \n",
    "    if count == 50:\n",
    "        count = 1 \n",
    "        set_count += 1 \n",
    "\n",
    "# Try Catch\n",
    "    try:\n",
    "        print(f\"Processing Record {count} of Set {set_count}| {city_name}\") \n",
    "        \n",
    "        city_weather.loc[index,'Lat'] = weather_json['coord']['lat']\n",
    "        city_weather.loc[index,'Lng'] = weather_json['coord']['lon']\n",
    "        city_weather.loc[index,'Max Temp'] = weather_json['main']['temp_max']\n",
    "        city_weather.loc[index,'Humidity'] = weather_json['main']['humidity']\n",
    "        city_weather.loc[index,'Cloudiness'] = weather_json['clouds']['all']\n",
    "        city_weather.loc[index,'Wind Speed'] = weather_json['wind']['speed']\n",
    "        city_weather.loc[index,'Country'] = weather_json['sys']['country']\n",
    "        city_weather.loc[index,'Date'] = weather_json['dt']\n",
    "    \n",
    "    except (KeyError, IndexError):\n",
    "        print(f\"City not found, skipping...\")\n",
    "  \n",
    "print(\"-----------------------------\") \n",
    "print(\"Data Retrieval Complete\") \n",
    "print(\"-----------------------------\") "
   ]
  },
  {
   "cell_type": "markdown",
   "metadata": {},
   "source": [
    "### Convert Raw Data to DataFrame\n",
    "* Export the city data into a .csv.\n",
    "* Display the DataFrame"
   ]
  },
  {
   "cell_type": "code",
   "execution_count": 7,
   "metadata": {},
   "outputs": [
    {
     "data": {
      "text/html": [
       "<div>\n",
       "<style scoped>\n",
       "    .dataframe tbody tr th:only-of-type {\n",
       "        vertical-align: middle;\n",
       "    }\n",
       "\n",
       "    .dataframe tbody tr th {\n",
       "        vertical-align: top;\n",
       "    }\n",
       "\n",
       "    .dataframe thead th {\n",
       "        text-align: right;\n",
       "    }\n",
       "</style>\n",
       "<table border=\"1\" class=\"dataframe\">\n",
       "  <thead>\n",
       "    <tr style=\"text-align: right;\">\n",
       "      <th></th>\n",
       "      <th>City</th>\n",
       "      <th>Lat</th>\n",
       "      <th>Lng</th>\n",
       "      <th>Max Temp</th>\n",
       "      <th>Humidity</th>\n",
       "      <th>Cloudiness</th>\n",
       "      <th>Wind Speed</th>\n",
       "      <th>Country</th>\n",
       "      <th>Date</th>\n",
       "    </tr>\n",
       "  </thead>\n",
       "  <tbody>\n",
       "    <tr>\n",
       "      <th>0</th>\n",
       "      <td>upernavik</td>\n",
       "      <td>72.79</td>\n",
       "      <td>-56.15</td>\n",
       "      <td>46.634</td>\n",
       "      <td>68.0</td>\n",
       "      <td>100.0</td>\n",
       "      <td>6.46</td>\n",
       "      <td>GL</td>\n",
       "      <td>08-18-2020</td>\n",
       "    </tr>\n",
       "    <tr>\n",
       "      <th>1</th>\n",
       "      <td>port alfred</td>\n",
       "      <td>-33.59</td>\n",
       "      <td>26.89</td>\n",
       "      <td>54.734</td>\n",
       "      <td>69.0</td>\n",
       "      <td>100.0</td>\n",
       "      <td>14.07</td>\n",
       "      <td>ZA</td>\n",
       "      <td>08-18-2020</td>\n",
       "    </tr>\n",
       "    <tr>\n",
       "      <th>2</th>\n",
       "      <td>crotone</td>\n",
       "      <td>39.09</td>\n",
       "      <td>17.12</td>\n",
       "      <td>79.430</td>\n",
       "      <td>53.0</td>\n",
       "      <td>11.0</td>\n",
       "      <td>3.24</td>\n",
       "      <td>IT</td>\n",
       "      <td>08-18-2020</td>\n",
       "    </tr>\n",
       "    <tr>\n",
       "      <th>3</th>\n",
       "      <td>komsomolskiy</td>\n",
       "      <td>40.43</td>\n",
       "      <td>71.72</td>\n",
       "      <td>66.200</td>\n",
       "      <td>68.0</td>\n",
       "      <td>45.0</td>\n",
       "      <td>2.10</td>\n",
       "      <td>UZ</td>\n",
       "      <td>08-18-2020</td>\n",
       "    </tr>\n",
       "    <tr>\n",
       "      <th>4</th>\n",
       "      <td>kruisfontein</td>\n",
       "      <td>-34.00</td>\n",
       "      <td>24.73</td>\n",
       "      <td>48.902</td>\n",
       "      <td>79.0</td>\n",
       "      <td>79.0</td>\n",
       "      <td>8.67</td>\n",
       "      <td>ZA</td>\n",
       "      <td>08-18-2020</td>\n",
       "    </tr>\n",
       "    <tr>\n",
       "      <th>...</th>\n",
       "      <td>...</td>\n",
       "      <td>...</td>\n",
       "      <td>...</td>\n",
       "      <td>...</td>\n",
       "      <td>...</td>\n",
       "      <td>...</td>\n",
       "      <td>...</td>\n",
       "      <td>...</td>\n",
       "      <td>...</td>\n",
       "    </tr>\n",
       "    <tr>\n",
       "      <th>603</th>\n",
       "      <td>san andres</td>\n",
       "      <td>12.58</td>\n",
       "      <td>-81.70</td>\n",
       "      <td>78.800</td>\n",
       "      <td>94.0</td>\n",
       "      <td>75.0</td>\n",
       "      <td>2.60</td>\n",
       "      <td>CO</td>\n",
       "      <td>08-18-2020</td>\n",
       "    </tr>\n",
       "    <tr>\n",
       "      <th>604</th>\n",
       "      <td>vostok</td>\n",
       "      <td>46.49</td>\n",
       "      <td>135.88</td>\n",
       "      <td>57.452</td>\n",
       "      <td>100.0</td>\n",
       "      <td>94.0</td>\n",
       "      <td>0.52</td>\n",
       "      <td>RU</td>\n",
       "      <td>08-18-2020</td>\n",
       "    </tr>\n",
       "    <tr>\n",
       "      <th>605</th>\n",
       "      <td>blythe</td>\n",
       "      <td>33.61</td>\n",
       "      <td>-114.60</td>\n",
       "      <td>114.998</td>\n",
       "      <td>15.0</td>\n",
       "      <td>18.0</td>\n",
       "      <td>0.89</td>\n",
       "      <td>US</td>\n",
       "      <td>08-18-2020</td>\n",
       "    </tr>\n",
       "    <tr>\n",
       "      <th>606</th>\n",
       "      <td>puerto padre</td>\n",
       "      <td>21.20</td>\n",
       "      <td>-76.60</td>\n",
       "      <td>78.800</td>\n",
       "      <td>83.0</td>\n",
       "      <td>75.0</td>\n",
       "      <td>5.10</td>\n",
       "      <td>CU</td>\n",
       "      <td>08-18-2020</td>\n",
       "    </tr>\n",
       "    <tr>\n",
       "      <th>608</th>\n",
       "      <td>kanigoro</td>\n",
       "      <td>-8.13</td>\n",
       "      <td>112.22</td>\n",
       "      <td>70.196</td>\n",
       "      <td>87.0</td>\n",
       "      <td>80.0</td>\n",
       "      <td>2.63</td>\n",
       "      <td>ID</td>\n",
       "      <td>08-18-2020</td>\n",
       "    </tr>\n",
       "  </tbody>\n",
       "</table>\n",
       "<p>562 rows × 9 columns</p>\n",
       "</div>"
      ],
      "text/plain": [
       "             City    Lat     Lng  Max Temp  Humidity  Cloudiness  Wind Speed  \\\n",
       "0       upernavik  72.79  -56.15    46.634      68.0       100.0        6.46   \n",
       "1     port alfred -33.59   26.89    54.734      69.0       100.0       14.07   \n",
       "2         crotone  39.09   17.12    79.430      53.0        11.0        3.24   \n",
       "3    komsomolskiy  40.43   71.72    66.200      68.0        45.0        2.10   \n",
       "4    kruisfontein -34.00   24.73    48.902      79.0        79.0        8.67   \n",
       "..            ...    ...     ...       ...       ...         ...         ...   \n",
       "603    san andres  12.58  -81.70    78.800      94.0        75.0        2.60   \n",
       "604        vostok  46.49  135.88    57.452     100.0        94.0        0.52   \n",
       "605        blythe  33.61 -114.60   114.998      15.0        18.0        0.89   \n",
       "606  puerto padre  21.20  -76.60    78.800      83.0        75.0        5.10   \n",
       "608      kanigoro  -8.13  112.22    70.196      87.0        80.0        2.63   \n",
       "\n",
       "    Country        Date  \n",
       "0        GL  08-18-2020  \n",
       "1        ZA  08-18-2020  \n",
       "2        IT  08-18-2020  \n",
       "3        UZ  08-18-2020  \n",
       "4        ZA  08-18-2020  \n",
       "..      ...         ...  \n",
       "603      CO  08-18-2020  \n",
       "604      RU  08-18-2020  \n",
       "605      US  08-18-2020  \n",
       "606      CU  08-18-2020  \n",
       "608      ID  08-18-2020  \n",
       "\n",
       "[562 rows x 9 columns]"
      ]
     },
     "execution_count": 7,
     "metadata": {},
     "output_type": "execute_result"
    }
   ],
   "source": [
    "#making columns numeric\n",
    "city_weather[\"Lat\"] = pd.to_numeric(city_weather[\"Lat\"])\n",
    "city_weather[\"Lng\"] = pd.to_numeric(city_weather[\"Lng\"])\n",
    "city_weather[\"Max Temp\"] = pd.to_numeric(city_weather[\"Max Temp\"])\n",
    "city_weather[\"Max Temp\"] = ((city_weather[\"Max Temp\"] -273.15) * 9/5 +32) #converting Kelvin to Fahrenheit # Also could have used units = imperial method\n",
    "city_weather[\"Humidity\"] = pd.to_numeric(city_weather[\"Humidity\"])\n",
    "city_weather[\"Cloudiness\"] = pd.to_numeric(city_weather[\"Cloudiness\"])\n",
    "city_weather[\"Wind Speed\"] = pd.to_numeric(city_weather[\"Wind Speed\"])\n",
    "\n",
    "#formatting date\n",
    "city_weather[\"Date\"] = pd.to_datetime(city_weather[\"Date\"], unit = \"s\")\n",
    "city_weather['Date'] = pd.to_datetime(city_weather['Date']) \n",
    "city_weather['Date'] = city_weather['Date'].dt.strftime('%m-%d-%Y') \n",
    "\n",
    "# Dropping NANs\n",
    "city_weather_no_null = city_weather.dropna(how = \"any\")\n",
    "city_weather_no_null.to_csv(\"city_weather.csv\", index=False)\n",
    "city_weather_no_null"
   ]
  },
  {
   "cell_type": "markdown",
   "metadata": {},
   "source": [
    "## Inspect the data and remove the cities where the humidity > 100%.\n",
    "----\n",
    "Skip this step if there are no cities that have humidity > 100%. "
   ]
  },
  {
   "cell_type": "code",
   "execution_count": 8,
   "metadata": {},
   "outputs": [
    {
     "name": "stdout",
     "output_type": "stream",
     "text": [
      "Empty DataFrame\n",
      "Columns: [City, Lat, Lng, Max Temp, Humidity, Cloudiness, Wind Speed, Country, Date]\n",
      "Index: []\n",
      "Skipping since no cities have humidity > 100%\n"
     ]
    }
   ],
   "source": [
    "city_weather_no_null_humidity = city_weather_no_null.loc[city_weather_no_null['Humidity'] > 100, ]\n",
    "print(city_weather_no_null_humidity)\n",
    "print(f\"Skipping since no cities have humidity > 100%\")"
   ]
  },
  {
   "cell_type": "code",
   "execution_count": 9,
   "metadata": {},
   "outputs": [
    {
     "name": "stdout",
     "output_type": "stream",
     "text": [
      "Skipping since no cities have humidity > 100%\n"
     ]
    }
   ],
   "source": [
    "#  Get the indices of cities that have humidity over 100%.\n",
    "print(f\"Skipping since no cities have humidity > 100%\")"
   ]
  },
  {
   "cell_type": "code",
   "execution_count": 10,
   "metadata": {},
   "outputs": [
    {
     "name": "stdout",
     "output_type": "stream",
     "text": [
      "Skipping since no cities have humidity > 100%\n"
     ]
    }
   ],
   "source": [
    "# Make a new DataFrame equal to the city data to drop all humidity outliers by index.\n",
    "# Passing \"inplace=False\" will make a copy of the city_data DataFrame, which we call \"clean_city_data\".\n",
    "print(f\"Skipping since no cities have humidity > 100%\")"
   ]
  },
  {
   "cell_type": "code",
   "execution_count": 11,
   "metadata": {},
   "outputs": [
    {
     "name": "stdout",
     "output_type": "stream",
     "text": [
      "Already exported to CSV in step \"In [11]:\"\n"
     ]
    }
   ],
   "source": [
    "# Extract relevant fields from the data frame\n",
    "# Export the City_Data into a csv\n",
    "print('Already exported to CSV in step \"In [11]:\"') "
   ]
  },
  {
   "cell_type": "markdown",
   "metadata": {},
   "source": [
    "## Plotting the Data\n",
    "* Use proper labeling of the plots using plot titles (including date of analysis) and axes labels.\n",
    "* Save the plotted figures as .pngs."
   ]
  },
  {
   "cell_type": "markdown",
   "metadata": {},
   "source": [
    "## Latitude vs. Temperature Plot"
   ]
  },
  {
   "cell_type": "code",
   "execution_count": 12,
   "metadata": {
    "scrolled": true
   },
   "outputs": [
    {
     "data": {
      "image/png": "[encoded data removed]",
      "text/plain": [
       "<Figure size 432x288 with 1 Axes>"
      ]
     },
     "metadata": {
      "needs_background": "light"
     },
     "output_type": "display_data"
    }
   ],
   "source": [
    "# Defining date variable, so date in chart updates to the date of the URL call\n",
    "date = city_weather.loc[1,'Date']\n",
    "\n",
    "plt.grid()\n",
    "plt.scatter(city_weather_no_null['Lat'], city_weather_no_null['Max Temp'], facecolors=\"royalblue\", edgecolors=\"black\")\n",
    "plt.xlabel(\"Latitude\")\n",
    "plt.ylabel(\"Max Temperature (F)\")\n",
    "plt.title(f\"City Latitude vs Max Temperature {date}\")\n",
    "plt.savefig('lat_temp_all.png')"
   ]
  },
  {
   "cell_type": "markdown",
   "metadata": {},
   "source": [
    "Temperatures tend to be higher the closer the city is to the equator."
   ]
  },
  {
   "cell_type": "markdown",
   "metadata": {},
   "source": [
    "## Latitude vs. Humidity Plot"
   ]
  },
  {
   "cell_type": "code",
   "execution_count": 13,
   "metadata": {},
   "outputs": [
    {
     "data": {
      "image/png": "[encoded data removed]",
      "text/plain": [
       "<Figure size 432x288 with 1 Axes>"
      ]
     },
     "metadata": {
      "needs_background": "light"
     },
     "output_type": "display_data"
    }
   ],
   "source": [
    "date = city_weather.loc[1,'Date']\n",
    "plt.grid()\n",
    "plt.scatter(city_weather_no_null['Lat'], city_weather_no_null['Humidity'], facecolors=\"royalblue\", edgecolors=\"black\")\n",
    "plt.xlabel(\"Latitude\")\n",
    "plt.ylabel(\"Humidity (%)\")\n",
    "plt.title(f\"City Latitude vs Humidity {date}\")\n",
    "plt.savefig('lat_hum_all.png')"
   ]
  },
  {
   "cell_type": "markdown",
   "metadata": {},
   "source": [
    "Humidity was high for the majority of the cities queried regardless of latitude."
   ]
  },
  {
   "cell_type": "markdown",
   "metadata": {},
   "source": [
    "## Latitude vs. Cloudiness Plot"
   ]
  },
  {
   "cell_type": "code",
   "execution_count": 14,
   "metadata": {},
   "outputs": [
    {
     "data": {
      "image/png": "[encoded data removed]",
      "text/plain": [
       "<Figure size 432x288 with 1 Axes>"
      ]
     },
     "metadata": {
      "needs_background": "light"
     },
     "output_type": "display_data"
    }
   ],
   "source": [
    "date = city_weather.loc[1,'Date']\n",
    "plt.grid()\n",
    "plt.scatter(city_weather_no_null['Lat'], city_weather_no_null['Cloudiness'], facecolors=\"royalblue\", edgecolors=\"black\")\n",
    "plt.xlabel(\"Latitude\")\n",
    "plt.ylabel(\"Cloudiness (%)\")\n",
    "plt.title(f\"City Latitude vs Cloudiness {date}\")\n",
    "plt.savefig('lat_cloud_all.png')"
   ]
  },
  {
   "cell_type": "markdown",
   "metadata": {},
   "source": [
    "While the correlation between cloudiness and latitude was low, there seemed to be some clustering from this data call snapshot in time."
   ]
  },
  {
   "cell_type": "markdown",
   "metadata": {},
   "source": [
    "## Latitude vs. Wind Speed Plot"
   ]
  },
  {
   "cell_type": "code",
   "execution_count": 15,
   "metadata": {},
   "outputs": [
    {
     "data": {
      "image/png": "[encoded data removed]",
      "text/plain": [
       "<Figure size 432x288 with 1 Axes>"
      ]
     },
     "metadata": {
      "needs_background": "light"
     },
     "output_type": "display_data"
    }
   ],
   "source": [
    "date = city_weather.loc[1,'Date']\n",
    "plt.grid()\n",
    "plt.scatter(city_weather_no_null['Lat'], city_weather_no_null['Wind Speed'], facecolors=\"royalblue\", edgecolors=\"black\")\n",
    "plt.xlabel(\"Latitude\")\n",
    "plt.ylabel(\"Wind Speed (mph)\")\n",
    "plt.title(f\"City Latitude vs Cloudiness {date}\")\n",
    "plt.savefig('lat_wind_all.png')"
   ]
  },
  {
   "cell_type": "markdown",
   "metadata": {},
   "source": [
    "Across the globe, wind speed was generally lower than 8 mph."
   ]
  },
  {
   "cell_type": "markdown",
   "metadata": {},
   "source": [
    "## Linear Regression"
   ]
  },
  {
   "cell_type": "code",
   "execution_count": null,
   "metadata": {},
   "outputs": [],
   "source": [
    "# OPTIONAL: Create a function to create Linear Regression plots"
   ]
  },
  {
   "cell_type": "code",
   "execution_count": null,
   "metadata": {},
   "outputs": [],
   "source": [
    "# Create Northern and Southern Hemisphere DataFrames"
   ]
  },
  {
   "cell_type": "markdown",
   "metadata": {},
   "source": [
    "####  Northern Hemisphere - Max Temp vs. Latitude Linear Regression"
   ]
  },
  {
   "cell_type": "code",
   "execution_count": 16,
   "metadata": {},
   "outputs": [
    {
     "name": "stdout",
     "output_type": "stream",
     "text": [
      "R Val is 0.4699692798846455\n"
     ]
    },
    {
     "data": {
      "image/png": "[encoded data removed]",
      "text/plain": [
       "<Figure size 432x288 with 1 Axes>"
      ]
     },
     "metadata": {
      "needs_background": "light"
     },
     "output_type": "display_data"
    }
   ],
   "source": [
    "# Defining date variable, so date in chart updates to the date of the URL call\n",
    "date = city_weather.loc[1,'Date']\n",
    "\n",
    "north_hem = city_weather_no_null.loc[city_weather_no_null['Lat'] > 0,]\n",
    "\n",
    "#plotting and formatting scatter\n",
    "plt.scatter(north_hem['Lat'], north_hem['Max Temp'], marker=\"o\", facecolors=\"dodgerblue\")\n",
    "\n",
    "#inserting chart labels\n",
    "plt.xlabel(\"Latitude\")\n",
    "plt.ylabel(\"Max Temp (F)\")\n",
    "plt.title(f\"Northern Hemisphere - Max Temp vs. Latitude Linear Regression {date}\")\n",
    "\n",
    "#defining values\n",
    "x_values = north_hem['Lat']\n",
    "y_values = north_hem['Max Temp']\n",
    "\n",
    "#defining stats\n",
    "(slope, intercept, rvalue, pvalue, stderr) = linregress(x_values, y_values)\n",
    "\n",
    "#Defining regression\n",
    "regress_values = x_values * slope + intercept\n",
    "line_eq = \"y = \" + str(round(slope,2)) + \"x + \" + str(round(intercept,2))\n",
    "\n",
    "#Plotting line regress\n",
    "plt.plot(x_values,regress_values,\"r-\")\n",
    "\n",
    "#Printing R Value\n",
    "print(f\"R Val is {rvalue**2}\")\n",
    "\n",
    "#Plotting line equation on the graph\n",
    "plt.annotate(line_eq,(45,90),fontsize=15,color=\"red\") #(20,30) is x y coordinate on graph where line will start printing\n",
    "plt.savefig('north_temp.png')"
   ]
  },
  {
   "cell_type": "markdown",
   "metadata": {},
   "source": [
    "There was a moderate correlation (R-Value around .46) between Northern Max Temp and Latitude."
   ]
  },
  {
   "cell_type": "markdown",
   "metadata": {},
   "source": [
    "####  Southern Hemisphere - Max Temp vs. Latitude Linear Regression"
   ]
  },
  {
   "cell_type": "code",
   "execution_count": 17,
   "metadata": {},
   "outputs": [
    {
     "name": "stdout",
     "output_type": "stream",
     "text": [
      "R Val is 0.6432060117654602\n"
     ]
    },
    {
     "data": {
      "image/png": "[encoded data removed]",
      "text/plain": [
       "<Figure size 432x288 with 1 Axes>"
      ]
     },
     "metadata": {
      "needs_background": "light"
     },
     "output_type": "display_data"
    }
   ],
   "source": [
    "# Defining date variable, so date in chart updates to the date of the URL call\n",
    "date = city_weather.loc[1,'Date']\n",
    "\n",
    "south_hem = city_weather_no_null.loc[city_weather_no_null['Lat'] < 0,]\n",
    "\n",
    "#plotting and formatting scatter\n",
    "plt.scatter(south_hem['Lat'], south_hem['Max Temp'], marker=\"o\", facecolors=\"dodgerblue\")\n",
    "\n",
    "#inserting chart labels\n",
    "plt.xlabel(\"Latitude\")\n",
    "plt.ylabel(\"Max Temp (F)\")\n",
    "plt.title(f\"Southern Hemisphere - Max Temp vs. Latitude Linear Regression {date}\")\n",
    "\n",
    "#defining values\n",
    "x_values = south_hem['Lat']\n",
    "y_values = south_hem['Max Temp']\n",
    "\n",
    "#defining stats\n",
    "(slope, intercept, rvalue, pvalue, stderr) = linregress(x_values, y_values)\n",
    "\n",
    "#Defining regression\n",
    "regress_values = x_values * slope + intercept\n",
    "line_eq = \"y = \" + str(round(slope,2)) + \"x + \" + str(round(intercept,2))\n",
    "\n",
    "#Plotting line regress\n",
    "plt.plot(x_values,regress_values,\"r-\")\n",
    "\n",
    "#Printing R Value\n",
    "print(f\"R Val is {rvalue**2}\")\n",
    "\n",
    "#Plotting line equation on the graph\n",
    "plt.annotate(line_eq,(-55,80),fontsize=15,color=\"red\") #(20,30) is x y coordinate on graph where line will start printing\n",
    "plt.savefig('south_temp.png')"
   ]
  },
  {
   "cell_type": "markdown",
   "metadata": {},
   "source": [
    "There was a moderate to strong correlation between Southern Max Temp and Latitude."
   ]
  },
  {
   "cell_type": "markdown",
   "metadata": {},
   "source": [
    "Northern Hemisphere - Humidity (%) vs. Latitude Linear Regression"
   ]
  },
  {
   "cell_type": "code",
   "execution_count": 18,
   "metadata": {},
   "outputs": [
    {
     "name": "stdout",
     "output_type": "stream",
     "text": [
      "R Val is 8.681702321063366e-05\n"
     ]
    },
    {
     "data": {
      "image/png": "[encoded data removed]",
      "text/plain": [
       "<Figure size 432x288 with 1 Axes>"
      ]
     },
     "metadata": {
      "needs_background": "light"
     },
     "output_type": "display_data"
    }
   ],
   "source": [
    "date = city_weather.loc[1,'Date']\n",
    "\n",
    "north_hem = city_weather_no_null.loc[city_weather_no_null['Lat'] > 0,]\n",
    "\n",
    "#plotting and formatting scatter\n",
    "plt.scatter(north_hem['Lat'], north_hem['Humidity'], marker=\"o\", facecolors=\"dodgerblue\")\n",
    "\n",
    "#inserting chart labels\n",
    "plt.xlabel(\"Latitude\")\n",
    "plt.ylabel(\"Humidity (%)\")\n",
    "plt.title(f\"Northern Hemisphere - Humidity (%) vs. Latitude Linear Regression {date}\")\n",
    "\n",
    "#defining values\n",
    "x_values = north_hem['Lat']\n",
    "y_values = north_hem['Humidity']\n",
    "\n",
    "#defining stats\n",
    "(slope, intercept, rvalue, pvalue, stderr) = linregress(x_values, y_values)\n",
    "\n",
    "#Defining regression\n",
    "regress_values = x_values * slope + intercept\n",
    "line_eq = \"y = \" + str(round(slope,2)) + \"x + \" + str(round(intercept,2))\n",
    "\n",
    "#Plotting line regress\n",
    "plt.plot(x_values,regress_values,\"r-\")\n",
    "\n",
    "#Printing R Value\n",
    "print(f\"R Val is {rvalue**2}\")\n",
    "\n",
    "#Plotting line equation on the graph\n",
    "plt.annotate(line_eq,(45,10),fontsize=15,color=\"red\") #(20,30) is x y coordinate on graph where line will start printing\n",
    "plt.savefig('north_hum.png')"
   ]
  },
  {
   "cell_type": "markdown",
   "metadata": {},
   "source": [
    "There was very little to practically no correlation between Northern humidity and latitude."
   ]
  },
  {
   "cell_type": "markdown",
   "metadata": {},
   "source": [
    "####  Southern Hemisphere - Humidity (%) vs. Latitude Linear Regression"
   ]
  },
  {
   "cell_type": "code",
   "execution_count": 19,
   "metadata": {},
   "outputs": [
    {
     "name": "stdout",
     "output_type": "stream",
     "text": [
      "R Val is 0.002079191370750113\n"
     ]
    },
    {
     "data": {
      "image/png": "[encoded data removed]",
      "text/plain": [
       "<Figure size 432x288 with 1 Axes>"
      ]
     },
     "metadata": {
      "needs_background": "light"
     },
     "output_type": "display_data"
    }
   ],
   "source": [
    "date = city_weather.loc[1,'Date']\n",
    "\n",
    "south_hem = city_weather_no_null.loc[city_weather_no_null['Lat'] < 0,]\n",
    "\n",
    "#plotting and formatting scatter\n",
    "plt.scatter(south_hem['Lat'], south_hem['Humidity'], marker=\"o\", facecolors=\"dodgerblue\")\n",
    "\n",
    "#inserting chart labels\n",
    "plt.xlabel(\"Latitude\")\n",
    "plt.ylabel(\"Humidity (%)\")\n",
    "plt.title(f\"Southern Hemisphere - Humidity (%) vs. Latitude Linear Regression {date}\")\n",
    "\n",
    "#defining values\n",
    "x_values = south_hem['Lat']\n",
    "y_values = south_hem['Humidity']\n",
    "\n",
    "#defining stats\n",
    "(slope, intercept, rvalue, pvalue, stderr) = linregress(x_values, y_values)\n",
    "\n",
    "#Defining regression\n",
    "regress_values = x_values * slope + intercept\n",
    "line_eq = \"y = \" + str(round(slope,2)) + \"x + \" + str(round(intercept,2))\n",
    "\n",
    "#Plotting line regress\n",
    "plt.plot(x_values,regress_values,\"r-\")\n",
    "\n",
    "#Printing R Value\n",
    "print(f\"R Val is {rvalue**2}\")\n",
    "\n",
    "#Plotting line equation on the graph\n",
    "plt.annotate(line_eq,(-55,11),fontsize=15,color=\"red\") #(20,30) is x y coordinate on graph where line will start printing\n",
    "plt.savefig('south_hum.png')"
   ]
  },
  {
   "cell_type": "markdown",
   "metadata": {},
   "source": [
    "There was very little to practically no correlation between Southern humidity and latitude."
   ]
  },
  {
   "cell_type": "markdown",
   "metadata": {},
   "source": [
    "####  Northern Hemisphere - Cloudiness (%) vs. Latitude Linear Regression"
   ]
  },
  {
   "cell_type": "code",
   "execution_count": 20,
   "metadata": {},
   "outputs": [
    {
     "name": "stdout",
     "output_type": "stream",
     "text": [
      "R Val is 0.00152053551239976\n"
     ]
    },
    {
     "data": {
      "image/png": "[encoded data removed]",
      "text/plain": [
       "<Figure size 432x288 with 1 Axes>"
      ]
     },
     "metadata": {
      "needs_background": "light"
     },
     "output_type": "display_data"
    }
   ],
   "source": [
    "date = city_weather.loc[1,'Date']\n",
    "\n",
    "north_hem = city_weather_no_null.loc[city_weather_no_null['Lat'] > 0,]\n",
    "\n",
    "#plotting and formatting scatter\n",
    "plt.scatter(north_hem['Lat'], north_hem['Cloudiness'], marker=\"o\", facecolors=\"dodgerblue\")\n",
    "\n",
    "#inserting chart labels\n",
    "plt.xlabel(\"Latitude\")\n",
    "plt.ylabel(\"Cloudiness (%)\")\n",
    "plt.title(f\"Northern Hemisphere - Cloudiness (%) vs. Latitude Linear Regression{date}\")\n",
    "\n",
    "#defining values\n",
    "x_values = north_hem['Lat']\n",
    "y_values = north_hem['Cloudiness']\n",
    "\n",
    "#defining stats\n",
    "(slope, intercept, rvalue, pvalue, stderr) = linregress(x_values, y_values)\n",
    "\n",
    "#Defining regression\n",
    "regress_values = x_values * slope + intercept\n",
    "line_eq = \"y = \" + str(round(slope,2)) + \"x + \" + str(round(intercept,2))\n",
    "\n",
    "#Plotting line regress\n",
    "plt.plot(x_values,regress_values,\"r-\")\n",
    "\n",
    "#Printing R Value\n",
    "print(f\"R Val is {rvalue**2}\")\n",
    "\n",
    "#Plotting line equation on the graph\n",
    "plt.annotate(line_eq,(0,8),fontsize=15,color=\"red\") #(20,30) is x y coordinate on graph where line will start printing\n",
    "plt.savefig('north_cloud.png')"
   ]
  },
  {
   "cell_type": "markdown",
   "metadata": {},
   "source": [
    "There is very little to practically no correlation (.0015 R-Value) between Northern cloudiness and latitude."
   ]
  },
  {
   "cell_type": "markdown",
   "metadata": {},
   "source": [
    "####  Southern Hemisphere - Cloudiness (%) vs. Latitude Linear Regression"
   ]
  },
  {
   "cell_type": "code",
   "execution_count": 21,
   "metadata": {},
   "outputs": [
    {
     "name": "stdout",
     "output_type": "stream",
     "text": [
      "R Val is 0.015364801746159782\n"
     ]
    },
    {
     "data": {
      "image/png": "[encoded data removed]",
      "text/plain": [
       "<Figure size 432x288 with 1 Axes>"
      ]
     },
     "metadata": {
      "needs_background": "light"
     },
     "output_type": "display_data"
    }
   ],
   "source": [
    "date = city_weather.loc[1,'Date']\n",
    "\n",
    "south_hem = city_weather_no_null.loc[city_weather_no_null['Lat'] < 0,]\n",
    "\n",
    "#plotting and formatting scatter\n",
    "plt.scatter(south_hem['Lat'], south_hem['Cloudiness'], marker=\"o\", facecolors=\"dodgerblue\")\n",
    "\n",
    "#inserting chart labels\n",
    "plt.xlabel(\"Latitude\")\n",
    "plt.ylabel('Cloudiness (%)')\n",
    "plt.title(f\"Southern Hemisphere - Cloudiness (%) vs. Latitude Linear Regression {date}\")\n",
    "\n",
    "#defining values\n",
    "x_values = south_hem['Lat']\n",
    "y_values = south_hem['Cloudiness']\n",
    "\n",
    "#defining stats\n",
    "(slope, intercept, rvalue, pvalue, stderr) = linregress(x_values, y_values)\n",
    "\n",
    "#Defining regression\n",
    "regress_values = x_values * slope + intercept\n",
    "line_eq = \"y = \" + str(round(slope,2)) + \"x + \" + str(round(intercept,2))\n",
    "\n",
    "#Plotting line regress\n",
    "plt.plot(x_values,regress_values,\"r-\")\n",
    "\n",
    "#Printing R Value\n",
    "print(f\"R Val is {rvalue**2}\")\n",
    "\n",
    "#Plotting line equation on the graph\n",
    "plt.annotate(line_eq,(-55,7),fontsize=15,color=\"red\") #(20,30) is x y coordinate on graph where line will start printing\n",
    "plt.savefig('south_cloud.png')"
   ]
  },
  {
   "cell_type": "markdown",
   "metadata": {},
   "source": [
    "There is very little correlation (.019 R-Value) between Southern cloudiness and latitude."
   ]
  },
  {
   "cell_type": "markdown",
   "metadata": {},
   "source": [
    "####  Northern Hemisphere - Wind Speed (mph) vs. Latitude Linear Regression"
   ]
  },
  {
   "cell_type": "code",
   "execution_count": 22,
   "metadata": {},
   "outputs": [
    {
     "name": "stdout",
     "output_type": "stream",
     "text": [
      "R Val is 0.002941877844999541\n"
     ]
    },
    {
     "data": {
      "image/png": "[encoded data removed]",
      "text/plain": [
       "<Figure size 432x288 with 1 Axes>"
      ]
     },
     "metadata": {
      "needs_background": "light"
     },
     "output_type": "display_data"
    }
   ],
   "source": [
    "date = city_weather.loc[1,'Date']\n",
    "\n",
    "north_hem = city_weather_no_null.loc[city_weather_no_null['Lat'] > 0,]\n",
    "\n",
    "#plotting and formatting scatter\n",
    "plt.scatter(north_hem['Lat'], north_hem['Wind Speed'], marker=\"o\", facecolors=\"dodgerblue\")\n",
    "\n",
    "#inserting chart labels\n",
    "plt.xlabel(\"Latitude\")\n",
    "plt.ylabel('Wind Speed (mph)')\n",
    "plt.title(f\"Northern Hemisphere - Wind Speed (mph) vs. Latitude Linear Regression {date}\")\n",
    "\n",
    "#defining values\n",
    "x_values = north_hem['Lat']\n",
    "y_values = north_hem['Wind Speed']\n",
    "\n",
    "#defining stats\n",
    "(slope, intercept, rvalue, pvalue, stderr) = linregress(x_values, y_values)\n",
    "\n",
    "#Defining regression\n",
    "regress_values = x_values * slope + intercept\n",
    "line_eq = \"y = \" + str(round(slope,2)) + \"x + \" + str(round(intercept,2))\n",
    "\n",
    "#Plotting line regress\n",
    "plt.plot(x_values,regress_values,\"r-\")\n",
    "\n",
    "#Printing R Value\n",
    "print(f\"R Val is {rvalue**2}\")\n",
    "\n",
    "#Plotting line equation on the graph\n",
    "plt.annotate(line_eq,(0,12),fontsize=15,color=\"red\") #(20,30) is x y coordinate on graph where line will start printing\n",
    "plt.savefig('north_wind.png')"
   ]
  },
  {
   "cell_type": "markdown",
   "metadata": {},
   "source": [
    "There is very little correlation between Northern wind speed and latitude."
   ]
  },
  {
   "cell_type": "markdown",
   "metadata": {},
   "source": [
    "####  Southern Hemisphere - Wind Speed (mph) vs. Latitude Linear Regression"
   ]
  },
  {
   "cell_type": "code",
   "execution_count": 23,
   "metadata": {},
   "outputs": [
    {
     "name": "stdout",
     "output_type": "stream",
     "text": [
      "R Val is 0.027315738427786763\n"
     ]
    },
    {
     "data": {
      "image/png": "[encoded data removed]",
      "text/plain": [
       "<Figure size 432x288 with 1 Axes>"
      ]
     },
     "metadata": {
      "needs_background": "light"
     },
     "output_type": "display_data"
    }
   ],
   "source": [
    "date = city_weather.loc[1,'Date']\n",
    "\n",
    "south_hem = city_weather_no_null.loc[city_weather_no_null['Lat'] < 0,]\n",
    "\n",
    "#plotting and formatting scatter\n",
    "plt.scatter(south_hem['Lat'], south_hem['Wind Speed'], marker=\"o\", facecolors=\"dodgerblue\")\n",
    "\n",
    "#inserting chart labels\n",
    "plt.xlabel(\"Latitude\")\n",
    "plt.ylabel(\"Wind Speed (mph)\")\n",
    "plt.title(f\"Southern Hemisphere - Wind Speed (mph) vs. Latitude Linear Regression {date}\")\n",
    "\n",
    "#defining values\n",
    "x_values = south_hem['Lat']\n",
    "y_values = south_hem['Wind Speed']\n",
    "\n",
    "#defining stats\n",
    "(slope, intercept, rvalue, pvalue, stderr) = linregress(x_values, y_values)\n",
    "\n",
    "#Defining regression\n",
    "regress_values = x_values * slope + intercept\n",
    "line_eq = \"y = \" + str(round(slope,2)) + \"x + \" + str(round(intercept,2))\n",
    "\n",
    "#Plotting line regress\n",
    "plt.plot(x_values,regress_values,\"r-\")\n",
    "\n",
    "#Printing R Value\n",
    "print(f\"R Val is {rvalue**2}\")\n",
    "\n",
    "#Plotting line equation on the graph\n",
    "plt.annotate(line_eq,(-55,11),fontsize=15,color=\"red\") #(20,30) is x y coordinate on graph where line will start printing\n",
    "plt.savefig('south_wind.png')"
   ]
  },
  {
   "cell_type": "markdown",
   "metadata": {},
   "source": [
    "There is low correlation between Southern wind speed and latitude."
   ]
  }
 ],
 "metadata": {
  "anaconda-cloud": {},
  "kernel_info": {
   "name": "python3"
  },
  "kernelspec": {
   "display_name": "Python [conda env:pythondata] *",
   "language": "python",
   "name": "conda-env-pythondata-py"
  },
  "language_info": {
   "codemirror_mode": {
    "name": "ipython",
    "version": 3
   },
   "file_extension": ".py",
   "mimetype": "text/x-python",
   "name": "python",
   "nbconvert_exporter": "python",
   "pygments_lexer": "ipython3",
   "version": "3.8.5"
  },
  "latex_envs": {
   "LaTeX_envs_menu_present": true,
   "autoclose": false,
   "autocomplete": true,
   "bibliofile": "biblio.bib",
   "cite_by": "apalike",
   "current_citInitial": 1,
   "eqLabelWithNumbers": true,
   "eqNumInitial": 1,
   "hotkeys": {
    "equation": "Ctrl-E",
    "itemize": "Ctrl-I"
   },
   "labels_anchors": false,
   "latex_user_defs": false,
   "report_style_numbering": false,
   "user_envs_cfg": false
  },
  "nteract": {
   "version": "0.12.3"
  }
 },
 "nbformat": 4,
 "nbformat_minor": 2
}
