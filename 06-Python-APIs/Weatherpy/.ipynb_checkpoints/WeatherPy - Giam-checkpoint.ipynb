{
 "cells": [
  {
   "cell_type": "markdown",
   "metadata": {},
   "source": [
    "# WeatherPy\n",
    "----\n",
    "\n",
    "#### Note\n",
    "* Instructions have been included for each segment. You do not have to follow them exactly, but they are included to help you think through the steps."
   ]
  },
  {
   "cell_type": "markdown",
   "metadata": {},
   "source": [
    "Giam Sigaud PART 1: 3 Observable trends:\n",
    "\n",
    "1. From the Latitude vs Temperature plot: We can confirm that, the closer a city is to the equator, the hotter the temperature tends to get.\n",
    "\n",
    "2. From the Northern Hemisphere - Max Temp vs. Latitude Linear Regression plot: Consistent with the 1st observable trend featured above, the temperature for the queried cities south of the equator, consistently climbed the closer they got to the equator.\n",
    "\n",
    "3. From the Latitude vs Cloudiness plot: The wind speed of the cities queried in this data set were generally 8 mph or less."
   ]
  },
  {
   "cell_type": "code",
   "execution_count": 6,
   "metadata": {
    "scrolled": true
   },
   "outputs": [],
   "source": [
    "# Dependencies and Setup\n",
    "import matplotlib.pyplot as plt\n",
    "import pandas as pd\n",
    "import numpy as np\n",
    "import requests\n",
    "import time\n",
    "from scipy.stats import linregress\n",
    "from pprint import pprint\n",
    "\n",
    "# Import API key\n",
    "from api_keys import weather_api_key\n",
    "\n",
    "# Incorporated citipy to determine city based on latitude and longitude\n",
    "from citipy import citipy\n",
    "\n",
    "# Output File (CSV)\n",
    "output_data_file = \"output_data/cities.csv\"\n",
    "\n",
    "# Range of latitudes and longitudes\n",
    "lat_range = (-90, 90)\n",
    "lng_range = (-180, 180)"
   ]
  },
  {
   "cell_type": "markdown",
   "metadata": {},
   "source": [
    "## Generate Cities List"
   ]
  },
  {
   "cell_type": "code",
   "execution_count": 7,
   "metadata": {},
   "outputs": [
    {
     "data": {
      "text/plain": [
       "610"
      ]
     },
     "execution_count": 7,
     "metadata": {},
     "output_type": "execute_result"
    }
   ],
   "source": [
    "# List for holding lat_lngs and cities\n",
    "lat_lngs = []\n",
    "cities = []\n",
    "\n",
    "# Create a set of random lat and lng combinations\n",
    "lats = np.random.uniform(lat_range[0], lat_range[1], size=1500)\n",
    "lngs = np.random.uniform(lng_range[0], lng_range[1], size=1500)\n",
    "lat_lngs = zip(lats, lngs)\n",
    "\n",
    "# Identify nearest city for each lat, lng combination\n",
    "for lat_lng in lat_lngs:\n",
    "    city = citipy.nearest_city(lat_lng[0], lat_lng[1]).city_name\n",
    "    \n",
    "    # If the city is unique, then add it to a our cities list\n",
    "    if city not in cities:\n",
    "        cities.append(city)\n",
    "\n",
    "# Print the city count to confirm sufficient count\n",
    "len(cities)"
   ]
  },
  {
   "cell_type": "code",
   "execution_count": 8,
   "metadata": {},
   "outputs": [
    {
     "data": {
      "text/html": [
       "<div>\n",
       "<style scoped>\n",
       "    .dataframe tbody tr th:only-of-type {\n",
       "        vertical-align: middle;\n",
       "    }\n",
       "\n",
       "    .dataframe tbody tr th {\n",
       "        vertical-align: top;\n",
       "    }\n",
       "\n",
       "    .dataframe thead th {\n",
       "        text-align: right;\n",
       "    }\n",
       "</style>\n",
       "<table border=\"1\" class=\"dataframe\">\n",
       "  <thead>\n",
       "    <tr style=\"text-align: right;\">\n",
       "      <th></th>\n",
       "      <th>City</th>\n",
       "    </tr>\n",
       "  </thead>\n",
       "  <tbody>\n",
       "    <tr>\n",
       "      <th>0</th>\n",
       "      <td>rikitea</td>\n",
       "    </tr>\n",
       "    <tr>\n",
       "      <th>1</th>\n",
       "      <td>stokmarknes</td>\n",
       "    </tr>\n",
       "    <tr>\n",
       "      <th>2</th>\n",
       "      <td>mataura</td>\n",
       "    </tr>\n",
       "    <tr>\n",
       "      <th>3</th>\n",
       "      <td>najran</td>\n",
       "    </tr>\n",
       "    <tr>\n",
       "      <th>4</th>\n",
       "      <td>kapaa</td>\n",
       "    </tr>\n",
       "  </tbody>\n",
       "</table>\n",
       "</div>"
      ],
      "text/plain": [
       "          City\n",
       "0      rikitea\n",
       "1  stokmarknes\n",
       "2      mataura\n",
       "3       najran\n",
       "4        kapaa"
      ]
     },
     "execution_count": 8,
     "metadata": {},
     "output_type": "execute_result"
    }
   ],
   "source": [
    "# Verifying Cities\n",
    "city_weather = pd.DataFrame(cities, columns=['City'])\n",
    "city_weather.head()"
   ]
  },
  {
   "cell_type": "code",
   "execution_count": 9,
   "metadata": {},
   "outputs": [
    {
     "data": {
      "text/html": [
       "<div>\n",
       "<style scoped>\n",
       "    .dataframe tbody tr th:only-of-type {\n",
       "        vertical-align: middle;\n",
       "    }\n",
       "\n",
       "    .dataframe tbody tr th {\n",
       "        vertical-align: top;\n",
       "    }\n",
       "\n",
       "    .dataframe thead th {\n",
       "        text-align: right;\n",
       "    }\n",
       "</style>\n",
       "<table border=\"1\" class=\"dataframe\">\n",
       "  <thead>\n",
       "    <tr style=\"text-align: right;\">\n",
       "      <th></th>\n",
       "      <th>City</th>\n",
       "      <th>Lat</th>\n",
       "      <th>Lng</th>\n",
       "      <th>Max Temp</th>\n",
       "      <th>Humidity</th>\n",
       "      <th>Cloudiness</th>\n",
       "      <th>Wind Speed</th>\n",
       "      <th>Country</th>\n",
       "      <th>Date</th>\n",
       "    </tr>\n",
       "  </thead>\n",
       "  <tbody>\n",
       "    <tr>\n",
       "      <th>0</th>\n",
       "      <td>rikitea</td>\n",
       "      <td></td>\n",
       "      <td></td>\n",
       "      <td></td>\n",
       "      <td></td>\n",
       "      <td></td>\n",
       "      <td></td>\n",
       "      <td></td>\n",
       "      <td></td>\n",
       "    </tr>\n",
       "    <tr>\n",
       "      <th>1</th>\n",
       "      <td>stokmarknes</td>\n",
       "      <td></td>\n",
       "      <td></td>\n",
       "      <td></td>\n",
       "      <td></td>\n",
       "      <td></td>\n",
       "      <td></td>\n",
       "      <td></td>\n",
       "      <td></td>\n",
       "    </tr>\n",
       "    <tr>\n",
       "      <th>2</th>\n",
       "      <td>mataura</td>\n",
       "      <td></td>\n",
       "      <td></td>\n",
       "      <td></td>\n",
       "      <td></td>\n",
       "      <td></td>\n",
       "      <td></td>\n",
       "      <td></td>\n",
       "      <td></td>\n",
       "    </tr>\n",
       "    <tr>\n",
       "      <th>3</th>\n",
       "      <td>najran</td>\n",
       "      <td></td>\n",
       "      <td></td>\n",
       "      <td></td>\n",
       "      <td></td>\n",
       "      <td></td>\n",
       "      <td></td>\n",
       "      <td></td>\n",
       "      <td></td>\n",
       "    </tr>\n",
       "    <tr>\n",
       "      <th>4</th>\n",
       "      <td>kapaa</td>\n",
       "      <td></td>\n",
       "      <td></td>\n",
       "      <td></td>\n",
       "      <td></td>\n",
       "      <td></td>\n",
       "      <td></td>\n",
       "      <td></td>\n",
       "      <td></td>\n",
       "    </tr>\n",
       "  </tbody>\n",
       "</table>\n",
       "</div>"
      ],
      "text/plain": [
       "          City Lat Lng Max Temp Humidity Cloudiness Wind Speed Country Date\n",
       "0      rikitea                                                             \n",
       "1  stokmarknes                                                             \n",
       "2      mataura                                                             \n",
       "3       najran                                                             \n",
       "4        kapaa                                                             "
      ]
     },
     "execution_count": 9,
     "metadata": {},
     "output_type": "execute_result"
    }
   ],
   "source": [
    "# Setting up DF\n",
    "city_weather['Lat']=''\n",
    "city_weather['Lng']=''\n",
    "city_weather['Max Temp']=''\n",
    "city_weather['Humidity']=''\n",
    "city_weather['Cloudiness']=''\n",
    "city_weather['Wind Speed']=''\n",
    "city_weather['Country']=''\n",
    "city_weather['Date']=''\n",
    "\n",
    "city_weather.head()"
   ]
  },
  {
   "cell_type": "markdown",
   "metadata": {},
   "source": [
    "### Perform API Calls\n",
    "* Perform a weather check on each city using a series of successive API calls.\n",
    "* Include a print log of each city as it'sbeing processed (with the city number and city name)."
   ]
  },
  {
   "cell_type": "code",
   "execution_count": 10,
   "metadata": {
    "scrolled": true
   },
   "outputs": [
    {
     "name": "stdout",
     "output_type": "stream",
     "text": [
      "Beginning Data Retrieval\n",
      "-----------------------------\n",
      "Processing Record 1 of Set 1| rikitea\n",
      "Processing Record 2 of Set 1| stokmarknes\n",
      "Processing Record 3 of Set 1| mataura\n",
      "Processing Record 4 of Set 1| najran\n",
      "Processing Record 5 of Set 1| kapaa\n",
      "Processing Record 6 of Set 1| jomalig\n",
      "City not found, skipping...\n",
      "Processing Record 7 of Set 1| illoqqortoormiut\n",
      "City not found, skipping...\n",
      "Processing Record 8 of Set 1| saskylakh\n",
      "Processing Record 9 of Set 1| dikson\n",
      "Processing Record 10 of Set 1| port alfred\n",
      "Processing Record 11 of Set 1| teshie\n",
      "Processing Record 12 of Set 1| changji\n",
      "Processing Record 13 of Set 1| port elizabeth\n",
      "Processing Record 14 of Set 1| lata\n",
      "Processing Record 15 of Set 1| vila velha\n",
      "Processing Record 16 of Set 1| yellowknife\n",
      "Processing Record 17 of Set 1| avarua\n",
      "Processing Record 18 of Set 1| qaanaaq\n",
      "Processing Record 19 of Set 1| tasiilaq\n",
      "Processing Record 20 of Set 1| esperance\n",
      "Processing Record 21 of Set 1| cairns\n",
      "Processing Record 22 of Set 1| barrow\n",
      "Processing Record 23 of Set 1| busselton\n",
      "Processing Record 24 of Set 1| kariba\n",
      "Processing Record 25 of Set 1| cape town\n",
      "Processing Record 26 of Set 1| bengkulu\n",
      "Processing Record 27 of Set 1| vaini\n",
      "Processing Record 28 of Set 1| evanton\n",
      "Processing Record 29 of Set 1| beloha\n",
      "Processing Record 30 of Set 1| ruwi\n",
      "Processing Record 31 of Set 1| korla\n",
      "Processing Record 32 of Set 1| strezhevoy\n",
      "Processing Record 33 of Set 1| naze\n",
      "Processing Record 34 of Set 1| bambous virieux\n",
      "Processing Record 35 of Set 1| new norfolk\n",
      "Processing Record 36 of Set 1| lebu\n",
      "Processing Record 37 of Set 1| katsuura\n",
      "Processing Record 38 of Set 1| raudeberg\n",
      "Processing Record 39 of Set 1| sao francisco do sul\n",
      "Processing Record 40 of Set 1| jinchang\n",
      "Processing Record 41 of Set 1| cidreira\n",
      "Processing Record 42 of Set 1| bluff\n",
      "Processing Record 43 of Set 1| ponta do sol\n",
      "Processing Record 44 of Set 1| kaitangata\n",
      "Processing Record 45 of Set 1| darhan\n",
      "Processing Record 46 of Set 1| qaqortoq\n",
      "Processing Record 47 of Set 1| iracoubo\n",
      "Processing Record 48 of Set 1| meyungs\n",
      "City not found, skipping...\n",
      "Processing Record 49 of Set 1| puerto ayora\n",
      "Processing Record 1 of Set 2| hilo\n",
      "Processing Record 2 of Set 2| tuktoyaktuk\n",
      "Processing Record 3 of Set 2| hermanus\n",
      "Processing Record 4 of Set 2| husavik\n",
      "Processing Record 5 of Set 2| aklavik\n",
      "Processing Record 6 of Set 2| yar-sale\n",
      "Processing Record 7 of Set 2| leningradskiy\n",
      "Processing Record 8 of Set 2| hobart\n",
      "Processing Record 9 of Set 2| vardo\n",
      "Processing Record 10 of Set 2| biltine\n",
      "Processing Record 11 of Set 2| kondagaon\n",
      "Processing Record 12 of Set 2| inhambane\n",
      "Processing Record 13 of Set 2| punta arenas\n",
      "Processing Record 14 of Set 2| sabha\n",
      "Processing Record 15 of Set 2| ushuaia\n",
      "Processing Record 16 of Set 2| castro\n",
      "Processing Record 17 of Set 2| atuona\n",
      "Processing Record 18 of Set 2| iqaluit\n",
      "Processing Record 19 of Set 2| sampit\n",
      "Processing Record 20 of Set 2| east london\n",
      "Processing Record 21 of Set 2| tiksi\n",
      "Processing Record 22 of Set 2| outlook\n",
      "Processing Record 23 of Set 2| albany\n",
      "Processing Record 24 of Set 2| saint george\n",
      "Processing Record 25 of Set 2| ugoofaaru\n",
      "Processing Record 26 of Set 2| baruun-urt\n",
      "Processing Record 27 of Set 2| tuatapere\n",
      "Processing Record 28 of Set 2| port hedland\n",
      "Processing Record 29 of Set 2| severo-kurilsk\n",
      "Processing Record 30 of Set 2| yeppoon\n",
      "Processing Record 31 of Set 2| thompson\n",
      "Processing Record 32 of Set 2| svetlogorsk\n",
      "Processing Record 33 of Set 2| babanusah\n",
      "City not found, skipping...\n",
      "Processing Record 34 of Set 2| wittlich\n",
      "Processing Record 35 of Set 2| olafsvik\n",
      "Processing Record 36 of Set 2| rundu\n",
      "Processing Record 37 of Set 2| dolbeau\n",
      "City not found, skipping...\n",
      "Processing Record 38 of Set 2| carnarvon\n",
      "Processing Record 39 of Set 2| hithadhoo\n",
      "Processing Record 40 of Set 2| nikolskoye\n",
      "Processing Record 41 of Set 2| kobojango\n",
      "City not found, skipping...\n",
      "Processing Record 42 of Set 2| mocuba\n",
      "Processing Record 43 of Set 2| airai\n",
      "Processing Record 44 of Set 2| ust-kuyga\n",
      "Processing Record 45 of Set 2| lubao\n",
      "Processing Record 46 of Set 2| zachagansk\n",
      "City not found, skipping...\n",
      "Processing Record 47 of Set 2| chokurdakh\n",
      "Processing Record 48 of Set 2| flinders\n",
      "Processing Record 49 of Set 2| nemuro\n",
      "Processing Record 1 of Set 3| henties bay\n",
      "Processing Record 2 of Set 3| mahebourg\n",
      "Processing Record 3 of Set 3| sobolevo\n",
      "Processing Record 4 of Set 3| jamestown\n",
      "Processing Record 5 of Set 3| oparino\n",
      "Processing Record 6 of Set 3| taolanaro\n",
      "City not found, skipping...\n",
      "Processing Record 7 of Set 3| russell\n",
      "Processing Record 8 of Set 3| upernavik\n",
      "Processing Record 9 of Set 3| alice springs\n",
      "Processing Record 10 of Set 3| bethel\n",
      "Processing Record 11 of Set 3| mackenzie\n",
      "Processing Record 12 of Set 3| saldanha\n",
      "Processing Record 13 of Set 3| grand river south east\n",
      "City not found, skipping...\n",
      "Processing Record 14 of Set 3| victoria\n",
      "Processing Record 15 of Set 3| bloomfield\n",
      "Processing Record 16 of Set 3| guerrero negro\n",
      "Processing Record 17 of Set 3| castro alves\n",
      "Processing Record 18 of Set 3| avera\n",
      "Processing Record 19 of Set 3| chenghai\n",
      "Processing Record 20 of Set 3| evensk\n",
      "Processing Record 21 of Set 3| srandakan\n",
      "Processing Record 22 of Set 3| bargal\n",
      "City not found, skipping...\n",
      "Processing Record 23 of Set 3| road town\n",
      "Processing Record 24 of Set 3| omboue\n",
      "Processing Record 25 of Set 3| victoria point\n",
      "Processing Record 26 of Set 3| te anau\n",
      "Processing Record 27 of Set 3| bredasdorp\n",
      "Processing Record 28 of Set 3| rio grande\n",
      "Processing Record 29 of Set 3| kirakira\n",
      "Processing Record 30 of Set 3| arraial do cabo\n",
      "Processing Record 31 of Set 3| kununurra\n",
      "Processing Record 32 of Set 3| nanortalik\n",
      "Processing Record 33 of Set 3| gambela\n",
      "Processing Record 34 of Set 3| saint-philippe\n",
      "Processing Record 35 of Set 3| hobyo\n",
      "Processing Record 36 of Set 3| portland\n",
      "Processing Record 37 of Set 3| mys shmidta\n",
      "City not found, skipping...\n",
      "Processing Record 38 of Set 3| faanui\n",
      "Processing Record 39 of Set 3| kendari\n",
      "Processing Record 40 of Set 3| buraydah\n",
      "Processing Record 41 of Set 3| belushya guba\n",
      "City not found, skipping...\n",
      "Processing Record 42 of Set 3| smithers\n",
      "Processing Record 43 of Set 3| la ronge\n",
      "Processing Record 44 of Set 3| dalby\n",
      "Processing Record 45 of Set 3| japura\n",
      "Processing Record 46 of Set 3| saryshagan\n",
      "City not found, skipping...\n",
      "Processing Record 47 of Set 3| norman wells\n",
      "Processing Record 48 of Set 3| marystown\n",
      "Processing Record 49 of Set 3| torbay\n",
      "Processing Record 1 of Set 4| sola\n",
      "Processing Record 2 of Set 4| gospic\n",
      "Processing Record 3 of Set 4| abha\n",
      "Processing Record 4 of Set 4| isangel\n",
      "Processing Record 5 of Set 4| concarneau\n",
      "Processing Record 6 of Set 4| olinda\n",
      "Processing Record 7 of Set 4| puerto leguizamo\n",
      "Processing Record 8 of Set 4| georgetown\n",
      "Processing Record 9 of Set 4| pisco\n",
      "Processing Record 10 of Set 4| myitkyina\n",
      "Processing Record 11 of Set 4| tumannyy\n",
      "City not found, skipping...\n",
      "Processing Record 12 of Set 4| ponta delgada\n",
      "Processing Record 13 of Set 4| half moon bay\n",
      "Processing Record 14 of Set 4| labutta\n",
      "City not found, skipping...\n",
      "Processing Record 15 of Set 4| amapa\n",
      "Processing Record 16 of Set 4| spirit river\n",
      "Processing Record 17 of Set 4| parnu-jaagupi\n",
      "Processing Record 18 of Set 4| visby\n",
      "Processing Record 19 of Set 4| zhigansk\n",
      "Processing Record 20 of Set 4| okhotsk\n",
      "Processing Record 21 of Set 4| litovko\n",
      "Processing Record 22 of Set 4| los llanos de aridane\n",
      "Processing Record 23 of Set 4| asau\n",
      "Processing Record 24 of Set 4| non sung\n",
      "Processing Record 25 of Set 4| hualmay\n",
      "Processing Record 26 of Set 4| lungi\n",
      "Processing Record 27 of Set 4| suntar\n",
      "Processing Record 28 of Set 4| gushikawa\n",
      "Processing Record 29 of Set 4| karratha\n",
      "Processing Record 30 of Set 4| sao gabriel da cachoeira\n",
      "Processing Record 31 of Set 4| oranjemund\n",
      "Processing Record 32 of Set 4| namibe\n",
      "Processing Record 33 of Set 4| ribeira grande\n",
      "Processing Record 34 of Set 4| kruisfontein\n",
      "Processing Record 35 of Set 4| bathsheba\n",
      "Processing Record 36 of Set 4| tres arroyos\n",
      "Processing Record 37 of Set 4| attawapiskat\n",
      "City not found, skipping...\n",
      "Processing Record 38 of Set 4| fujinomiya\n",
      "Processing Record 39 of Set 4| pevek\n",
      "Processing Record 40 of Set 4| krasnoarmeysk\n",
      "Processing Record 41 of Set 4| axim\n",
      "Processing Record 42 of Set 4| souillac\n",
      "Processing Record 43 of Set 4| inderborskiy\n",
      "City not found, skipping...\n"
     ]
    },
    {
     "name": "stdout",
     "output_type": "stream",
     "text": [
      "Processing Record 44 of Set 4| curuguaty\n",
      "Processing Record 45 of Set 4| butembo\n",
      "Processing Record 46 of Set 4| butaritari\n",
      "Processing Record 47 of Set 4| cabo san lucas\n",
      "Processing Record 48 of Set 4| repalle\n",
      "Processing Record 49 of Set 4| bud\n",
      "Processing Record 1 of Set 5| sherbrooke\n",
      "Processing Record 2 of Set 5| westport\n",
      "Processing Record 3 of Set 5| sangar\n",
      "Processing Record 4 of Set 5| narsaq\n",
      "Processing Record 5 of Set 5| ilulissat\n",
      "Processing Record 6 of Set 5| maralal\n",
      "Processing Record 7 of Set 5| chuy\n",
      "Processing Record 8 of Set 5| klyuchi\n",
      "Processing Record 9 of Set 5| scarborough\n",
      "Processing Record 10 of Set 5| kjopsvik\n",
      "Processing Record 11 of Set 5| gangotri\n",
      "City not found, skipping...\n",
      "Processing Record 12 of Set 5| urumqi\n",
      "Processing Record 13 of Set 5| kyabe\n",
      "Processing Record 14 of Set 5| tessalit\n",
      "Processing Record 15 of Set 5| srednekolymsk\n",
      "Processing Record 16 of Set 5| san patricio\n",
      "Processing Record 17 of Set 5| lingao\n",
      "Processing Record 18 of Set 5| berezovyy\n",
      "Processing Record 19 of Set 5| hami\n",
      "Processing Record 20 of Set 5| nguiu\n",
      "City not found, skipping...\n",
      "Processing Record 21 of Set 5| kadykchan\n",
      "City not found, skipping...\n",
      "Processing Record 22 of Set 5| taybad\n",
      "Processing Record 23 of Set 5| hirara\n",
      "Processing Record 24 of Set 5| rafai\n",
      "Processing Record 25 of Set 5| kazalinsk\n",
      "City not found, skipping...\n",
      "Processing Record 26 of Set 5| kahului\n",
      "Processing Record 27 of Set 5| riyadh\n",
      "Processing Record 28 of Set 5| wuxi\n",
      "Processing Record 29 of Set 5| trincomalee\n",
      "Processing Record 30 of Set 5| kodiak\n",
      "Processing Record 31 of Set 5| sitka\n",
      "Processing Record 32 of Set 5| ibotirama\n",
      "Processing Record 33 of Set 5| saint-augustin\n",
      "Processing Record 34 of Set 5| provideniya\n",
      "Processing Record 35 of Set 5| khatanga\n",
      "Processing Record 36 of Set 5| barentsburg\n",
      "City not found, skipping...\n",
      "Processing Record 37 of Set 5| port hardy\n",
      "Processing Record 38 of Set 5| port lincoln\n",
      "Processing Record 39 of Set 5| viedma\n",
      "Processing Record 40 of Set 5| kidal\n",
      "Processing Record 41 of Set 5| sjenica\n",
      "Processing Record 42 of Set 5| shache\n",
      "Processing Record 43 of Set 5| seymchan\n",
      "Processing Record 44 of Set 5| port blair\n",
      "Processing Record 45 of Set 5| ituni\n",
      "City not found, skipping...\n",
      "Processing Record 46 of Set 5| yulara\n",
      "Processing Record 47 of Set 5| altamira\n",
      "Processing Record 48 of Set 5| phuket\n",
      "Processing Record 49 of Set 5| laguna\n",
      "Processing Record 1 of Set 6| maun\n",
      "Processing Record 2 of Set 6| fortuna\n",
      "Processing Record 3 of Set 6| outram\n",
      "Processing Record 4 of Set 6| salamanca\n",
      "Processing Record 5 of Set 6| camalu\n",
      "Processing Record 6 of Set 6| port augusta\n",
      "Processing Record 7 of Set 6| umzimvubu\n",
      "City not found, skipping...\n",
      "Processing Record 8 of Set 6| broome\n",
      "Processing Record 9 of Set 6| egvekinot\n",
      "Processing Record 10 of Set 6| sao joao da barra\n",
      "Processing Record 11 of Set 6| petropavlovsk-kamchatskiy\n",
      "Processing Record 12 of Set 6| dunedin\n",
      "Processing Record 13 of Set 6| quatre cocos\n",
      "Processing Record 14 of Set 6| sebastian\n",
      "Processing Record 15 of Set 6| khonuu\n",
      "City not found, skipping...\n",
      "Processing Record 16 of Set 6| hasaki\n",
      "Processing Record 17 of Set 6| reconquista\n",
      "Processing Record 18 of Set 6| morehead\n",
      "Processing Record 19 of Set 6| atar\n",
      "Processing Record 20 of Set 6| roanoke rapids\n",
      "Processing Record 21 of Set 6| aykhal\n",
      "Processing Record 22 of Set 6| tarrafal\n",
      "Processing Record 23 of Set 6| moissac\n",
      "Processing Record 24 of Set 6| beidao\n",
      "Processing Record 25 of Set 6| crossville\n",
      "Processing Record 26 of Set 6| komsomolskiy\n",
      "Processing Record 27 of Set 6| rovaniemi\n",
      "Processing Record 28 of Set 6| tucuma\n",
      "Processing Record 29 of Set 6| pringsewu\n",
      "Processing Record 30 of Set 6| camopi\n",
      "Processing Record 31 of Set 6| lavrentiya\n",
      "Processing Record 32 of Set 6| batsfjord\n",
      "Processing Record 33 of Set 6| campobello di mazara\n",
      "Processing Record 34 of Set 6| grand gaube\n",
      "Processing Record 35 of Set 6| tsihombe\n",
      "City not found, skipping...\n",
      "Processing Record 36 of Set 6| saint-georges\n",
      "Processing Record 37 of Set 6| olot\n",
      "Processing Record 38 of Set 6| atsiki\n",
      "City not found, skipping...\n",
      "Processing Record 39 of Set 6| moron\n",
      "Processing Record 40 of Set 6| manzhouli\n",
      "Processing Record 41 of Set 6| sentyabrskiy\n",
      "City not found, skipping...\n",
      "Processing Record 42 of Set 6| praia\n",
      "Processing Record 43 of Set 6| yuci\n",
      "Processing Record 44 of Set 6| ossora\n",
      "Processing Record 45 of Set 6| itoman\n",
      "Processing Record 46 of Set 6| kavieng\n",
      "Processing Record 47 of Set 6| chagda\n",
      "City not found, skipping...\n",
      "Processing Record 48 of Set 6| kropotkin\n",
      "Processing Record 49 of Set 6| luderitz\n",
      "Processing Record 1 of Set 7| bubaque\n",
      "Processing Record 2 of Set 7| morwell\n",
      "Processing Record 3 of Set 7| cherskiy\n",
      "Processing Record 4 of Set 7| bogalusa\n",
      "Processing Record 5 of Set 7| isla vista\n",
      "Processing Record 6 of Set 7| barahona\n",
      "Processing Record 7 of Set 7| mumbwa\n",
      "Processing Record 8 of Set 7| carroll\n",
      "Processing Record 9 of Set 7| salinopolis\n",
      "Processing Record 10 of Set 7| george town\n",
      "Processing Record 11 of Set 7| dunmore town\n",
      "Processing Record 12 of Set 7| mpongwe\n",
      "Processing Record 13 of Set 7| damietta\n",
      "Processing Record 14 of Set 7| nishihara\n",
      "Processing Record 15 of Set 7| otane\n",
      "Processing Record 16 of Set 7| tabiauea\n",
      "City not found, skipping...\n",
      "Processing Record 17 of Set 7| mehamn\n",
      "Processing Record 18 of Set 7| sladkovo\n",
      "Processing Record 19 of Set 7| grindavik\n",
      "Processing Record 20 of Set 7| porto novo\n",
      "Processing Record 21 of Set 7| chryston\n",
      "Processing Record 22 of Set 7| geraldton\n",
      "Processing Record 23 of Set 7| clyde river\n",
      "Processing Record 24 of Set 7| kuryk\n",
      "Processing Record 25 of Set 7| merauke\n",
      "Processing Record 26 of Set 7| porto de moz\n",
      "Processing Record 27 of Set 7| portsmouth\n",
      "Processing Record 28 of Set 7| padang\n",
      "Processing Record 29 of Set 7| erenhot\n",
      "Processing Record 30 of Set 7| champerico\n",
      "Processing Record 31 of Set 7| pachino\n",
      "Processing Record 32 of Set 7| honiara\n",
      "Processing Record 33 of Set 7| launceston\n",
      "Processing Record 34 of Set 7| saleaula\n",
      "City not found, skipping...\n",
      "Processing Record 35 of Set 7| orizatlan\n",
      "Processing Record 36 of Set 7| inyonga\n",
      "Processing Record 37 of Set 7| lingdong\n",
      "Processing Record 38 of Set 7| vinh\n",
      "Processing Record 39 of Set 7| tunduru\n",
      "City not found, skipping...\n",
      "Processing Record 40 of Set 7| shujaabad\n",
      "Processing Record 41 of Set 7| lompoc\n",
      "Processing Record 42 of Set 7| muyezerskiy\n",
      "Processing Record 43 of Set 7| chikoy\n",
      "City not found, skipping...\n",
      "Processing Record 44 of Set 7| tamandare\n",
      "Processing Record 45 of Set 7| golden\n",
      "Processing Record 46 of Set 7| lagoa\n",
      "Processing Record 47 of Set 7| burica\n",
      "City not found, skipping...\n",
      "Processing Record 48 of Set 7| fairbanks\n",
      "Processing Record 49 of Set 7| ye\n",
      "City not found, skipping...\n",
      "Processing Record 1 of Set 8| boca do acre\n",
      "Processing Record 2 of Set 8| turukhansk\n",
      "Processing Record 3 of Set 8| mar del plata\n",
      "Processing Record 4 of Set 8| sofiysk\n",
      "City not found, skipping...\n",
      "Processing Record 5 of Set 8| quelimane\n",
      "Processing Record 6 of Set 8| walvis bay\n",
      "Processing Record 7 of Set 8| deputatskiy\n",
      "Processing Record 8 of Set 8| luena\n",
      "Processing Record 9 of Set 8| braniewo\n",
      "Processing Record 10 of Set 8| awjilah\n",
      "Processing Record 11 of Set 8| kloulklubed\n",
      "Processing Record 12 of Set 8| longonjo\n",
      "Processing Record 13 of Set 8| faridan\n",
      "City not found, skipping...\n",
      "Processing Record 14 of Set 8| harper\n",
      "Processing Record 15 of Set 8| calca\n",
      "Processing Record 16 of Set 8| marzuq\n",
      "Processing Record 17 of Set 8| phun phin\n",
      "City not found, skipping...\n",
      "Processing Record 18 of Set 8| benguela\n",
      "Processing Record 19 of Set 8| safford\n",
      "Processing Record 20 of Set 8| oksfjord\n",
      "Processing Record 21 of Set 8| tezu\n",
      "Processing Record 22 of Set 8| port macquarie\n",
      "Processing Record 23 of Set 8| lapinig\n",
      "Processing Record 24 of Set 8| cortez\n",
      "Processing Record 25 of Set 8| majene\n",
      "Processing Record 26 of Set 8| caravelas\n",
      "Processing Record 27 of Set 8| vaitupu\n",
      "City not found, skipping...\n",
      "Processing Record 28 of Set 8| hofn\n",
      "Processing Record 29 of Set 8| navalmoral de la mata\n",
      "Processing Record 30 of Set 8| miaoli\n",
      "Processing Record 31 of Set 8| ayagoz\n",
      "Processing Record 32 of Set 8| aporawan\n",
      "City not found, skipping...\n",
      "Processing Record 33 of Set 8| kristiansund\n",
      "Processing Record 34 of Set 8| poronaysk\n",
      "Processing Record 35 of Set 8| maceio\n",
      "Processing Record 36 of Set 8| pangkalanbuun\n",
      "Processing Record 37 of Set 8| vanimo\n"
     ]
    },
    {
     "name": "stdout",
     "output_type": "stream",
     "text": [
      "Processing Record 38 of Set 8| ancud\n",
      "Processing Record 39 of Set 8| dingle\n",
      "Processing Record 40 of Set 8| lodwar\n",
      "Processing Record 41 of Set 8| saint joseph\n",
      "Processing Record 42 of Set 8| san isidro\n",
      "Processing Record 43 of Set 8| xichang\n",
      "Processing Record 44 of Set 8| svetlyy\n",
      "Processing Record 45 of Set 8| gidole\n",
      "Processing Record 46 of Set 8| lethem\n",
      "Processing Record 47 of Set 8| noumea\n",
      "Processing Record 48 of Set 8| sao paulo de olivenca\n",
      "Processing Record 49 of Set 8| businga\n",
      "Processing Record 1 of Set 9| sechura\n",
      "Processing Record 2 of Set 9| vestmanna\n",
      "Processing Record 3 of Set 9| marsa matruh\n",
      "Processing Record 4 of Set 9| munak\n",
      "Processing Record 5 of Set 9| lazaro cardenas\n",
      "Processing Record 6 of Set 9| mopti\n",
      "Processing Record 7 of Set 9| ndjole\n",
      "Processing Record 8 of Set 9| constitucion\n",
      "Processing Record 9 of Set 9| katobu\n",
      "Processing Record 10 of Set 9| waingapu\n",
      "Processing Record 11 of Set 9| katangli\n",
      "Processing Record 12 of Set 9| nobres\n",
      "Processing Record 13 of Set 9| verkhnevilyuysk\n",
      "Processing Record 14 of Set 9| gizo\n",
      "Processing Record 15 of Set 9| shimoda\n",
      "Processing Record 16 of Set 9| qasigiannguit\n",
      "Processing Record 17 of Set 9| berlevag\n",
      "Processing Record 18 of Set 9| arman\n",
      "Processing Record 19 of Set 9| papasquiaro\n",
      "City not found, skipping...\n",
      "Processing Record 20 of Set 9| bayan\n",
      "Processing Record 21 of Set 9| nizhneyansk\n",
      "City not found, skipping...\n",
      "Processing Record 22 of Set 9| coxim\n",
      "Processing Record 23 of Set 9| yumen\n",
      "Processing Record 24 of Set 9| ostrovnoy\n",
      "Processing Record 25 of Set 9| sakakah\n",
      "Processing Record 26 of Set 9| teguldet\n",
      "Processing Record 27 of Set 9| hamilton\n",
      "Processing Record 28 of Set 9| salalah\n",
      "Processing Record 29 of Set 9| touros\n",
      "Processing Record 30 of Set 9| matara\n",
      "Processing Record 31 of Set 9| oruro\n",
      "Processing Record 32 of Set 9| tumpat\n",
      "Processing Record 33 of Set 9| monroe\n",
      "Processing Record 34 of Set 9| kadipur\n",
      "Processing Record 35 of Set 9| talnakh\n",
      "Processing Record 36 of Set 9| riohacha\n",
      "Processing Record 37 of Set 9| bardejov\n",
      "Processing Record 38 of Set 9| college\n",
      "Processing Record 39 of Set 9| monrovia\n",
      "Processing Record 40 of Set 9| galesong\n",
      "Processing Record 41 of Set 9| sijunjung\n",
      "Processing Record 42 of Set 9| cayenne\n",
      "Processing Record 43 of Set 9| paris\n",
      "Processing Record 44 of Set 9| cartagena del chaira\n",
      "Processing Record 45 of Set 9| batagay\n",
      "Processing Record 46 of Set 9| durban\n",
      "Processing Record 47 of Set 9| karkaralinsk\n",
      "City not found, skipping...\n",
      "Processing Record 48 of Set 9| halalo\n",
      "City not found, skipping...\n",
      "Processing Record 49 of Set 9| chapais\n",
      "Processing Record 1 of Set 10| bluefields\n",
      "Processing Record 2 of Set 10| taltal\n",
      "Processing Record 3 of Set 10| luau\n",
      "Processing Record 4 of Set 10| surami\n",
      "Processing Record 5 of Set 10| manthani\n",
      "Processing Record 6 of Set 10| shingu\n",
      "Processing Record 7 of Set 10| mount isa\n",
      "Processing Record 8 of Set 10| bilma\n",
      "Processing Record 9 of Set 10| carutapera\n",
      "Processing Record 10 of Set 10| tura\n",
      "Processing Record 11 of Set 10| pacific grove\n",
      "Processing Record 12 of Set 10| piterka\n",
      "Processing Record 13 of Set 10| yarada\n",
      "Processing Record 14 of Set 10| palabuhanratu\n",
      "City not found, skipping...\n",
      "Processing Record 15 of Set 10| tsienyane\n",
      "City not found, skipping...\n",
      "Processing Record 16 of Set 10| sao filipe\n",
      "Processing Record 17 of Set 10| sepolno krajenskie\n",
      "Processing Record 18 of Set 10| samusu\n",
      "City not found, skipping...\n",
      "Processing Record 19 of Set 10| batemans bay\n",
      "Processing Record 20 of Set 10| richards bay\n",
      "Processing Record 21 of Set 10| lander\n",
      "Processing Record 22 of Set 10| longyan\n",
      "Processing Record 23 of Set 10| mitsamiouli\n",
      "Processing Record 24 of Set 10| podyuga\n",
      "Processing Record 25 of Set 10| high rock\n",
      "Processing Record 26 of Set 10| whitehorse\n",
      "Processing Record 27 of Set 10| juneau\n",
      "Processing Record 28 of Set 10| tocopilla\n",
      "Processing Record 29 of Set 10| port-cartier\n",
      "Processing Record 30 of Set 10| siva\n",
      "Processing Record 31 of Set 10| tabulbah\n",
      "City not found, skipping...\n",
      "Processing Record 32 of Set 10| sorland\n",
      "Processing Record 33 of Set 10| roma\n",
      "Processing Record 34 of Set 10| san cristobal\n",
      "Processing Record 35 of Set 10| alyangula\n",
      "Processing Record 36 of Set 10| havoysund\n",
      "Processing Record 37 of Set 10| pouebo\n",
      "Processing Record 38 of Set 10| andenes\n",
      "Processing Record 39 of Set 10| horqueta\n",
      "Processing Record 40 of Set 10| qorveh\n",
      "Processing Record 41 of Set 10| yialos\n",
      "City not found, skipping...\n",
      "Processing Record 42 of Set 10| alofi\n",
      "Processing Record 43 of Set 10| picui\n",
      "Processing Record 44 of Set 10| kandrian\n",
      "Processing Record 45 of Set 10| hereford\n",
      "Processing Record 46 of Set 10| utete\n",
      "Processing Record 47 of Set 10| macapa\n",
      "Processing Record 48 of Set 10| lasa\n",
      "Processing Record 49 of Set 10| sorong\n",
      "Processing Record 1 of Set 11| cururupu\n",
      "Processing Record 2 of Set 11| kitui\n",
      "Processing Record 3 of Set 11| poya\n",
      "Processing Record 4 of Set 11| cazaje\n",
      "City not found, skipping...\n",
      "Processing Record 5 of Set 11| kyra\n",
      "Processing Record 6 of Set 11| mugla\n",
      "Processing Record 7 of Set 11| dudinka\n",
      "Processing Record 8 of Set 11| joshimath\n",
      "Processing Record 9 of Set 11| sur\n",
      "Processing Record 10 of Set 11| bilibino\n",
      "Processing Record 11 of Set 11| adre\n",
      "Processing Record 12 of Set 11| humberto de campos\n",
      "Processing Record 13 of Set 11| longyearbyen\n",
      "Processing Record 14 of Set 11| maldonado\n",
      "Processing Record 15 of Set 11| muisne\n",
      "Processing Record 16 of Set 11| filadelfia\n",
      "Processing Record 17 of Set 11| rawannawi\n",
      "City not found, skipping...\n",
      "Processing Record 18 of Set 11| valparaiso\n",
      "Processing Record 19 of Set 11| ulaanbaatar\n",
      "Processing Record 20 of Set 11| wukari\n",
      "Processing Record 21 of Set 11| duki\n",
      "Processing Record 22 of Set 11| ryotsu\n",
      "Processing Record 23 of Set 11| scottsbluff\n",
      "Processing Record 24 of Set 11| eureka\n",
      "Processing Record 25 of Set 11| copiapo\n",
      "Processing Record 26 of Set 11| berezniki\n",
      "Processing Record 27 of Set 11| labuhan\n",
      "Processing Record 28 of Set 11| progreso\n",
      "Processing Record 29 of Set 11| ust-tsilma\n",
      "Processing Record 30 of Set 11| anloga\n",
      "Processing Record 31 of Set 11| grimari\n",
      "City not found, skipping...\n",
      "Processing Record 32 of Set 11| banyuwangi\n",
      "Processing Record 33 of Set 11| nioro\n",
      "Processing Record 34 of Set 11| arlit\n",
      "Processing Record 35 of Set 11| neya\n",
      "Processing Record 36 of Set 11| kodinsk\n",
      "Processing Record 37 of Set 11| north bend\n",
      "Processing Record 38 of Set 11| auki\n",
      "Processing Record 39 of Set 11| baijiantan\n",
      "Processing Record 40 of Set 11| vila\n",
      "Processing Record 41 of Set 11| bahar\n",
      "Processing Record 42 of Set 11| kalundborg\n",
      "Processing Record 43 of Set 11| muroto\n",
      "Processing Record 44 of Set 11| marica\n",
      "Processing Record 45 of Set 11| namatanai\n",
      "Processing Record 46 of Set 11| vestmannaeyjar\n",
      "Processing Record 47 of Set 11| fukue\n",
      "Processing Record 48 of Set 11| mayumba\n",
      "Processing Record 49 of Set 11| moba\n",
      "Processing Record 1 of Set 12| tweed\n",
      "Processing Record 2 of Set 12| mount gambier\n",
      "Processing Record 3 of Set 12| paamiut\n",
      "Processing Record 4 of Set 12| brae\n",
      "Processing Record 5 of Set 12| lake wales\n",
      "Processing Record 6 of Set 12| gat\n",
      "Processing Record 7 of Set 12| hibbing\n",
      "Processing Record 8 of Set 12| mogadishu\n",
      "Processing Record 9 of Set 12| cabedelo\n",
      "Processing Record 10 of Set 12| poum\n",
      "Processing Record 11 of Set 12| west wendover\n",
      "Processing Record 12 of Set 12| moerai\n",
      "Processing Record 13 of Set 12| solok\n",
      "Processing Record 14 of Set 12| hovd\n",
      "Processing Record 15 of Set 12| gopalpur\n",
      "Processing Record 16 of Set 12| nanyamba\n",
      "Processing Record 17 of Set 12| tiruttani\n",
      "Processing Record 18 of Set 12| boddam\n",
      "Processing Record 19 of Set 12| nara\n",
      "Processing Record 20 of Set 12| galiwinku\n",
      "City not found, skipping...\n",
      "Processing Record 21 of Set 12| eenhana\n",
      "Processing Record 22 of Set 12| seda\n",
      "Processing Record 23 of Set 12| flin flon\n",
      "Processing Record 24 of Set 12| shadrinsk\n",
      "Processing Record 25 of Set 12| nelson bay\n",
      "Processing Record 26 of Set 12| javanrud\n",
      "Processing Record 27 of Set 12| abashiri\n",
      "Processing Record 28 of Set 12| lengshuijiang\n",
      "Processing Record 29 of Set 12| athabasca\n",
      "Processing Record 30 of Set 12| christchurch\n",
      "Processing Record 31 of Set 12| jepara\n",
      "Processing Record 32 of Set 12| nitra\n",
      "Processing Record 33 of Set 12| balkhash\n",
      "Processing Record 34 of Set 12| kanpur\n",
      "Processing Record 35 of Set 12| olavarria\n",
      "Processing Record 36 of Set 12| alappuzha\n",
      "Processing Record 37 of Set 12| zhezkazgan\n",
      "Processing Record 38 of Set 12| alikalia\n",
      "Processing Record 39 of Set 12| san vicente\n",
      "Processing Record 40 of Set 12| kamenskoye\n",
      "City not found, skipping...\n",
      "Processing Record 41 of Set 12| caloundra\n",
      "Processing Record 42 of Set 12| salsomaggiore terme\n",
      "Processing Record 43 of Set 12| srivardhan\n",
      "Processing Record 44 of Set 12| boa vista\n",
      "Processing Record 45 of Set 12| conceicao do araguaia\n",
      "Processing Record 46 of Set 12| ust-kulom\n",
      "Processing Record 47 of Set 12| phan thiet\n",
      "Processing Record 48 of Set 12| cascais\n",
      "Processing Record 49 of Set 12| deqing\n",
      "Processing Record 1 of Set 13| moville\n",
      "Processing Record 2 of Set 13| shenjiamen\n",
      "Processing Record 3 of Set 13| plettenberg bay\n",
      "Processing Record 4 of Set 13| teruel\n",
      "Processing Record 5 of Set 13| manyana\n",
      "Processing Record 6 of Set 13| tubruq\n",
      "City not found, skipping...\n",
      "Processing Record 7 of Set 13| alta floresta\n",
      "Processing Record 8 of Set 13| alihe\n",
      "Processing Record 9 of Set 13| buala\n",
      "Processing Record 10 of Set 13| jose bonifacio\n",
      "Processing Record 11 of Set 13| young\n",
      "Processing Record 12 of Set 13| maragogi\n",
      "Processing Record 13 of Set 13| kamenka\n",
      "Processing Record 14 of Set 13| lujan\n",
      "Processing Record 15 of Set 13| hambantota\n",
      "Processing Record 16 of Set 13| honningsvag\n",
      "Processing Record 17 of Set 13| linkou\n",
      "Processing Record 18 of Set 13| helong\n",
      "Processing Record 19 of Set 13| abnub\n",
      "Processing Record 20 of Set 13| aleksandriyskaya\n",
      "Processing Record 21 of Set 13| kijang\n",
      "Processing Record 22 of Set 13| grande-riviere\n",
      "City not found, skipping...\n",
      "-----------------------------\n",
      "Data Retrieval Complete\n",
      "-----------------------------\n"
     ]
    }
   ],
   "source": [
    "# Define Base URL\n",
    "base_url = \"http://api.openweathermap.org/data/2.5/weather?\"\n",
    "\n",
    "# building URL by adding Key and query (not query values - yet)\n",
    "query_url = f\"{base_url}appid={weather_api_key}&q=\" \n",
    "\n",
    "print(\"Beginning Data Retrieval\") \n",
    "print(\"-----------------------------\") \n",
    "\n",
    "# Looping\n",
    "count = 0\n",
    "set_count = 1\n",
    "\n",
    "for index, row in city_weather.iterrows(): \n",
    "    city_name = row[\"City\"]\n",
    "    weather_response = requests.get(query_url + city_name)\n",
    "    weather_json = weather_response.json()\n",
    "    count +=1\n",
    "     \n",
    "    if count == 50:\n",
    "        count = 1 \n",
    "        set_count += 1 \n",
    "\n",
    "# Try Catch\n",
    "    try:\n",
    "        print(f\"Processing Record {count} of Set {set_count}| {city_name}\") \n",
    "        \n",
    "        city_weather.loc[index,'Lat'] = weather_json['coord']['lat']\n",
    "        city_weather.loc[index,'Lng'] = weather_json['coord']['lon']\n",
    "        city_weather.loc[index,'Max Temp'] = weather_json['main']['temp_max']\n",
    "        city_weather.loc[index,'Humidity'] = weather_json['main']['humidity']\n",
    "        city_weather.loc[index,'Cloudiness'] = weather_json['clouds']['all']\n",
    "        city_weather.loc[index,'Wind Speed'] = weather_json['wind']['speed']\n",
    "        city_weather.loc[index,'Country'] = weather_json['sys']['country']\n",
    "        city_weather.loc[index,'Date'] = weather_json['dt']\n",
    "    \n",
    "    except (KeyError, IndexError):\n",
    "        print(f\"City not found, skipping...\")\n",
    "  \n",
    "print(\"-----------------------------\") \n",
    "print(\"Data Retrieval Complete\") \n",
    "print(\"-----------------------------\") "
   ]
  },
  {
   "cell_type": "markdown",
   "metadata": {},
   "source": [
    "### Convert Raw Data to DataFrame\n",
    "* Export the city data into a .csv.\n",
    "* Display the DataFrame"
   ]
  },
  {
   "cell_type": "code",
   "execution_count": 11,
   "metadata": {},
   "outputs": [
    {
     "data": {
      "text/html": [
       "<div>\n",
       "<style scoped>\n",
       "    .dataframe tbody tr th:only-of-type {\n",
       "        vertical-align: middle;\n",
       "    }\n",
       "\n",
       "    .dataframe tbody tr th {\n",
       "        vertical-align: top;\n",
       "    }\n",
       "\n",
       "    .dataframe thead th {\n",
       "        text-align: right;\n",
       "    }\n",
       "</style>\n",
       "<table border=\"1\" class=\"dataframe\">\n",
       "  <thead>\n",
       "    <tr style=\"text-align: right;\">\n",
       "      <th></th>\n",
       "      <th>City</th>\n",
       "      <th>Lat</th>\n",
       "      <th>Lng</th>\n",
       "      <th>Max Temp</th>\n",
       "      <th>Humidity</th>\n",
       "      <th>Cloudiness</th>\n",
       "      <th>Wind Speed</th>\n",
       "      <th>Country</th>\n",
       "      <th>Date</th>\n",
       "    </tr>\n",
       "  </thead>\n",
       "  <tbody>\n",
       "    <tr>\n",
       "      <th>0</th>\n",
       "      <td>rikitea</td>\n",
       "      <td>-23.12</td>\n",
       "      <td>-134.97</td>\n",
       "      <td>72.050</td>\n",
       "      <td>79.0</td>\n",
       "      <td>0.0</td>\n",
       "      <td>4.85</td>\n",
       "      <td>PF</td>\n",
       "      <td>08-18-2020</td>\n",
       "    </tr>\n",
       "    <tr>\n",
       "      <th>1</th>\n",
       "      <td>stokmarknes</td>\n",
       "      <td>68.56</td>\n",
       "      <td>14.91</td>\n",
       "      <td>51.998</td>\n",
       "      <td>85.0</td>\n",
       "      <td>92.0</td>\n",
       "      <td>2.24</td>\n",
       "      <td>NO</td>\n",
       "      <td>08-18-2020</td>\n",
       "    </tr>\n",
       "    <tr>\n",
       "      <th>2</th>\n",
       "      <td>mataura</td>\n",
       "      <td>-46.19</td>\n",
       "      <td>168.86</td>\n",
       "      <td>43.844</td>\n",
       "      <td>81.0</td>\n",
       "      <td>100.0</td>\n",
       "      <td>2.27</td>\n",
       "      <td>NZ</td>\n",
       "      <td>08-18-2020</td>\n",
       "    </tr>\n",
       "    <tr>\n",
       "      <th>3</th>\n",
       "      <td>najran</td>\n",
       "      <td>17.49</td>\n",
       "      <td>44.13</td>\n",
       "      <td>93.200</td>\n",
       "      <td>17.0</td>\n",
       "      <td>40.0</td>\n",
       "      <td>2.60</td>\n",
       "      <td>SA</td>\n",
       "      <td>08-18-2020</td>\n",
       "    </tr>\n",
       "    <tr>\n",
       "      <th>4</th>\n",
       "      <td>kapaa</td>\n",
       "      <td>22.08</td>\n",
       "      <td>-159.32</td>\n",
       "      <td>82.400</td>\n",
       "      <td>65.0</td>\n",
       "      <td>20.0</td>\n",
       "      <td>7.20</td>\n",
       "      <td>US</td>\n",
       "      <td>08-18-2020</td>\n",
       "    </tr>\n",
       "    <tr>\n",
       "      <th>...</th>\n",
       "      <td>...</td>\n",
       "      <td>...</td>\n",
       "      <td>...</td>\n",
       "      <td>...</td>\n",
       "      <td>...</td>\n",
       "      <td>...</td>\n",
       "      <td>...</td>\n",
       "      <td>...</td>\n",
       "      <td>...</td>\n",
       "    </tr>\n",
       "    <tr>\n",
       "      <th>604</th>\n",
       "      <td>linkou</td>\n",
       "      <td>45.30</td>\n",
       "      <td>130.28</td>\n",
       "      <td>65.012</td>\n",
       "      <td>94.0</td>\n",
       "      <td>100.0</td>\n",
       "      <td>1.55</td>\n",
       "      <td>CN</td>\n",
       "      <td>08-18-2020</td>\n",
       "    </tr>\n",
       "    <tr>\n",
       "      <th>605</th>\n",
       "      <td>helong</td>\n",
       "      <td>42.54</td>\n",
       "      <td>129.00</td>\n",
       "      <td>71.636</td>\n",
       "      <td>75.0</td>\n",
       "      <td>11.0</td>\n",
       "      <td>3.11</td>\n",
       "      <td>CN</td>\n",
       "      <td>08-18-2020</td>\n",
       "    </tr>\n",
       "    <tr>\n",
       "      <th>606</th>\n",
       "      <td>abnub</td>\n",
       "      <td>27.27</td>\n",
       "      <td>31.15</td>\n",
       "      <td>87.800</td>\n",
       "      <td>43.0</td>\n",
       "      <td>0.0</td>\n",
       "      <td>4.60</td>\n",
       "      <td>EG</td>\n",
       "      <td>08-18-2020</td>\n",
       "    </tr>\n",
       "    <tr>\n",
       "      <th>607</th>\n",
       "      <td>aleksandriyskaya</td>\n",
       "      <td>44.23</td>\n",
       "      <td>43.35</td>\n",
       "      <td>68.000</td>\n",
       "      <td>45.0</td>\n",
       "      <td>0.0</td>\n",
       "      <td>1.00</td>\n",
       "      <td>RU</td>\n",
       "      <td>08-18-2020</td>\n",
       "    </tr>\n",
       "    <tr>\n",
       "      <th>608</th>\n",
       "      <td>kijang</td>\n",
       "      <td>35.24</td>\n",
       "      <td>129.21</td>\n",
       "      <td>78.800</td>\n",
       "      <td>88.0</td>\n",
       "      <td>0.0</td>\n",
       "      <td>0.50</td>\n",
       "      <td>KR</td>\n",
       "      <td>08-18-2020</td>\n",
       "    </tr>\n",
       "  </tbody>\n",
       "</table>\n",
       "<p>554 rows × 9 columns</p>\n",
       "</div>"
      ],
      "text/plain": [
       "                 City    Lat     Lng  Max Temp  Humidity  Cloudiness  \\\n",
       "0             rikitea -23.12 -134.97    72.050      79.0         0.0   \n",
       "1         stokmarknes  68.56   14.91    51.998      85.0        92.0   \n",
       "2             mataura -46.19  168.86    43.844      81.0       100.0   \n",
       "3              najran  17.49   44.13    93.200      17.0        40.0   \n",
       "4               kapaa  22.08 -159.32    82.400      65.0        20.0   \n",
       "..                ...    ...     ...       ...       ...         ...   \n",
       "604            linkou  45.30  130.28    65.012      94.0       100.0   \n",
       "605            helong  42.54  129.00    71.636      75.0        11.0   \n",
       "606             abnub  27.27   31.15    87.800      43.0         0.0   \n",
       "607  aleksandriyskaya  44.23   43.35    68.000      45.0         0.0   \n",
       "608            kijang  35.24  129.21    78.800      88.0         0.0   \n",
       "\n",
       "     Wind Speed Country        Date  \n",
       "0          4.85      PF  08-18-2020  \n",
       "1          2.24      NO  08-18-2020  \n",
       "2          2.27      NZ  08-18-2020  \n",
       "3          2.60      SA  08-18-2020  \n",
       "4          7.20      US  08-18-2020  \n",
       "..          ...     ...         ...  \n",
       "604        1.55      CN  08-18-2020  \n",
       "605        3.11      CN  08-18-2020  \n",
       "606        4.60      EG  08-18-2020  \n",
       "607        1.00      RU  08-18-2020  \n",
       "608        0.50      KR  08-18-2020  \n",
       "\n",
       "[554 rows x 9 columns]"
      ]
     },
     "execution_count": 11,
     "metadata": {},
     "output_type": "execute_result"
    }
   ],
   "source": [
    "#making columns numeric\n",
    "city_weather[\"Lat\"] = pd.to_numeric(city_weather[\"Lat\"])\n",
    "city_weather[\"Lng\"] = pd.to_numeric(city_weather[\"Lng\"])\n",
    "city_weather[\"Max Temp\"] = pd.to_numeric(city_weather[\"Max Temp\"])\n",
    "city_weather[\"Max Temp\"] = ((city_weather[\"Max Temp\"] -273.15) * 9/5 +32) #converting Kelvin to Fahrenheit # Also could have used units = imperial method\n",
    "city_weather[\"Humidity\"] = pd.to_numeric(city_weather[\"Humidity\"])\n",
    "city_weather[\"Cloudiness\"] = pd.to_numeric(city_weather[\"Cloudiness\"])\n",
    "city_weather[\"Wind Speed\"] = pd.to_numeric(city_weather[\"Wind Speed\"])\n",
    "\n",
    "#formatting date\n",
    "city_weather[\"Date\"] = pd.to_datetime(city_weather[\"Date\"], unit = \"s\")\n",
    "city_weather['Date'] = pd.to_datetime(city_weather['Date']) \n",
    "city_weather['Date'] = city_weather['Date'].dt.strftime('%m-%d-%Y') \n",
    "\n",
    "# Dropping NANs\n",
    "city_weather_no_null = city_weather.dropna(how = \"any\")\n",
    "city_weather_no_null.to_csv(\"city_weather.csv\", index=False)\n",
    "city_weather_no_null"
   ]
  },
  {
   "cell_type": "markdown",
   "metadata": {},
   "source": [
    "## Inspect the data and remove the cities where the humidity > 100%.\n",
    "----\n",
    "Skip this step if there are no cities that have humidity > 100%. "
   ]
  },
  {
   "cell_type": "code",
   "execution_count": 12,
   "metadata": {},
   "outputs": [
    {
     "name": "stdout",
     "output_type": "stream",
     "text": [
      "Empty DataFrame\n",
      "Columns: [City, Lat, Lng, Max Temp, Humidity, Cloudiness, Wind Speed, Country, Date]\n",
      "Index: []\n",
      "Skipping since no cities have humidity > 100%\n"
     ]
    }
   ],
   "source": [
    "city_weather_no_null_humidity = city_weather_no_null.loc[city_weather_no_null['Humidity'] > 100, ]\n",
    "print(city_weather_no_null_humidity)\n",
    "print(f\"Skipping since no cities have humidity > 100%\")"
   ]
  },
  {
   "cell_type": "code",
   "execution_count": 13,
   "metadata": {},
   "outputs": [
    {
     "name": "stdout",
     "output_type": "stream",
     "text": [
      "Skipping since no cities have humidity > 100%\n"
     ]
    }
   ],
   "source": [
    "#  Get the indices of cities that have humidity over 100%.\n",
    "print(f\"Skipping since no cities have humidity > 100%\")"
   ]
  },
  {
   "cell_type": "code",
   "execution_count": 14,
   "metadata": {},
   "outputs": [
    {
     "name": "stdout",
     "output_type": "stream",
     "text": [
      "Skipping since no cities have humidity > 100%\n"
     ]
    }
   ],
   "source": [
    "# Make a new DataFrame equal to the city data to drop all humidity outliers by index.\n",
    "# Passing \"inplace=False\" will make a copy of the city_data DataFrame, which we call \"clean_city_data\".\n",
    "print(f\"Skipping since no cities have humidity > 100%\")"
   ]
  },
  {
   "cell_type": "code",
   "execution_count": 1,
   "metadata": {},
   "outputs": [
    {
     "name": "stdout",
     "output_type": "stream",
     "text": [
      "Already exported to CSV in step \"In [11]:\"\n"
     ]
    }
   ],
   "source": [
    "# Extract relevant fields from the data frame\n",
    "# Export the City_Data into a csv\n",
    "print('Already exported to CSV in step \"In [11]:\"') "
   ]
  },
  {
   "cell_type": "markdown",
   "metadata": {},
   "source": [
    "## Plotting the Data\n",
    "* Use proper labeling of the plots using plot titles (including date of analysis) and axes labels.\n",
    "* Save the plotted figures as .pngs."
   ]
  },
  {
   "cell_type": "markdown",
   "metadata": {},
   "source": [
    "## Latitude vs. Temperature Plot"
   ]
  },
  {
   "cell_type": "code",
   "execution_count": 16,
   "metadata": {
    "scrolled": true
   },
   "outputs": [
    {
     "data": {
      "image/png": "[encoded data removed]",
      "text/plain": [
       "<Figure size 432x288 with 1 Axes>"
      ]
     },
     "metadata": {
      "needs_background": "light"
     },
     "output_type": "display_data"
    }
   ],
   "source": [
    "# Defining date variable, so date in chart updates to the date of the URL call\n",
    "date = city_weather.loc[1,'Date']\n",
    "\n",
    "plt.grid()\n",
    "plt.scatter(city_weather_no_null['Lat'], city_weather_no_null['Max Temp'], facecolors=\"royalblue\", edgecolors=\"black\")\n",
    "plt.xlabel(\"Latitude\")\n",
    "plt.ylabel(\"Max Temperature (F)\")\n",
    "plt.title(f\"City Latitude vs Max Temperature {date}\")\n",
    "plt.savefig('lat_temp_all.png')"
   ]
  },
  {
   "cell_type": "markdown",
   "metadata": {},
   "source": [
    "Temperatures tend to be higher the closer the city is to the equator."
   ]
  },
  {
   "cell_type": "markdown",
   "metadata": {},
   "source": [
    "## Latitude vs. Humidity Plot"
   ]
  },
  {
   "cell_type": "code",
   "execution_count": 17,
   "metadata": {},
   "outputs": [
    {
     "data": {
      "image/png": "[encoded data removed]",
      "text/plain": [
       "<Figure size 432x288 with 1 Axes>"
      ]
     },
     "metadata": {
      "needs_background": "light"
     },
     "output_type": "display_data"
    }
   ],
   "source": [
    "date = city_weather.loc[1,'Date']\n",
    "plt.grid()\n",
    "plt.scatter(city_weather_no_null['Lat'], city_weather_no_null['Humidity'], facecolors=\"royalblue\", edgecolors=\"black\")\n",
    "plt.xlabel(\"Latitude\")\n",
    "plt.ylabel(\"Humidity (%)\")\n",
    "plt.title(f\"City Latitude vs Humidity {date}\")\n",
    "plt.savefig('lat_hum_all.png')"
   ]
  },
  {
   "cell_type": "markdown",
   "metadata": {},
   "source": [
    "Humidity was high for the majority of the cities queried regardless of latitude."
   ]
  },
  {
   "cell_type": "markdown",
   "metadata": {},
   "source": [
    "## Latitude vs. Cloudiness Plot"
   ]
  },
  {
   "cell_type": "code",
   "execution_count": 18,
   "metadata": {},
   "outputs": [
    {
     "data": {
      "image/png": "[encoded data removed]",
      "text/plain": [
       "<Figure size 432x288 with 1 Axes>"
      ]
     },
     "metadata": {
      "needs_background": "light"
     },
     "output_type": "display_data"
    }
   ],
   "source": [
    "date = city_weather.loc[1,'Date']\n",
    "plt.grid()\n",
    "plt.scatter(city_weather_no_null['Lat'], city_weather_no_null['Cloudiness'], facecolors=\"royalblue\", edgecolors=\"black\")\n",
    "plt.xlabel(\"Latitude\")\n",
    "plt.ylabel(\"Cloudiness (%)\")\n",
    "plt.title(f\"City Latitude vs Cloudiness {date}\")\n",
    "plt.savefig('lat_cloud_all.png')"
   ]
  },
  {
   "cell_type": "markdown",
   "metadata": {},
   "source": [
    "While the correlation between cloudiness and latitude was low, there seemed to be some clustering from this data call snapshot in time."
   ]
  },
  {
   "cell_type": "markdown",
   "metadata": {},
   "source": [
    "## Latitude vs. Wind Speed Plot"
   ]
  },
  {
   "cell_type": "code",
   "execution_count": 19,
   "metadata": {},
   "outputs": [
    {
     "data": {
      "image/png": "[encoded data removed]",
      "text/plain": [
       "<Figure size 432x288 with 1 Axes>"
      ]
     },
     "metadata": {
      "needs_background": "light"
     },
     "output_type": "display_data"
    }
   ],
   "source": [
    "date = city_weather.loc[1,'Date']\n",
    "plt.grid()\n",
    "plt.scatter(city_weather_no_null['Lat'], city_weather_no_null['Wind Speed'], facecolors=\"royalblue\", edgecolors=\"black\")\n",
    "plt.xlabel(\"Latitude\")\n",
    "plt.ylabel(\"Wind Speed (mph)\")\n",
    "plt.title(f\"City Latitude vs Cloudiness {date}\")\n",
    "plt.savefig('lat_wind_all.png')"
   ]
  },
  {
   "cell_type": "markdown",
   "metadata": {},
   "source": [
    "Across the globe, wind speed was generally lower than 8 mph."
   ]
  },
  {
   "cell_type": "markdown",
   "metadata": {},
   "source": [
    "## Linear Regression"
   ]
  },
  {
   "cell_type": "code",
   "execution_count": 20,
   "metadata": {},
   "outputs": [],
   "source": [
    "# OPTIONAL: Create a function to create Linear Regression plots"
   ]
  },
  {
   "cell_type": "code",
   "execution_count": null,
   "metadata": {},
   "outputs": [],
   "source": [
    "# Create Northern and Southern Hemisphere DataFrames"
   ]
  },
  {
   "cell_type": "markdown",
   "metadata": {},
   "source": [
    "####  Northern Hemisphere - Max Temp vs. Latitude Linear Regression"
   ]
  },
  {
   "cell_type": "code",
   "execution_count": 33,
   "metadata": {},
   "outputs": [
    {
     "name": "stdout",
     "output_type": "stream",
     "text": [
      "R Val is 0.5425121570476431\n"
     ]
    },
    {
     "data": {
      "image/png": "[encoded data removed]",
      "text/plain": [
       "<Figure size 432x288 with 1 Axes>"
      ]
     },
     "metadata": {
      "needs_background": "light"
     },
     "output_type": "display_data"
    }
   ],
   "source": [
    "# Defining date variable, so date in chart updates to the date of the URL call\n",
    "date = city_weather.loc[1,'Date']\n",
    "\n",
    "north_hem = city_weather_no_null.loc[city_weather_no_null['Lat'] > 0,]\n",
    "\n",
    "#plotting and formatting scatter\n",
    "plt.scatter(north_hem['Lat'], north_hem['Max Temp'], marker=\"o\", facecolors=\"dodgerblue\")\n",
    "\n",
    "#inserting chart labels\n",
    "plt.xlabel(\"Latitude\")\n",
    "plt.ylabel(\"Max Temp (F)\")\n",
    "plt.title(f\"Northern Hemisphere - Max Temp vs. Latitude Linear Regression {date}\")\n",
    "\n",
    "#defining values\n",
    "x_values = north_hem['Lat']\n",
    "y_values = north_hem['Max Temp']\n",
    "\n",
    "#defining stats\n",
    "(slope, intercept, rvalue, pvalue, stderr) = linregress(x_values, y_values)\n",
    "\n",
    "#Defining regression\n",
    "regress_values = x_values * slope + intercept\n",
    "line_eq = \"y = \" + str(round(slope,2)) + \"x + \" + str(round(intercept,2))\n",
    "\n",
    "#Plotting line regress\n",
    "plt.plot(x_values,regress_values,\"r-\")\n",
    "\n",
    "#Printing R Value\n",
    "print(f\"R Val is {rvalue**2}\")\n",
    "\n",
    "#Plotting line equation on the graph\n",
    "plt.annotate(line_eq,(45,90),fontsize=15,color=\"red\") #(20,30) is x y coordinate on graph where line will start printing\n",
    "plt.savefig('north_temp.png')"
   ]
  },
  {
   "cell_type": "markdown",
   "metadata": {},
   "source": [
    "There was a moderate correlation (R-Value around .5) between Northern Max Temp and Latitude."
   ]
  },
  {
   "cell_type": "markdown",
   "metadata": {},
   "source": [
    "####  Southern Hemisphere - Max Temp vs. Latitude Linear Regression"
   ]
  },
  {
   "cell_type": "code",
   "execution_count": 22,
   "metadata": {},
   "outputs": [
    {
     "name": "stdout",
     "output_type": "stream",
     "text": [
      "R Val is 0.6040657598532806\n"
     ]
    },
    {
     "data": {
      "image/png": "[encoded data removed]",
      "text/plain": [
       "<Figure size 432x288 with 1 Axes>"
      ]
     },
     "metadata": {
      "needs_background": "light"
     },
     "output_type": "display_data"
    }
   ],
   "source": [
    "# Defining date variable, so date in chart updates to the date of the URL call\n",
    "date = city_weather.loc[1,'Date']\n",
    "\n",
    "south_hem = city_weather_no_null.loc[city_weather_no_null['Lat'] < 0,]\n",
    "\n",
    "#plotting and formatting scatter\n",
    "plt.scatter(south_hem['Lat'], south_hem['Max Temp'], marker=\"o\", facecolors=\"dodgerblue\")\n",
    "\n",
    "#inserting chart labels\n",
    "plt.xlabel(\"Latitude\")\n",
    "plt.ylabel(\"Max Temp (F)\")\n",
    "plt.title(f\"Southern Hemisphere - Max Temp vs. Latitude Linear Regression {date}\")\n",
    "\n",
    "#defining values\n",
    "x_values = south_hem['Lat']\n",
    "y_values = south_hem['Max Temp']\n",
    "\n",
    "#defining stats\n",
    "(slope, intercept, rvalue, pvalue, stderr) = linregress(x_values, y_values)\n",
    "\n",
    "#Defining regression\n",
    "regress_values = x_values * slope + intercept\n",
    "line_eq = \"y = \" + str(round(slope,2)) + \"x + \" + str(round(intercept,2))\n",
    "\n",
    "#Plotting line regress\n",
    "plt.plot(x_values,regress_values,\"r-\")\n",
    "\n",
    "#Printing R Value\n",
    "print(f\"R Val is {rvalue**2}\")\n",
    "\n",
    "#Plotting line equation on the graph\n",
    "plt.annotate(line_eq,(-55,80),fontsize=15,color=\"red\") #(20,30) is x y coordinate on graph where line will start printing\n",
    "plt.savefig('south_temp.png')"
   ]
  },
  {
   "cell_type": "markdown",
   "metadata": {},
   "source": [
    "There was a moderate to strong correlation between Southern Max Temp and Latitude."
   ]
  },
  {
   "cell_type": "markdown",
   "metadata": {},
   "source": [
    "Northern Hemisphere - Humidity (%) vs. Latitude Linear Regression"
   ]
  },
  {
   "cell_type": "code",
   "execution_count": 32,
   "metadata": {},
   "outputs": [
    {
     "name": "stdout",
     "output_type": "stream",
     "text": [
      "R Val is 0.0005605057412062588\n"
     ]
    },
    {
     "data": {
      "image/png": "[encoded data removed]",
      "text/plain": [
       "<Figure size 432x288 with 1 Axes>"
      ]
     },
     "metadata": {
      "needs_background": "light"
     },
     "output_type": "display_data"
    }
   ],
   "source": [
    "date = city_weather.loc[1,'Date']\n",
    "\n",
    "north_hem = city_weather_no_null.loc[city_weather_no_null['Lat'] > 0,]\n",
    "\n",
    "#plotting and formatting scatter\n",
    "plt.scatter(north_hem['Lat'], north_hem['Humidity'], marker=\"o\", facecolors=\"dodgerblue\")\n",
    "\n",
    "#inserting chart labels\n",
    "plt.xlabel(\"Latitude\")\n",
    "plt.ylabel(\"Humidity (%)\")\n",
    "plt.title(f\"Northern Hemisphere - Humidity (%) vs. Latitude Linear Regression {date}\")\n",
    "\n",
    "#defining values\n",
    "x_values = north_hem['Lat']\n",
    "y_values = north_hem['Humidity']\n",
    "\n",
    "#defining stats\n",
    "(slope, intercept, rvalue, pvalue, stderr) = linregress(x_values, y_values)\n",
    "\n",
    "#Defining regression\n",
    "regress_values = x_values * slope + intercept\n",
    "line_eq = \"y = \" + str(round(slope,2)) + \"x + \" + str(round(intercept,2))\n",
    "\n",
    "#Plotting line regress\n",
    "plt.plot(x_values,regress_values,\"r-\")\n",
    "\n",
    "#Printing R Value\n",
    "print(f\"R Val is {rvalue**2}\")\n",
    "\n",
    "#Plotting line equation on the graph\n",
    "plt.annotate(line_eq,(45,10),fontsize=15,color=\"red\") #(20,30) is x y coordinate on graph where line will start printing\n",
    "plt.savefig('north_hum.png')"
   ]
  },
  {
   "cell_type": "markdown",
   "metadata": {},
   "source": [
    "There was very little to practically no correlation between Northern humidity and latitude."
   ]
  },
  {
   "cell_type": "markdown",
   "metadata": {},
   "source": [
    "####  Southern Hemisphere - Humidity (%) vs. Latitude Linear Regression"
   ]
  },
  {
   "cell_type": "code",
   "execution_count": 31,
   "metadata": {},
   "outputs": [
    {
     "name": "stdout",
     "output_type": "stream",
     "text": [
      "R Val is 0.00017043325387133416\n"
     ]
    },
    {
     "data": {
      "image/png": "[encoded data removed]",
      "text/plain": [
       "<Figure size 432x288 with 1 Axes>"
      ]
     },
     "metadata": {
      "needs_background": "light"
     },
     "output_type": "display_data"
    }
   ],
   "source": [
    "date = city_weather.loc[1,'Date']\n",
    "\n",
    "south_hem = city_weather_no_null.loc[city_weather_no_null['Lat'] < 0,]\n",
    "\n",
    "#plotting and formatting scatter\n",
    "plt.scatter(south_hem['Lat'], south_hem['Humidity'], marker=\"o\", facecolors=\"dodgerblue\")\n",
    "\n",
    "#inserting chart labels\n",
    "plt.xlabel(\"Latitude\")\n",
    "plt.ylabel(\"Humidity (%)\")\n",
    "plt.title(f\"Southern Hemisphere - Humidity (%) vs. Latitude Linear Regression {date}\")\n",
    "\n",
    "#defining values\n",
    "x_values = south_hem['Lat']\n",
    "y_values = south_hem['Humidity']\n",
    "\n",
    "#defining stats\n",
    "(slope, intercept, rvalue, pvalue, stderr) = linregress(x_values, y_values)\n",
    "\n",
    "#Defining regression\n",
    "regress_values = x_values * slope + intercept\n",
    "line_eq = \"y = \" + str(round(slope,2)) + \"x + \" + str(round(intercept,2))\n",
    "\n",
    "#Plotting line regress\n",
    "plt.plot(x_values,regress_values,\"r-\")\n",
    "\n",
    "#Printing R Value\n",
    "print(f\"R Val is {rvalue**2}\")\n",
    "\n",
    "#Plotting line equation on the graph\n",
    "plt.annotate(line_eq,(-55,11),fontsize=15,color=\"red\") #(20,30) is x y coordinate on graph where line will start printing\n",
    "plt.savefig('south_hum.png')"
   ]
  },
  {
   "cell_type": "markdown",
   "metadata": {},
   "source": [
    "There was very little to practically no correlation between Southern humidity and latitude."
   ]
  },
  {
   "cell_type": "markdown",
   "metadata": {},
   "source": [
    "####  Northern Hemisphere - Cloudiness (%) vs. Latitude Linear Regression"
   ]
  },
  {
   "cell_type": "code",
   "execution_count": 25,
   "metadata": {},
   "outputs": [
    {
     "name": "stdout",
     "output_type": "stream",
     "text": [
      "R Val is 0.0003855293775560801\n"
     ]
    },
    {
     "data": {
      "image/png": "[encoded data removed]",
      "text/plain": [
       "<Figure size 432x288 with 1 Axes>"
      ]
     },
     "metadata": {
      "needs_background": "light"
     },
     "output_type": "display_data"
    }
   ],
   "source": [
    "date = city_weather.loc[1,'Date']\n",
    "\n",
    "north_hem = city_weather_no_null.loc[city_weather_no_null['Lat'] > 0,]\n",
    "\n",
    "#plotting and formatting scatter\n",
    "plt.scatter(north_hem['Lat'], north_hem['Cloudiness'], marker=\"o\", facecolors=\"dodgerblue\")\n",
    "\n",
    "#inserting chart labels\n",
    "plt.xlabel(\"Latitude\")\n",
    "plt.ylabel(\"Cloudiness (%)\")\n",
    "plt.title(f\"Northern Hemisphere - Cloudiness (%) vs. Latitude Linear Regression{date}\")\n",
    "\n",
    "#defining values\n",
    "x_values = north_hem['Lat']\n",
    "y_values = north_hem['Cloudiness']\n",
    "\n",
    "#defining stats\n",
    "(slope, intercept, rvalue, pvalue, stderr) = linregress(x_values, y_values)\n",
    "\n",
    "#Defining regression\n",
    "regress_values = x_values * slope + intercept\n",
    "line_eq = \"y = \" + str(round(slope,2)) + \"x + \" + str(round(intercept,2))\n",
    "\n",
    "#Plotting line regress\n",
    "plt.plot(x_values,regress_values,\"r-\")\n",
    "\n",
    "#Printing R Value\n",
    "print(f\"R Val is {rvalue**2}\")\n",
    "\n",
    "#Plotting line equation on the graph\n",
    "plt.annotate(line_eq,(0,8),fontsize=15,color=\"red\") #(20,30) is x y coordinate on graph where line will start printing\n",
    "plt.savefig('north_cloud.png')"
   ]
  },
  {
   "cell_type": "markdown",
   "metadata": {},
   "source": [
    "There is very little to practically no correlation (.0038 R-Value) between Northern cloudiness and latitude."
   ]
  },
  {
   "cell_type": "markdown",
   "metadata": {},
   "source": [
    "####  Southern Hemisphere - Cloudiness (%) vs. Latitude Linear Regression"
   ]
  },
  {
   "cell_type": "code",
   "execution_count": 26,
   "metadata": {},
   "outputs": [
    {
     "name": "stdout",
     "output_type": "stream",
     "text": [
      "R Val is 0.01916793562633072\n"
     ]
    },
    {
     "data": {
      "image/png": "[encoded data removed]",
      "text/plain": [
       "<Figure size 432x288 with 1 Axes>"
      ]
     },
     "metadata": {
      "needs_background": "light"
     },
     "output_type": "display_data"
    }
   ],
   "source": [
    "date = city_weather.loc[1,'Date']\n",
    "\n",
    "south_hem = city_weather_no_null.loc[city_weather_no_null['Lat'] < 0,]\n",
    "\n",
    "#plotting and formatting scatter\n",
    "plt.scatter(south_hem['Lat'], south_hem['Cloudiness'], marker=\"o\", facecolors=\"dodgerblue\")\n",
    "\n",
    "#inserting chart labels\n",
    "plt.xlabel(\"Latitude\")\n",
    "plt.ylabel('Cloudiness (%)')\n",
    "plt.title(f\"Southern Hemisphere - Cloudiness (%) vs. Latitude Linear Regression {date}\")\n",
    "\n",
    "#defining values\n",
    "x_values = south_hem['Lat']\n",
    "y_values = south_hem['Cloudiness']\n",
    "\n",
    "#defining stats\n",
    "(slope, intercept, rvalue, pvalue, stderr) = linregress(x_values, y_values)\n",
    "\n",
    "#Defining regression\n",
    "regress_values = x_values * slope + intercept\n",
    "line_eq = \"y = \" + str(round(slope,2)) + \"x + \" + str(round(intercept,2))\n",
    "\n",
    "#Plotting line regress\n",
    "plt.plot(x_values,regress_values,\"r-\")\n",
    "\n",
    "#Printing R Value\n",
    "print(f\"R Val is {rvalue**2}\")\n",
    "\n",
    "#Plotting line equation on the graph\n",
    "plt.annotate(line_eq,(-55,7),fontsize=15,color=\"red\") #(20,30) is x y coordinate on graph where line will start printing\n",
    "plt.savefig('south_cloud.png')"
   ]
  },
  {
   "cell_type": "markdown",
   "metadata": {},
   "source": [
    "There is very little correlation (.019 R-Value) between Southern cloudiness and latitude."
   ]
  },
  {
   "cell_type": "markdown",
   "metadata": {},
   "source": [
    "####  Northern Hemisphere - Wind Speed (mph) vs. Latitude Linear Regression"
   ]
  },
  {
   "cell_type": "code",
   "execution_count": 30,
   "metadata": {},
   "outputs": [
    {
     "name": "stdout",
     "output_type": "stream",
     "text": [
      "R Val is 2.816259355643764e-06\n"
     ]
    },
    {
     "data": {
      "image/png": "[encoded data removed]",
      "text/plain": [
       "<Figure size 432x288 with 1 Axes>"
      ]
     },
     "metadata": {
      "needs_background": "light"
     },
     "output_type": "display_data"
    }
   ],
   "source": [
    "date = city_weather.loc[1,'Date']\n",
    "\n",
    "north_hem = city_weather_no_null.loc[city_weather_no_null['Lat'] > 0,]\n",
    "\n",
    "#plotting and formatting scatter\n",
    "plt.scatter(north_hem['Lat'], north_hem['Wind Speed'], marker=\"o\", facecolors=\"dodgerblue\")\n",
    "\n",
    "#inserting chart labels\n",
    "plt.xlabel(\"Latitude\")\n",
    "plt.ylabel('Wind Speed (mph)')\n",
    "plt.title(f\"Northern Hemisphere - Wind Speed (mph) vs. Latitude Linear Regression {date}\")\n",
    "\n",
    "#defining values\n",
    "x_values = north_hem['Lat']\n",
    "y_values = north_hem['Wind Speed']\n",
    "\n",
    "#defining stats\n",
    "(slope, intercept, rvalue, pvalue, stderr) = linregress(x_values, y_values)\n",
    "\n",
    "#Defining regression\n",
    "regress_values = x_values * slope + intercept\n",
    "line_eq = \"y = \" + str(round(slope,2)) + \"x + \" + str(round(intercept,2))\n",
    "\n",
    "#Plotting line regress\n",
    "plt.plot(x_values,regress_values,\"r-\")\n",
    "\n",
    "#Printing R Value\n",
    "print(f\"R Val is {rvalue**2}\")\n",
    "\n",
    "#Plotting line equation on the graph\n",
    "plt.annotate(line_eq,(0,12),fontsize=15,color=\"red\") #(20,30) is x y coordinate on graph where line will start printing\n",
    "plt.savefig('north_wind.png')"
   ]
  },
  {
   "cell_type": "markdown",
   "metadata": {},
   "source": [
    "There is very little correlation between Northern wind speed and latitude."
   ]
  },
  {
   "cell_type": "markdown",
   "metadata": {},
   "source": [
    "####  Southern Hemisphere - Wind Speed (mph) vs. Latitude Linear Regression"
   ]
  },
  {
   "cell_type": "code",
   "execution_count": 28,
   "metadata": {},
   "outputs": [
    {
     "name": "stdout",
     "output_type": "stream",
     "text": [
      "R Val is 0.035152767925346586\n"
     ]
    },
    {
     "data": {
      "image/png": "[encoded data removed]",
      "text/plain": [
       "<Figure size 432x288 with 1 Axes>"
      ]
     },
     "metadata": {
      "needs_background": "light"
     },
     "output_type": "display_data"
    }
   ],
   "source": [
    "date = city_weather.loc[1,'Date']\n",
    "\n",
    "south_hem = city_weather_no_null.loc[city_weather_no_null['Lat'] < 0,]\n",
    "\n",
    "#plotting and formatting scatter\n",
    "plt.scatter(south_hem['Lat'], south_hem['Wind Speed'], marker=\"o\", facecolors=\"dodgerblue\")\n",
    "\n",
    "#inserting chart labels\n",
    "plt.xlabel(\"Latitude\")\n",
    "plt.ylabel(\"Wind Speed (mph)\")\n",
    "plt.title(f\"Southern Hemisphere - Wind Speed (mph) vs. Latitude Linear Regression {date}\")\n",
    "\n",
    "#defining values\n",
    "x_values = south_hem['Lat']\n",
    "y_values = south_hem['Wind Speed']\n",
    "\n",
    "#defining stats\n",
    "(slope, intercept, rvalue, pvalue, stderr) = linregress(x_values, y_values)\n",
    "\n",
    "#Defining regression\n",
    "regress_values = x_values * slope + intercept\n",
    "line_eq = \"y = \" + str(round(slope,2)) + \"x + \" + str(round(intercept,2))\n",
    "\n",
    "#Plotting line regress\n",
    "plt.plot(x_values,regress_values,\"r-\")\n",
    "\n",
    "#Printing R Value\n",
    "print(f\"R Val is {rvalue**2}\")\n",
    "\n",
    "#Plotting line equation on the graph\n",
    "plt.annotate(line_eq,(-55,11),fontsize=15,color=\"red\") #(20,30) is x y coordinate on graph where line will start printing\n",
    "plt.savefig('south_wind.png')"
   ]
  },
  {
   "cell_type": "markdown",
   "metadata": {},
   "source": [
    "There is low correlation between Southern wind speed and latitude."
   ]
  }
 ],
 "metadata": {
  "anaconda-cloud": {},
  "kernel_info": {
   "name": "python3"
  },
  "kernelspec": {
   "display_name": "Python [conda env:pythondata] *",
   "language": "python",
   "name": "conda-env-pythondata-py"
  },
  "language_info": {
   "codemirror_mode": {
    "name": "ipython",
    "version": 3
   },
   "file_extension": ".py",
   "mimetype": "text/x-python",
   "name": "python",
   "nbconvert_exporter": "python",
   "pygments_lexer": "ipython3",
   "version": "3.8.5"
  },
  "latex_envs": {
   "LaTeX_envs_menu_present": true,
   "autoclose": false,
   "autocomplete": true,
   "bibliofile": "biblio.bib",
   "cite_by": "apalike",
   "current_citInitial": 1,
   "eqLabelWithNumbers": true,
   "eqNumInitial": 1,
   "hotkeys": {
    "equation": "Ctrl-E",
    "itemize": "Ctrl-I"
   },
   "labels_anchors": false,
   "latex_user_defs": false,
   "report_style_numbering": false,
   "user_envs_cfg": false
  },
  "nteract": {
   "version": "0.12.3"
  }
 },
 "nbformat": 4,
 "nbformat_minor": 2
}
