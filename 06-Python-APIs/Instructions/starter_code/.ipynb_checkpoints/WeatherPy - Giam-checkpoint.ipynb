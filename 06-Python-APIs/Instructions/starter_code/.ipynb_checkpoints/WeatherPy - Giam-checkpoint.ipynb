{
 "cells": [
  {
   "cell_type": "markdown",
   "metadata": {},
   "source": [
    "# WeatherPy\n",
    "----\n",
    "\n",
    "#### Note\n",
    "* Instructions have been included for each segment. You do not have to follow them exactly, but they are included to help you think through the steps."
   ]
  },
  {
   "cell_type": "code",
   "execution_count": 2,
   "metadata": {
    "scrolled": true
   },
   "outputs": [],
   "source": [
    "# Dependencies and Setup\n",
    "import matplotlib.pyplot as plt\n",
    "import pandas as pd\n",
    "import numpy as np\n",
    "import requests\n",
    "import time\n",
    "from scipy.stats import linregress\n",
    "from pprint import pprint\n",
    "\n",
    "# Import API key\n",
    "from api_keys import weather_api_key\n",
    "\n",
    "# Incorporated citipy to determine city based on latitude and longitude\n",
    "from citipy import citipy\n",
    "\n",
    "# Output File (CSV)\n",
    "output_data_file = \"output_data/cities.csv\"\n",
    "\n",
    "# Range of latitudes and longitudes\n",
    "lat_range = (-90, 90)\n",
    "lng_range = (-180, 180)"
   ]
  },
  {
   "cell_type": "markdown",
   "metadata": {},
   "source": [
    "## Generate Cities List"
   ]
  },
  {
   "cell_type": "code",
   "execution_count": 3,
   "metadata": {},
   "outputs": [
    {
     "data": {
      "text/plain": [
       "620"
      ]
     },
     "execution_count": 3,
     "metadata": {},
     "output_type": "execute_result"
    }
   ],
   "source": [
    "# List for holding lat_lngs and cities\n",
    "lat_lngs = []\n",
    "cities = []\n",
    "\n",
    "# Create a set of random lat and lng combinations\n",
    "lats = np.random.uniform(lat_range[0], lat_range[1], size=1500)\n",
    "lngs = np.random.uniform(lng_range[0], lng_range[1], size=1500)\n",
    "lat_lngs = zip(lats, lngs)\n",
    "\n",
    "# Identify nearest city for each lat, lng combination\n",
    "for lat_lng in lat_lngs:\n",
    "    city = citipy.nearest_city(lat_lng[0], lat_lng[1]).city_name\n",
    "    \n",
    "    # If the city is unique, then add it to a our cities list\n",
    "    if city not in cities:\n",
    "        cities.append(city)\n",
    "\n",
    "# Print the city count to confirm sufficient count\n",
    "len(cities)"
   ]
  },
  {
   "cell_type": "code",
   "execution_count": 4,
   "metadata": {},
   "outputs": [
    {
     "data": {
      "text/html": [
       "<div>\n",
       "<style scoped>\n",
       "    .dataframe tbody tr th:only-of-type {\n",
       "        vertical-align: middle;\n",
       "    }\n",
       "\n",
       "    .dataframe tbody tr th {\n",
       "        vertical-align: top;\n",
       "    }\n",
       "\n",
       "    .dataframe thead th {\n",
       "        text-align: right;\n",
       "    }\n",
       "</style>\n",
       "<table border=\"1\" class=\"dataframe\">\n",
       "  <thead>\n",
       "    <tr style=\"text-align: right;\">\n",
       "      <th></th>\n",
       "      <th>City</th>\n",
       "    </tr>\n",
       "  </thead>\n",
       "  <tbody>\n",
       "    <tr>\n",
       "      <th>0</th>\n",
       "      <td>punta arenas</td>\n",
       "    </tr>\n",
       "    <tr>\n",
       "      <th>1</th>\n",
       "      <td>avenal</td>\n",
       "    </tr>\n",
       "    <tr>\n",
       "      <th>2</th>\n",
       "      <td>saleaula</td>\n",
       "    </tr>\n",
       "    <tr>\n",
       "      <th>3</th>\n",
       "      <td>mataura</td>\n",
       "    </tr>\n",
       "    <tr>\n",
       "      <th>4</th>\n",
       "      <td>ewa beach</td>\n",
       "    </tr>\n",
       "  </tbody>\n",
       "</table>\n",
       "</div>"
      ],
      "text/plain": [
       "           City\n",
       "0  punta arenas\n",
       "1        avenal\n",
       "2      saleaula\n",
       "3       mataura\n",
       "4     ewa beach"
      ]
     },
     "execution_count": 4,
     "metadata": {},
     "output_type": "execute_result"
    }
   ],
   "source": [
    "city_weather = pd.DataFrame(cities, columns=['City'])\n",
    "city_weather.head()"
   ]
  },
  {
   "cell_type": "code",
   "execution_count": 5,
   "metadata": {},
   "outputs": [
    {
     "data": {
      "text/html": [
       "<div>\n",
       "<style scoped>\n",
       "    .dataframe tbody tr th:only-of-type {\n",
       "        vertical-align: middle;\n",
       "    }\n",
       "\n",
       "    .dataframe tbody tr th {\n",
       "        vertical-align: top;\n",
       "    }\n",
       "\n",
       "    .dataframe thead th {\n",
       "        text-align: right;\n",
       "    }\n",
       "</style>\n",
       "<table border=\"1\" class=\"dataframe\">\n",
       "  <thead>\n",
       "    <tr style=\"text-align: right;\">\n",
       "      <th></th>\n",
       "      <th>City</th>\n",
       "      <th>Lat</th>\n",
       "      <th>Lng</th>\n",
       "      <th>Max Temp</th>\n",
       "      <th>Humidity</th>\n",
       "      <th>Cloudiness</th>\n",
       "      <th>Wind Speed</th>\n",
       "      <th>Country</th>\n",
       "      <th>Date</th>\n",
       "    </tr>\n",
       "  </thead>\n",
       "  <tbody>\n",
       "    <tr>\n",
       "      <th>0</th>\n",
       "      <td>punta arenas</td>\n",
       "      <td></td>\n",
       "      <td></td>\n",
       "      <td></td>\n",
       "      <td></td>\n",
       "      <td></td>\n",
       "      <td></td>\n",
       "      <td></td>\n",
       "      <td></td>\n",
       "    </tr>\n",
       "    <tr>\n",
       "      <th>1</th>\n",
       "      <td>avenal</td>\n",
       "      <td></td>\n",
       "      <td></td>\n",
       "      <td></td>\n",
       "      <td></td>\n",
       "      <td></td>\n",
       "      <td></td>\n",
       "      <td></td>\n",
       "      <td></td>\n",
       "    </tr>\n",
       "    <tr>\n",
       "      <th>2</th>\n",
       "      <td>saleaula</td>\n",
       "      <td></td>\n",
       "      <td></td>\n",
       "      <td></td>\n",
       "      <td></td>\n",
       "      <td></td>\n",
       "      <td></td>\n",
       "      <td></td>\n",
       "      <td></td>\n",
       "    </tr>\n",
       "    <tr>\n",
       "      <th>3</th>\n",
       "      <td>mataura</td>\n",
       "      <td></td>\n",
       "      <td></td>\n",
       "      <td></td>\n",
       "      <td></td>\n",
       "      <td></td>\n",
       "      <td></td>\n",
       "      <td></td>\n",
       "      <td></td>\n",
       "    </tr>\n",
       "    <tr>\n",
       "      <th>4</th>\n",
       "      <td>ewa beach</td>\n",
       "      <td></td>\n",
       "      <td></td>\n",
       "      <td></td>\n",
       "      <td></td>\n",
       "      <td></td>\n",
       "      <td></td>\n",
       "      <td></td>\n",
       "      <td></td>\n",
       "    </tr>\n",
       "  </tbody>\n",
       "</table>\n",
       "</div>"
      ],
      "text/plain": [
       "           City Lat Lng Max Temp Humidity Cloudiness Wind Speed Country Date\n",
       "0  punta arenas                                                             \n",
       "1        avenal                                                             \n",
       "2      saleaula                                                             \n",
       "3       mataura                                                             \n",
       "4     ewa beach                                                             "
      ]
     },
     "execution_count": 5,
     "metadata": {},
     "output_type": "execute_result"
    }
   ],
   "source": [
    "city_weather['Lat']=''\n",
    "city_weather['Lng']=''\n",
    "city_weather['Max Temp']=''\n",
    "city_weather['Humidity']=''\n",
    "city_weather['Cloudiness']=''\n",
    "city_weather['Wind Speed']=''\n",
    "city_weather['Country']=''\n",
    "city_weather['Date']=''\n",
    "\n",
    "city_weather.head()"
   ]
  },
  {
   "cell_type": "markdown",
   "metadata": {},
   "source": [
    "### Perform API Calls\n",
    "* Perform a weather check on each city using a series of successive API calls.\n",
    "* Include a print log of each city as it'sbeing processed (with the city number and city name)."
   ]
  },
  {
   "cell_type": "code",
   "execution_count": 6,
   "metadata": {
    "scrolled": true
   },
   "outputs": [
    {
     "name": "stdout",
     "output_type": "stream",
     "text": [
      "Beginning Data Retrieval\n",
      "-----------------------------\n",
      "Processing Record 1 of Set 1| punta arenas\n",
      "Processing Record 2 of Set 1| avenal\n",
      "Processing Record 3 of Set 1| saleaula\n",
      "City not found, skipping...\n",
      "Processing Record 4 of Set 1| mataura\n",
      "Processing Record 5 of Set 1| ewa beach\n",
      "Processing Record 6 of Set 1| deputatskiy\n",
      "Processing Record 7 of Set 1| souillac\n",
      "Processing Record 8 of Set 1| puerto ayora\n",
      "Processing Record 9 of Set 1| vaini\n",
      "Processing Record 10 of Set 1| camacha\n",
      "Processing Record 11 of Set 1| lufilufi\n",
      "Processing Record 12 of Set 1| saint-philippe\n",
      "Processing Record 13 of Set 1| skagastrond\n",
      "City not found, skipping...\n",
      "Processing Record 14 of Set 1| karoi\n",
      "Processing Record 15 of Set 1| bredasdorp\n",
      "Processing Record 16 of Set 1| kodiak\n",
      "Processing Record 17 of Set 1| lavrentiya\n",
      "Processing Record 18 of Set 1| soyo\n",
      "Processing Record 19 of Set 1| opuwo\n",
      "Processing Record 20 of Set 1| kashan\n",
      "Processing Record 21 of Set 1| manhattan\n",
      "Processing Record 22 of Set 1| samusu\n",
      "City not found, skipping...\n",
      "Processing Record 23 of Set 1| zapolyarnyy\n",
      "Processing Record 24 of Set 1| avarua\n",
      "Processing Record 25 of Set 1| sao filipe\n",
      "Processing Record 26 of Set 1| saint george\n",
      "Processing Record 27 of Set 1| qaanaaq\n",
      "Processing Record 28 of Set 1| sabha\n",
      "Processing Record 29 of Set 1| albany\n",
      "Processing Record 30 of Set 1| ushuaia\n",
      "Processing Record 31 of Set 1| ahipara\n",
      "Processing Record 32 of Set 1| tonantins\n",
      "Processing Record 33 of Set 1| kapaa\n",
      "Processing Record 34 of Set 1| bolungarvik\n",
      "City not found, skipping...\n",
      "Processing Record 35 of Set 1| georgetown\n",
      "Processing Record 36 of Set 1| lagoa\n",
      "Processing Record 37 of Set 1| nouadhibou\n",
      "Processing Record 38 of Set 1| rikitea\n",
      "Processing Record 39 of Set 1| ilulissat\n",
      "Processing Record 40 of Set 1| taolanaro\n",
      "City not found, skipping...\n",
      "Processing Record 41 of Set 1| ippy\n",
      "Processing Record 42 of Set 1| raudeberg\n",
      "Processing Record 43 of Set 1| yeppoon\n",
      "Processing Record 44 of Set 1| constitucion\n",
      "Processing Record 45 of Set 1| northam\n",
      "Processing Record 46 of Set 1| cidreira\n",
      "Processing Record 47 of Set 1| nikolskoye\n",
      "Processing Record 48 of Set 1| castro\n",
      "Processing Record 49 of Set 1| bluff\n",
      "Processing Record 1 of Set 2| los llanos de aridane\n",
      "Processing Record 2 of Set 2| jamestown\n",
      "Processing Record 3 of Set 2| ozgon\n",
      "City not found, skipping...\n",
      "Processing Record 4 of Set 2| severnyy\n",
      "Processing Record 5 of Set 2| pacific grove\n",
      "Processing Record 6 of Set 2| san cristobal\n",
      "Processing Record 7 of Set 2| hilo\n",
      "Processing Record 8 of Set 2| palencia\n",
      "Processing Record 9 of Set 2| sangar\n",
      "Processing Record 10 of Set 2| bataipora\n",
      "Processing Record 11 of Set 2| naze\n",
      "Processing Record 12 of Set 2| airai\n",
      "Processing Record 13 of Set 2| dhidhdhoo\n",
      "Processing Record 14 of Set 2| belushya guba\n",
      "City not found, skipping...\n",
      "Processing Record 15 of Set 2| busselton\n",
      "Processing Record 16 of Set 2| hurghada\n",
      "Processing Record 17 of Set 2| santa lucia\n",
      "Processing Record 18 of Set 2| khatanga\n",
      "Processing Record 19 of Set 2| sentyabrskiy\n",
      "City not found, skipping...\n",
      "Processing Record 20 of Set 2| tsihombe\n",
      "City not found, skipping...\n",
      "Processing Record 21 of Set 2| iquitos\n",
      "Processing Record 22 of Set 2| chapais\n",
      "Processing Record 23 of Set 2| bani walid\n",
      "Processing Record 24 of Set 2| port hardy\n",
      "Processing Record 25 of Set 2| george\n",
      "Processing Record 26 of Set 2| suntar\n",
      "Processing Record 27 of Set 2| tir pol\n",
      "City not found, skipping...\n",
      "Processing Record 28 of Set 2| parabel\n",
      "Processing Record 29 of Set 2| mar del plata\n",
      "Processing Record 30 of Set 2| cervo\n",
      "Processing Record 31 of Set 2| atuona\n",
      "Processing Record 32 of Set 2| cape town\n",
      "Processing Record 33 of Set 2| beihai\n",
      "Processing Record 34 of Set 2| brae\n",
      "Processing Record 35 of Set 2| isangel\n",
      "Processing Record 36 of Set 2| north platte\n",
      "Processing Record 37 of Set 2| khani\n",
      "Processing Record 38 of Set 2| shingu\n",
      "Processing Record 39 of Set 2| narsaq\n",
      "Processing Record 40 of Set 2| mount gambier\n",
      "Processing Record 41 of Set 2| le port\n",
      "Processing Record 42 of Set 2| amapa\n",
      "Processing Record 43 of Set 2| comodoro rivadavia\n",
      "Processing Record 44 of Set 2| peace river\n",
      "Processing Record 45 of Set 2| lorengau\n",
      "Processing Record 46 of Set 2| mizdah\n",
      "Processing Record 47 of Set 2| codrington\n",
      "Processing Record 48 of Set 2| sesheke\n",
      "Processing Record 49 of Set 2| madimba\n",
      "Processing Record 1 of Set 3| carnarvon\n",
      "Processing Record 2 of Set 3| upernavik\n",
      "Processing Record 3 of Set 3| saint-francois\n",
      "Processing Record 4 of Set 3| samarai\n",
      "Processing Record 5 of Set 3| lebu\n",
      "Processing Record 6 of Set 3| butaritari\n",
      "Processing Record 7 of Set 3| pangody\n",
      "Processing Record 8 of Set 3| portoferraio\n",
      "Processing Record 9 of Set 3| oktyabrskoye\n",
      "Processing Record 10 of Set 3| talnakh\n",
      "Processing Record 11 of Set 3| solnechnyy\n",
      "Processing Record 12 of Set 3| phangnga\n",
      "Processing Record 13 of Set 3| grindavik\n",
      "Processing Record 14 of Set 3| campbellsville\n",
      "Processing Record 15 of Set 3| yellowknife\n",
      "Processing Record 16 of Set 3| rawson\n",
      "Processing Record 17 of Set 3| nuuk\n",
      "Processing Record 18 of Set 3| tuatapere\n",
      "Processing Record 19 of Set 3| arraial do cabo\n",
      "Processing Record 20 of Set 3| vallenar\n",
      "Processing Record 21 of Set 3| geraldton\n",
      "Processing Record 22 of Set 3| cerrito\n",
      "Processing Record 23 of Set 3| bolobo\n",
      "Processing Record 24 of Set 3| barentsburg\n",
      "City not found, skipping...\n",
      "Processing Record 25 of Set 3| fairbanks\n",
      "Processing Record 26 of Set 3| mahebourg\n",
      "Processing Record 27 of Set 3| rio tercero\n",
      "Processing Record 28 of Set 3| thompson\n",
      "Processing Record 29 of Set 3| salalah\n",
      "Processing Record 30 of Set 3| illoqqortoormiut\n",
      "City not found, skipping...\n",
      "Processing Record 31 of Set 3| tasiilaq\n",
      "Processing Record 32 of Set 3| aripuana\n",
      "Processing Record 33 of Set 3| abeche\n",
      "Processing Record 34 of Set 3| aviles\n",
      "Processing Record 35 of Set 3| sakakah\n",
      "Processing Record 36 of Set 3| new norfolk\n",
      "Processing Record 37 of Set 3| maloshuyka\n",
      "City not found, skipping...\n",
      "Processing Record 38 of Set 3| cayenne\n",
      "Processing Record 39 of Set 3| hermanus\n",
      "Processing Record 40 of Set 3| tiksi\n",
      "Processing Record 41 of Set 3| hamilton\n",
      "Processing Record 42 of Set 3| matara\n",
      "Processing Record 43 of Set 3| port alfred\n",
      "Processing Record 44 of Set 3| platanos\n",
      "Processing Record 45 of Set 3| cabedelo\n",
      "Processing Record 46 of Set 3| sept-iles\n",
      "Processing Record 47 of Set 3| maningrida\n",
      "Processing Record 48 of Set 3| suzun\n",
      "Processing Record 49 of Set 3| mirina\n",
      "City not found, skipping...\n",
      "Processing Record 1 of Set 4| luderitz\n",
      "Processing Record 2 of Set 4| makkaveyevo\n",
      "Processing Record 3 of Set 4| pocone\n",
      "Processing Record 4 of Set 4| kaitangata\n",
      "Processing Record 5 of Set 4| longyearbyen\n",
      "Processing Record 6 of Set 4| broome\n",
      "Processing Record 7 of Set 4| storforshei\n",
      "Processing Record 8 of Set 4| atasu\n",
      "Processing Record 9 of Set 4| roald\n",
      "Processing Record 10 of Set 4| warqla\n",
      "City not found, skipping...\n",
      "Processing Record 11 of Set 4| stara vyzhivka\n",
      "Processing Record 12 of Set 4| barrow\n",
      "Processing Record 13 of Set 4| lasa\n",
      "Processing Record 14 of Set 4| tulsipur\n",
      "Processing Record 15 of Set 4| vila franca do campo\n",
      "Processing Record 16 of Set 4| bengkulu\n",
      "Processing Record 17 of Set 4| attawapiskat\n",
      "City not found, skipping...\n",
      "Processing Record 18 of Set 4| zyryanovsk\n",
      "Processing Record 19 of Set 4| dikson\n",
      "Processing Record 20 of Set 4| okhotsk\n",
      "Processing Record 21 of Set 4| evensk\n",
      "Processing Record 22 of Set 4| churapcha\n",
      "Processing Record 23 of Set 4| nizhneyansk\n",
      "City not found, skipping...\n",
      "Processing Record 24 of Set 4| shangrao\n",
      "Processing Record 25 of Set 4| fenyi\n",
      "Processing Record 26 of Set 4| louisbourg\n",
      "City not found, skipping...\n",
      "Processing Record 27 of Set 4| kagoro\n",
      "Processing Record 28 of Set 4| dingle\n",
      "Processing Record 29 of Set 4| namatanai\n",
      "Processing Record 30 of Set 4| palimbang\n",
      "Processing Record 31 of Set 4| port elizabeth\n",
      "Processing Record 32 of Set 4| bahia honda\n",
      "Processing Record 33 of Set 4| baruun-urt\n",
      "Processing Record 34 of Set 4| buariki\n",
      "City not found, skipping...\n",
      "Processing Record 35 of Set 4| axim\n",
      "Processing Record 36 of Set 4| nanortalik\n",
      "Processing Record 37 of Set 4| pemberton\n",
      "Processing Record 38 of Set 4| silvino lobos\n",
      "Processing Record 39 of Set 4| kuala selangor\n",
      "Processing Record 40 of Set 4| rincon\n",
      "Processing Record 41 of Set 4| svetlogorsk\n",
      "Processing Record 42 of Set 4| hobart\n",
      "Processing Record 43 of Set 4| hayden\n"
     ]
    },
    {
     "name": "stdout",
     "output_type": "stream",
     "text": [
      "Processing Record 44 of Set 4| kuche\n",
      "City not found, skipping...\n",
      "Processing Record 45 of Set 4| palmer\n",
      "Processing Record 46 of Set 4| aykhal\n",
      "Processing Record 47 of Set 4| saldanha\n",
      "Processing Record 48 of Set 4| ust-tsilma\n",
      "Processing Record 49 of Set 4| cherskiy\n",
      "Processing Record 1 of Set 5| burnie\n",
      "Processing Record 2 of Set 5| oshnaviyeh\n",
      "Processing Record 3 of Set 5| nantucket\n",
      "Processing Record 4 of Set 5| santa eulalia del rio\n",
      "City not found, skipping...\n",
      "Processing Record 5 of Set 5| preobrazheniye\n",
      "Processing Record 6 of Set 5| najran\n",
      "Processing Record 7 of Set 5| cabo san lucas\n",
      "Processing Record 8 of Set 5| newark\n",
      "Processing Record 9 of Set 5| bobcaygeon\n",
      "Processing Record 10 of Set 5| amderma\n",
      "City not found, skipping...\n",
      "Processing Record 11 of Set 5| rawannawi\n",
      "City not found, skipping...\n",
      "Processing Record 12 of Set 5| chokurdakh\n",
      "Processing Record 13 of Set 5| waingapu\n",
      "Processing Record 14 of Set 5| zyryanka\n",
      "Processing Record 15 of Set 5| juneau\n",
      "Processing Record 16 of Set 5| palabuhanratu\n",
      "City not found, skipping...\n",
      "Processing Record 17 of Set 5| leningradskiy\n",
      "Processing Record 18 of Set 5| ninotsminda\n",
      "Processing Record 19 of Set 5| mount isa\n",
      "Processing Record 20 of Set 5| berlevag\n",
      "Processing Record 21 of Set 5| henties bay\n",
      "Processing Record 22 of Set 5| torbay\n",
      "Processing Record 23 of Set 5| buqayq\n",
      "City not found, skipping...\n",
      "Processing Record 24 of Set 5| mildura\n",
      "Processing Record 25 of Set 5| sturgeon bay\n",
      "Processing Record 26 of Set 5| mehran\n",
      "Processing Record 27 of Set 5| tessalit\n",
      "Processing Record 28 of Set 5| kautokeino\n",
      "Processing Record 29 of Set 5| maine-soroa\n",
      "Processing Record 30 of Set 5| ponta do sol\n",
      "Processing Record 31 of Set 5| ribeira grande\n",
      "Processing Record 32 of Set 5| hailar\n",
      "Processing Record 33 of Set 5| behbahan\n",
      "Processing Record 34 of Set 5| halalo\n",
      "City not found, skipping...\n",
      "Processing Record 35 of Set 5| kanniyakumari\n",
      "Processing Record 36 of Set 5| warwick\n",
      "Processing Record 37 of Set 5| pakwach\n",
      "City not found, skipping...\n",
      "Processing Record 38 of Set 5| port moresby\n",
      "Processing Record 39 of Set 5| imperia\n",
      "Processing Record 40 of Set 5| svetlyy\n",
      "Processing Record 41 of Set 5| sitka\n",
      "Processing Record 42 of Set 5| goderich\n",
      "Processing Record 43 of Set 5| sola\n",
      "Processing Record 44 of Set 5| grover beach\n",
      "Processing Record 45 of Set 5| olafsvik\n",
      "Processing Record 46 of Set 5| kiruna\n",
      "Processing Record 47 of Set 5| bhit shah\n",
      "Processing Record 48 of Set 5| ornskoldsvik\n",
      "Processing Record 49 of Set 5| ilhabela\n",
      "Processing Record 1 of Set 6| bethel\n",
      "Processing Record 2 of Set 6| jinchang\n",
      "Processing Record 3 of Set 6| waipawa\n",
      "Processing Record 4 of Set 6| launceston\n",
      "Processing Record 5 of Set 6| poum\n",
      "Processing Record 6 of Set 6| zhangye\n",
      "Processing Record 7 of Set 6| namibe\n",
      "Processing Record 8 of Set 6| saskylakh\n",
      "Processing Record 9 of Set 6| belmonte\n",
      "Processing Record 10 of Set 6| auki\n",
      "Processing Record 11 of Set 6| portland\n",
      "Processing Record 12 of Set 6| saint-augustin\n",
      "Processing Record 13 of Set 6| bilibino\n",
      "Processing Record 14 of Set 6| meadow lake\n",
      "Processing Record 15 of Set 6| vanimo\n",
      "Processing Record 16 of Set 6| dicabisagan\n",
      "Processing Record 17 of Set 6| fonte boa\n",
      "Processing Record 18 of Set 6| tecolutla\n",
      "Processing Record 19 of Set 6| slobidka\n",
      "Processing Record 20 of Set 6| saint anthony\n",
      "Processing Record 21 of Set 6| abha\n",
      "Processing Record 22 of Set 6| kruisfontein\n",
      "Processing Record 23 of Set 6| puttur\n",
      "Processing Record 24 of Set 6| sao felix do xingu\n",
      "Processing Record 25 of Set 6| scottsburgh\n",
      "City not found, skipping...\n",
      "Processing Record 26 of Set 6| mys shmidta\n",
      "City not found, skipping...\n",
      "Processing Record 27 of Set 6| san marcos\n",
      "Processing Record 28 of Set 6| mrirt\n",
      "City not found, skipping...\n",
      "Processing Record 29 of Set 6| doctor pedro p. pena\n",
      "City not found, skipping...\n",
      "Processing Record 30 of Set 6| asahikawa\n",
      "Processing Record 31 of Set 6| san andres\n",
      "Processing Record 32 of Set 6| dzhebariki-khaya\n",
      "Processing Record 33 of Set 6| novogornyy\n",
      "Processing Record 34 of Set 6| chernyshevskiy\n",
      "Processing Record 35 of Set 6| krasnoselkup\n",
      "Processing Record 36 of Set 6| lompoc\n",
      "Processing Record 37 of Set 6| kuito\n",
      "Processing Record 38 of Set 6| ixtapa\n",
      "Processing Record 39 of Set 6| hofn\n",
      "Processing Record 40 of Set 6| yinchuan\n",
      "Processing Record 41 of Set 6| aksarka\n",
      "Processing Record 42 of Set 6| weiden\n",
      "Processing Record 43 of Set 6| asau\n",
      "Processing Record 44 of Set 6| namwala\n",
      "Processing Record 45 of Set 6| iznoski\n",
      "Processing Record 46 of Set 6| road town\n",
      "Processing Record 47 of Set 6| bayir\n",
      "Processing Record 48 of Set 6| laviana\n",
      "Processing Record 49 of Set 6| jurado\n",
      "Processing Record 1 of Set 7| taoudenni\n",
      "Processing Record 2 of Set 7| mikuni\n",
      "Processing Record 3 of Set 7| shenjiamen\n",
      "Processing Record 4 of Set 7| petropavlovsk-kamchatskiy\n",
      "Processing Record 5 of Set 7| shiojiri\n",
      "Processing Record 6 of Set 7| umiray\n",
      "Processing Record 7 of Set 7| cookshire\n",
      "City not found, skipping...\n",
      "Processing Record 8 of Set 7| lucapa\n",
      "Processing Record 9 of Set 7| eyl\n",
      "Processing Record 10 of Set 7| neuquen\n",
      "Processing Record 11 of Set 7| coihaique\n",
      "Processing Record 12 of Set 7| kodinsk\n",
      "Processing Record 13 of Set 7| agira\n",
      "Processing Record 14 of Set 7| port lincoln\n",
      "Processing Record 15 of Set 7| afyonkarahisar\n",
      "Processing Record 16 of Set 7| lazaro cardenas\n",
      "Processing Record 17 of Set 7| garissa\n",
      "Processing Record 18 of Set 7| flinders\n",
      "Processing Record 19 of Set 7| labuhan\n",
      "Processing Record 20 of Set 7| kabalo\n",
      "Processing Record 21 of Set 7| san jeronimo\n",
      "Processing Record 22 of Set 7| grootfontein\n",
      "Processing Record 23 of Set 7| grand river south east\n",
      "City not found, skipping...\n",
      "Processing Record 24 of Set 7| yala\n",
      "Processing Record 25 of Set 7| nome\n",
      "Processing Record 26 of Set 7| larsnes\n",
      "Processing Record 27 of Set 7| santa helena de goias\n",
      "Processing Record 28 of Set 7| makokou\n",
      "Processing Record 29 of Set 7| hualmay\n",
      "Processing Record 30 of Set 7| graciano sanchez\n",
      "Processing Record 31 of Set 7| padang\n",
      "Processing Record 32 of Set 7| half moon bay\n",
      "Processing Record 33 of Set 7| zhigansk\n",
      "Processing Record 34 of Set 7| xacmaz\n",
      "Processing Record 35 of Set 7| ayan\n",
      "Processing Record 36 of Set 7| tuktoyaktuk\n",
      "Processing Record 37 of Set 7| shache\n",
      "Processing Record 38 of Set 7| plock\n",
      "Processing Record 39 of Set 7| maceio\n",
      "Processing Record 40 of Set 7| bystryy istok\n",
      "Processing Record 41 of Set 7| novyy urengoy\n",
      "Processing Record 42 of Set 7| yulara\n",
      "Processing Record 43 of Set 7| sisimiut\n",
      "Processing Record 44 of Set 7| powell river\n",
      "Processing Record 45 of Set 7| burica\n",
      "City not found, skipping...\n",
      "Processing Record 46 of Set 7| ambon\n",
      "Processing Record 47 of Set 7| rehoboth\n",
      "Processing Record 48 of Set 7| sioux lookout\n",
      "Processing Record 49 of Set 7| juruti\n",
      "Processing Record 1 of Set 8| newtonmore\n",
      "Processing Record 2 of Set 8| valjala\n",
      "City not found, skipping...\n",
      "Processing Record 3 of Set 8| college\n",
      "Processing Record 4 of Set 8| chuy\n",
      "Processing Record 5 of Set 8| tefe\n",
      "Processing Record 6 of Set 8| toliary\n",
      "City not found, skipping...\n",
      "Processing Record 7 of Set 8| esperance\n",
      "Processing Record 8 of Set 8| luanda\n",
      "Processing Record 9 of Set 8| chicama\n",
      "Processing Record 10 of Set 8| ferme-neuve\n",
      "Processing Record 11 of Set 8| nouakchott\n",
      "Processing Record 12 of Set 8| turtkul\n",
      "City not found, skipping...\n",
      "Processing Record 13 of Set 8| gdov\n",
      "Processing Record 14 of Set 8| samandag\n",
      "Processing Record 15 of Set 8| nelson bay\n",
      "Processing Record 16 of Set 8| ostrovnoy\n",
      "Processing Record 17 of Set 8| marcona\n",
      "City not found, skipping...\n",
      "Processing Record 18 of Set 8| egvekinot\n",
      "Processing Record 19 of Set 8| sale\n",
      "Processing Record 20 of Set 8| karauzyak\n",
      "City not found, skipping...\n",
      "Processing Record 21 of Set 8| bandarbeyla\n",
      "Processing Record 22 of Set 8| greensburg\n",
      "Processing Record 23 of Set 8| avera\n",
      "Processing Record 24 of Set 8| moen\n",
      "Processing Record 25 of Set 8| shahreza\n",
      "Processing Record 26 of Set 8| geresk\n",
      "City not found, skipping...\n",
      "Processing Record 27 of Set 8| tumannyy\n",
      "City not found, skipping...\n",
      "Processing Record 28 of Set 8| sao joao da barra\n",
      "Processing Record 29 of Set 8| dondo\n",
      "Processing Record 30 of Set 8| dzerzhinsk\n",
      "Processing Record 31 of Set 8| shahr-e babak\n",
      "Processing Record 32 of Set 8| ljungby\n",
      "Processing Record 33 of Set 8| zhitikara\n",
      "City not found, skipping...\n",
      "Processing Record 34 of Set 8| jimo\n"
     ]
    },
    {
     "name": "stdout",
     "output_type": "stream",
     "text": [
      "Processing Record 35 of Set 8| vostok\n",
      "Processing Record 36 of Set 8| requena\n",
      "Processing Record 37 of Set 8| pevek\n",
      "Processing Record 38 of Set 8| kushmurun\n",
      "Processing Record 39 of Set 8| kenai\n",
      "Processing Record 40 of Set 8| dunedin\n",
      "Processing Record 41 of Set 8| mamu kanjan\n",
      "Processing Record 42 of Set 8| coahuayana\n",
      "Processing Record 43 of Set 8| carnduff\n",
      "Processing Record 44 of Set 8| digapahandi\n",
      "Processing Record 45 of Set 8| victoria\n",
      "Processing Record 46 of Set 8| yenagoa\n",
      "Processing Record 47 of Set 8| ketchikan\n",
      "Processing Record 48 of Set 8| belaya gora\n",
      "Processing Record 49 of Set 8| norman wells\n",
      "Processing Record 1 of Set 9| buala\n",
      "Processing Record 2 of Set 9| basco\n",
      "Processing Record 3 of Set 9| bud\n",
      "Processing Record 4 of Set 9| honiara\n",
      "Processing Record 5 of Set 9| marawi\n",
      "Processing Record 6 of Set 9| grand gaube\n",
      "Processing Record 7 of Set 9| zhaoqing\n",
      "Processing Record 8 of Set 9| katsuura\n",
      "Processing Record 9 of Set 9| addanki\n",
      "Processing Record 10 of Set 9| elko\n",
      "Processing Record 11 of Set 9| smithers\n",
      "Processing Record 12 of Set 9| east london\n",
      "Processing Record 13 of Set 9| kasulu\n",
      "Processing Record 14 of Set 9| diego de almagro\n",
      "Processing Record 15 of Set 9| naryan-mar\n",
      "Processing Record 16 of Set 9| garowe\n",
      "Processing Record 17 of Set 9| kutum\n",
      "Processing Record 18 of Set 9| jumla\n",
      "Processing Record 19 of Set 9| phan thiet\n",
      "Processing Record 20 of Set 9| itarema\n",
      "Processing Record 21 of Set 9| cap malheureux\n",
      "Processing Record 22 of Set 9| hithadhoo\n",
      "Processing Record 23 of Set 9| japura\n",
      "Processing Record 24 of Set 9| adrar\n",
      "Processing Record 25 of Set 9| kahului\n",
      "Processing Record 26 of Set 9| pucallpa\n",
      "Processing Record 27 of Set 9| stryn\n",
      "Processing Record 28 of Set 9| saint-pierre\n",
      "Processing Record 29 of Set 9| houma\n",
      "Processing Record 30 of Set 9| guerrero negro\n",
      "Processing Record 31 of Set 9| haibowan\n",
      "City not found, skipping...\n",
      "Processing Record 32 of Set 9| baoning\n",
      "Processing Record 33 of Set 9| alta floresta\n",
      "Processing Record 34 of Set 9| zachagansk\n",
      "City not found, skipping...\n",
      "Processing Record 35 of Set 9| falealupo\n",
      "City not found, skipping...\n",
      "Processing Record 36 of Set 9| zolochiv\n",
      "Processing Record 37 of Set 9| waddan\n",
      "Processing Record 38 of Set 9| tchibanga\n",
      "Processing Record 39 of Set 9| paraipaba\n",
      "Processing Record 40 of Set 9| clyde river\n",
      "Processing Record 41 of Set 9| potam\n",
      "Processing Record 42 of Set 9| walvis bay\n",
      "Processing Record 43 of Set 9| provideniya\n",
      "Processing Record 44 of Set 9| takab\n",
      "Processing Record 45 of Set 9| vysokogornyy\n",
      "Processing Record 46 of Set 9| mackenzie\n",
      "Processing Record 47 of Set 9| praia da vitoria\n",
      "Processing Record 48 of Set 9| babanusah\n",
      "City not found, skipping...\n",
      "Processing Record 49 of Set 9| paradwip\n",
      "City not found, skipping...\n",
      "Processing Record 1 of Set 10| rosarito\n",
      "Processing Record 2 of Set 10| sosnovo-ozerskoye\n",
      "Processing Record 3 of Set 10| khurba\n",
      "Processing Record 4 of Set 10| iqaluit\n",
      "Processing Record 5 of Set 10| camana\n",
      "Processing Record 6 of Set 10| harper\n",
      "Processing Record 7 of Set 10| neepawa\n",
      "Processing Record 8 of Set 10| tautira\n",
      "Processing Record 9 of Set 10| havre-saint-pierre\n",
      "Processing Record 10 of Set 10| karaul\n",
      "City not found, skipping...\n",
      "Processing Record 11 of Set 10| omboue\n",
      "Processing Record 12 of Set 10| lafia\n",
      "Processing Record 13 of Set 10| portobelo\n",
      "Processing Record 14 of Set 10| ancud\n",
      "Processing Record 15 of Set 10| dwarka\n",
      "Processing Record 16 of Set 10| severo-kurilsk\n",
      "Processing Record 17 of Set 10| mwinilunga\n",
      "Processing Record 18 of Set 10| zhezkazgan\n",
      "Processing Record 19 of Set 10| broken hill\n",
      "Processing Record 20 of Set 10| bambous virieux\n",
      "Processing Record 21 of Set 10| pisco\n",
      "Processing Record 22 of Set 10| novochernorechenskiy\n",
      "Processing Record 23 of Set 10| vila velha\n",
      "Processing Record 24 of Set 10| shamli\n",
      "Processing Record 25 of Set 10| husavik\n",
      "Processing Record 26 of Set 10| ossora\n",
      "Processing Record 27 of Set 10| ponta delgada\n",
      "Processing Record 28 of Set 10| labytnangi\n",
      "Processing Record 29 of Set 10| tabiauea\n",
      "City not found, skipping...\n",
      "Processing Record 30 of Set 10| pundaguitan\n",
      "Processing Record 31 of Set 10| enshi\n",
      "Processing Record 32 of Set 10| kaduqli\n",
      "Processing Record 33 of Set 10| qasigiannguit\n",
      "Processing Record 34 of Set 10| perene\n",
      "Processing Record 35 of Set 10| kavieng\n",
      "Processing Record 36 of Set 10| aloleng\n",
      "Processing Record 37 of Set 10| noumea\n",
      "Processing Record 38 of Set 10| znamenskoye\n",
      "Processing Record 39 of Set 10| richards bay\n",
      "Processing Record 40 of Set 10| lata\n",
      "Processing Record 41 of Set 10| natal\n",
      "Processing Record 42 of Set 10| ijaki\n",
      "City not found, skipping...\n",
      "Processing Record 43 of Set 10| te anau\n",
      "Processing Record 44 of Set 10| rio grande\n",
      "Processing Record 45 of Set 10| chifeng\n",
      "Processing Record 46 of Set 10| refojos de basto\n",
      "Processing Record 47 of Set 10| genhe\n",
      "Processing Record 48 of Set 10| laguna\n",
      "Processing Record 49 of Set 10| bathsheba\n",
      "Processing Record 1 of Set 11| talcahuano\n",
      "Processing Record 2 of Set 11| romny\n",
      "Processing Record 3 of Set 11| vestmannaeyjar\n",
      "Processing Record 4 of Set 11| general roca\n",
      "Processing Record 5 of Set 11| goundam\n",
      "Processing Record 6 of Set 11| port keats\n",
      "Processing Record 7 of Set 11| beloha\n",
      "Processing Record 8 of Set 11| astipalaia\n",
      "City not found, skipping...\n",
      "Processing Record 9 of Set 11| naftalan\n",
      "Processing Record 10 of Set 11| hervey bay\n",
      "Processing Record 11 of Set 11| obudovac\n",
      "Processing Record 12 of Set 11| yanan\n",
      "City not found, skipping...\n",
      "Processing Record 13 of Set 11| chegdomyn\n",
      "Processing Record 14 of Set 11| chara\n",
      "Processing Record 15 of Set 11| beaufort\n",
      "Processing Record 16 of Set 11| coquimbo\n",
      "Processing Record 17 of Set 11| boa vista\n",
      "Processing Record 18 of Set 11| marzuq\n",
      "Processing Record 19 of Set 11| usinsk\n",
      "Processing Record 20 of Set 11| hami\n",
      "Processing Record 21 of Set 11| san quintin\n",
      "Processing Record 22 of Set 11| barabai\n",
      "Processing Record 23 of Set 11| bowen\n",
      "Processing Record 24 of Set 11| honningsvag\n",
      "Processing Record 25 of Set 11| katherine\n",
      "Processing Record 26 of Set 11| contai\n",
      "Processing Record 27 of Set 11| cao bang\n",
      "Processing Record 28 of Set 11| urumqi\n",
      "Processing Record 29 of Set 11| lorut\n",
      "Processing Record 30 of Set 11| marsh harbour\n",
      "Processing Record 31 of Set 11| oranjestad\n",
      "Processing Record 32 of Set 11| derzhavinsk\n",
      "Processing Record 33 of Set 11| shasta lake\n",
      "Processing Record 34 of Set 11| bairiki\n",
      "Processing Record 35 of Set 11| kieta\n",
      "Processing Record 36 of Set 11| kurilsk\n",
      "Processing Record 37 of Set 11| mangrol\n",
      "Processing Record 38 of Set 11| inongo\n",
      "Processing Record 39 of Set 11| talara\n",
      "Processing Record 40 of Set 11| dyersburg\n",
      "Processing Record 41 of Set 11| mahon\n",
      "Processing Record 42 of Set 11| beloretsk\n",
      "Processing Record 43 of Set 11| fortuna\n",
      "Processing Record 44 of Set 11| puerto madryn\n",
      "Processing Record 45 of Set 11| kushuhum\n",
      "Processing Record 46 of Set 11| pozo colorado\n",
      "Processing Record 47 of Set 11| sao domingos do maranhao\n",
      "Processing Record 48 of Set 11| muli\n",
      "Processing Record 49 of Set 11| rantoul\n",
      "Processing Record 1 of Set 12| hasaki\n",
      "Processing Record 2 of Set 12| rabaul\n",
      "Processing Record 3 of Set 12| port hedland\n",
      "Processing Record 4 of Set 12| vitoria\n",
      "Processing Record 5 of Set 12| valparaiso\n",
      "Processing Record 6 of Set 12| pochutla\n",
      "Processing Record 7 of Set 12| goma\n",
      "Processing Record 8 of Set 12| leeton\n",
      "Processing Record 9 of Set 12| ukiah\n",
      "Processing Record 10 of Set 12| bargal\n",
      "City not found, skipping...\n",
      "Processing Record 11 of Set 12| biloela\n",
      "Processing Record 12 of Set 12| tevriz\n",
      "Processing Record 13 of Set 12| haines junction\n",
      "Processing Record 14 of Set 12| makakilo city\n",
      "Processing Record 15 of Set 12| gornozavodsk\n",
      "Processing Record 16 of Set 12| bull savanna\n",
      "Processing Record 17 of Set 12| uinskoye\n",
      "Processing Record 18 of Set 12| jalu\n",
      "Processing Record 19 of Set 12| lolua\n",
      "City not found, skipping...\n",
      "Processing Record 20 of Set 12| santa cruz\n",
      "Processing Record 21 of Set 12| viligili\n",
      "City not found, skipping...\n",
      "Processing Record 22 of Set 12| riyadh\n",
      "Processing Record 23 of Set 12| charcas\n",
      "Processing Record 24 of Set 12| taylorville\n",
      "Processing Record 25 of Set 12| gamba\n",
      "Processing Record 26 of Set 12| necochea\n",
      "Processing Record 27 of Set 12| muros\n",
      "Processing Record 28 of Set 12| palauig\n",
      "Processing Record 29 of Set 12| neyshabur\n",
      "Processing Record 30 of Set 12| poya\n",
      "Processing Record 31 of Set 12| rungata\n",
      "City not found, skipping...\n"
     ]
    },
    {
     "name": "stdout",
     "output_type": "stream",
     "text": [
      "Processing Record 32 of Set 12| pemangkat\n",
      "Processing Record 33 of Set 12| sal rei\n",
      "Processing Record 34 of Set 12| umzimvubu\n",
      "City not found, skipping...\n",
      "Processing Record 35 of Set 12| ojinaga\n",
      "Processing Record 36 of Set 12| kawalu\n",
      "Processing Record 37 of Set 12| noshiro\n",
      "Processing Record 38 of Set 12| ust-nera\n",
      "Processing Record 39 of Set 12| maragogi\n",
      "Processing Record 40 of Set 12| hanyang\n",
      "Processing Record 41 of Set 12| cutler ridge\n",
      "Processing Record 42 of Set 12| artyk\n",
      "City not found, skipping...\n",
      "Processing Record 43 of Set 12| mehamn\n",
      "Processing Record 44 of Set 12| atar\n",
      "Processing Record 45 of Set 12| manono\n",
      "Processing Record 46 of Set 12| sampit\n",
      "Processing Record 47 of Set 12| faanui\n",
      "Processing Record 48 of Set 12| itaituba\n",
      "Processing Record 49 of Set 12| kirakira\n",
      "Processing Record 1 of Set 13| semey\n",
      "Processing Record 2 of Set 13| nobres\n",
      "Processing Record 3 of Set 13| baykit\n",
      "Processing Record 4 of Set 13| san alberto\n",
      "Processing Record 5 of Set 13| fare\n",
      "Processing Record 6 of Set 13| yar-sale\n",
      "Processing Record 7 of Set 13| kenmare\n",
      "Processing Record 8 of Set 13| batagay\n",
      "Processing Record 9 of Set 13| umm kaddadah\n",
      "Processing Record 10 of Set 13| dzhusaly\n",
      "City not found, skipping...\n",
      "Processing Record 11 of Set 13| merauke\n",
      "Processing Record 12 of Set 13| umm lajj\n",
      "Processing Record 13 of Set 13| teya\n",
      "Processing Record 14 of Set 13| saint-leu\n",
      "Processing Record 15 of Set 13| sivaki\n",
      "Processing Record 16 of Set 13| olinda\n",
      "Processing Record 17 of Set 13| port blair\n",
      "Processing Record 18 of Set 13| kerema\n",
      "Processing Record 19 of Set 13| paso de los toros\n",
      "Processing Record 20 of Set 13| srisailam\n",
      "Processing Record 21 of Set 13| rio branco\n",
      "Processing Record 22 of Set 13| barawe\n",
      "City not found, skipping...\n",
      "Processing Record 23 of Set 13| ulladulla\n",
      "Processing Record 24 of Set 13| tura\n",
      "Processing Record 25 of Set 13| touros\n",
      "Processing Record 26 of Set 13| ejido\n",
      "Processing Record 27 of Set 13| lethem\n",
      "Processing Record 28 of Set 13| bad wildungen\n",
      "Processing Record 29 of Set 13| vaitupu\n",
      "City not found, skipping...\n",
      "Processing Record 30 of Set 13| kudahuvadhoo\n",
      "Processing Record 31 of Set 13| bastia\n",
      "Processing Record 32 of Set 13| qaqortoq\n",
      "-----------------------------\n",
      "Data Retrieval Complete\n",
      "-----------------------------\n"
     ]
    }
   ],
   "source": [
    "# Define Base URL\n",
    "base_url = \"http://api.openweathermap.org/data/2.5/weather?\"\n",
    "\n",
    "# building URL by adding Key and query (not query values - yet)\n",
    "query_url = f\"{base_url}appid={weather_api_key}&q=\" \n",
    "\n",
    "print(\"Beginning Data Retrieval\") \n",
    "print(\"-----------------------------\") \n",
    "\n",
    "count = 0\n",
    "set_count = 1\n",
    "\n",
    "for index, row in city_weather.iterrows(): \n",
    "    city_name = row[\"City\"]\n",
    "    weather_response = requests.get(query_url + city_name)\n",
    "    weather_json = weather_response.json()\n",
    "    count +=1\n",
    "    \n",
    "    if count == 50:\n",
    "        count = 1 \n",
    "        set_count += 1 \n",
    "\n",
    "    try:\n",
    "        print(f\"Processing Record {count} of Set {set_count}| {city_name}\") \n",
    "        \n",
    "        city_weather.loc[index,'Lat'] = weather_json['coord']['lat']\n",
    "        city_weather.loc[index,'Lng'] = weather_json['coord']['lon']\n",
    "        city_weather.loc[index,'Max Temp'] = weather_json['main']['temp_max']\n",
    "        city_weather.loc[index,'Humidity'] = weather_json['main']['humidity']\n",
    "        city_weather.loc[index,'Cloudiness'] = weather_json['clouds']['all']\n",
    "        city_weather.loc[index,'Wind Speed'] = weather_json['wind']['speed']\n",
    "        city_weather.loc[index,'Country'] = weather_json['sys']['country']\n",
    "        city_weather.loc[index,'Date'] = weather_json['dt']\n",
    "    \n",
    "    except (KeyError, IndexError):\n",
    "        print(f\"City not found, skipping...\")\n",
    "  \n",
    "print(\"-----------------------------\") \n",
    "print(\"Data Retrieval Complete\") \n",
    "print(\"-----------------------------\") "
   ]
  },
  {
   "cell_type": "markdown",
   "metadata": {},
   "source": [
    "### Convert Raw Data to DataFrame\n",
    "* Export the city data into a .csv.\n",
    "* Display the DataFrame"
   ]
  },
  {
   "cell_type": "code",
   "execution_count": 7,
   "metadata": {},
   "outputs": [
    {
     "data": {
      "text/html": [
       "<div>\n",
       "<style scoped>\n",
       "    .dataframe tbody tr th:only-of-type {\n",
       "        vertical-align: middle;\n",
       "    }\n",
       "\n",
       "    .dataframe tbody tr th {\n",
       "        vertical-align: top;\n",
       "    }\n",
       "\n",
       "    .dataframe thead th {\n",
       "        text-align: right;\n",
       "    }\n",
       "</style>\n",
       "<table border=\"1\" class=\"dataframe\">\n",
       "  <thead>\n",
       "    <tr style=\"text-align: right;\">\n",
       "      <th></th>\n",
       "      <th>City</th>\n",
       "      <th>Lat</th>\n",
       "      <th>Lng</th>\n",
       "      <th>Max Temp</th>\n",
       "      <th>Humidity</th>\n",
       "      <th>Cloudiness</th>\n",
       "      <th>Wind Speed</th>\n",
       "      <th>Country</th>\n",
       "      <th>Date</th>\n",
       "    </tr>\n",
       "  </thead>\n",
       "  <tbody>\n",
       "    <tr>\n",
       "      <th>0</th>\n",
       "      <td>punta arenas</td>\n",
       "      <td>-53.15</td>\n",
       "      <td>-70.92</td>\n",
       "      <td>37.400</td>\n",
       "      <td>64.0</td>\n",
       "      <td>75.0</td>\n",
       "      <td>6.70</td>\n",
       "      <td>CL</td>\n",
       "      <td>2020-08-18 00:56:11</td>\n",
       "    </tr>\n",
       "    <tr>\n",
       "      <th>1</th>\n",
       "      <td>avenal</td>\n",
       "      <td>36.00</td>\n",
       "      <td>-120.13</td>\n",
       "      <td>104.000</td>\n",
       "      <td>24.0</td>\n",
       "      <td>90.0</td>\n",
       "      <td>7.70</td>\n",
       "      <td>US</td>\n",
       "      <td>2020-08-18 00:56:50</td>\n",
       "    </tr>\n",
       "    <tr>\n",
       "      <th>3</th>\n",
       "      <td>mataura</td>\n",
       "      <td>-46.19</td>\n",
       "      <td>168.86</td>\n",
       "      <td>50.072</td>\n",
       "      <td>55.0</td>\n",
       "      <td>100.0</td>\n",
       "      <td>1.35</td>\n",
       "      <td>NZ</td>\n",
       "      <td>2020-08-18 00:56:50</td>\n",
       "    </tr>\n",
       "    <tr>\n",
       "      <th>4</th>\n",
       "      <td>ewa beach</td>\n",
       "      <td>21.32</td>\n",
       "      <td>-158.01</td>\n",
       "      <td>89.600</td>\n",
       "      <td>48.0</td>\n",
       "      <td>40.0</td>\n",
       "      <td>3.60</td>\n",
       "      <td>US</td>\n",
       "      <td>2020-08-18 00:56:50</td>\n",
       "    </tr>\n",
       "    <tr>\n",
       "      <th>5</th>\n",
       "      <td>deputatskiy</td>\n",
       "      <td>69.30</td>\n",
       "      <td>139.90</td>\n",
       "      <td>45.824</td>\n",
       "      <td>61.0</td>\n",
       "      <td>98.0</td>\n",
       "      <td>2.00</td>\n",
       "      <td>RU</td>\n",
       "      <td>2020-08-18 00:56:50</td>\n",
       "    </tr>\n",
       "    <tr>\n",
       "      <th>...</th>\n",
       "      <td>...</td>\n",
       "      <td>...</td>\n",
       "      <td>...</td>\n",
       "      <td>...</td>\n",
       "      <td>...</td>\n",
       "      <td>...</td>\n",
       "      <td>...</td>\n",
       "      <td>...</td>\n",
       "      <td>...</td>\n",
       "    </tr>\n",
       "    <tr>\n",
       "      <th>614</th>\n",
       "      <td>lethem</td>\n",
       "      <td>3.38</td>\n",
       "      <td>-59.80</td>\n",
       "      <td>78.404</td>\n",
       "      <td>83.0</td>\n",
       "      <td>100.0</td>\n",
       "      <td>1.58</td>\n",
       "      <td>GY</td>\n",
       "      <td>2020-08-18 00:58:26</td>\n",
       "    </tr>\n",
       "    <tr>\n",
       "      <th>615</th>\n",
       "      <td>bad wildungen</td>\n",
       "      <td>51.12</td>\n",
       "      <td>9.12</td>\n",
       "      <td>60.800</td>\n",
       "      <td>93.0</td>\n",
       "      <td>20.0</td>\n",
       "      <td>1.69</td>\n",
       "      <td>DE</td>\n",
       "      <td>2020-08-18 00:58:26</td>\n",
       "    </tr>\n",
       "    <tr>\n",
       "      <th>617</th>\n",
       "      <td>kudahuvadhoo</td>\n",
       "      <td>2.67</td>\n",
       "      <td>72.89</td>\n",
       "      <td>82.940</td>\n",
       "      <td>66.0</td>\n",
       "      <td>100.0</td>\n",
       "      <td>0.95</td>\n",
       "      <td>MV</td>\n",
       "      <td>2020-08-18 00:58:26</td>\n",
       "    </tr>\n",
       "    <tr>\n",
       "      <th>618</th>\n",
       "      <td>bastia</td>\n",
       "      <td>42.67</td>\n",
       "      <td>9.33</td>\n",
       "      <td>77.000</td>\n",
       "      <td>88.0</td>\n",
       "      <td>100.0</td>\n",
       "      <td>1.50</td>\n",
       "      <td>FR</td>\n",
       "      <td>2020-08-18 00:58:26</td>\n",
       "    </tr>\n",
       "    <tr>\n",
       "      <th>619</th>\n",
       "      <td>qaqortoq</td>\n",
       "      <td>60.72</td>\n",
       "      <td>-46.03</td>\n",
       "      <td>55.400</td>\n",
       "      <td>58.0</td>\n",
       "      <td>89.0</td>\n",
       "      <td>0.50</td>\n",
       "      <td>GL</td>\n",
       "      <td>2020-08-18 00:58:26</td>\n",
       "    </tr>\n",
       "  </tbody>\n",
       "</table>\n",
       "<p>559 rows × 9 columns</p>\n",
       "</div>"
      ],
      "text/plain": [
       "              City    Lat     Lng  Max Temp  Humidity  Cloudiness  Wind Speed  \\\n",
       "0     punta arenas -53.15  -70.92    37.400      64.0        75.0        6.70   \n",
       "1           avenal  36.00 -120.13   104.000      24.0        90.0        7.70   \n",
       "3          mataura -46.19  168.86    50.072      55.0       100.0        1.35   \n",
       "4        ewa beach  21.32 -158.01    89.600      48.0        40.0        3.60   \n",
       "5      deputatskiy  69.30  139.90    45.824      61.0        98.0        2.00   \n",
       "..             ...    ...     ...       ...       ...         ...         ...   \n",
       "614         lethem   3.38  -59.80    78.404      83.0       100.0        1.58   \n",
       "615  bad wildungen  51.12    9.12    60.800      93.0        20.0        1.69   \n",
       "617   kudahuvadhoo   2.67   72.89    82.940      66.0       100.0        0.95   \n",
       "618         bastia  42.67    9.33    77.000      88.0       100.0        1.50   \n",
       "619       qaqortoq  60.72  -46.03    55.400      58.0        89.0        0.50   \n",
       "\n",
       "    Country                Date  \n",
       "0        CL 2020-08-18 00:56:11  \n",
       "1        US 2020-08-18 00:56:50  \n",
       "3        NZ 2020-08-18 00:56:50  \n",
       "4        US 2020-08-18 00:56:50  \n",
       "5        RU 2020-08-18 00:56:50  \n",
       "..      ...                 ...  \n",
       "614      GY 2020-08-18 00:58:26  \n",
       "615      DE 2020-08-18 00:58:26  \n",
       "617      MV 2020-08-18 00:58:26  \n",
       "618      FR 2020-08-18 00:58:26  \n",
       "619      GL 2020-08-18 00:58:26  \n",
       "\n",
       "[559 rows x 9 columns]"
      ]
     },
     "execution_count": 7,
     "metadata": {},
     "output_type": "execute_result"
    }
   ],
   "source": [
    "# city_weather[\"Lat\"] = pd.to_numeric(city_weather[\"Lat\"])\n",
    "# city_weather[\"Lng\"] = pd.to_numeric(city_weather[\"Lng\"])\n",
    "# # city_weather[\"Max Temp\"] = pd.to_numeric(city_weather[\"Max Temp\"])\n",
    "# city_weather[\"Humidity\"] = pd.to_numeric(city_weather[\"Humidity\"])\n",
    "# city_weather[\"Cloudiness\"] = pd.to_numeric(city_weather[\"Cloudiness\"])\n",
    "# city_weather[\"Wind Speed\"] = pd.to_numeric(city_weather[\"Wind Speed\"])\n",
    "\n",
    "# city_weather_no_null = city_weather.dropna(how = \"any\")\n",
    "# city_weather_no_null.to_csv(\"city_weather.csv\")\n",
    "# city_weather_no_null.head(25)\n",
    "\n",
    "city_weather[\"Lat\"] = pd.to_numeric(city_weather[\"Lat\"])\n",
    "city_weather[\"Lng\"] = pd.to_numeric(city_weather[\"Lng\"])\n",
    "city_weather[\"Max Temp\"] = pd.to_numeric(city_weather[\"Max Temp\"])\n",
    "city_weather[\"Max Temp\"] = ((city_weather[\"Max Temp\"] -273.15) * 9/5 +32) #converting Kelvin to Fahrenheit # Also could have used units = imperial method\n",
    "city_weather[\"Humidity\"] = pd.to_numeric(city_weather[\"Humidity\"])\n",
    "city_weather[\"Cloudiness\"] = pd.to_numeric(city_weather[\"Cloudiness\"])\n",
    "city_weather[\"Wind Speed\"] = pd.to_numeric(city_weather[\"Wind Speed\"])\n",
    "city_weather[\"Date\"] = pd.to_datetime(city_weather[\"Date\"], unit = \"s\")\n",
    "\n",
    "##### city_weather['Date'] = pd.to_datetime(city_weather['Date'])\n",
    "##### city_weather['Date'] = city_weather['Date'].dt.strftime('%m-%d-%Y')]\n",
    "\n",
    "city_weather_no_null = city_weather.dropna(how = \"any\")\n",
    "city_weather_no_null.to_csv(\"city_weather.csv\", index=False)\n",
    "city_weather_no_null"
   ]
  },
  {
   "cell_type": "markdown",
   "metadata": {},
   "source": [
    "## Inspect the data and remove the cities where the humidity > 100%.\n",
    "----\n",
    "Skip this step if there are no cities that have humidity > 100%. "
   ]
  },
  {
   "cell_type": "code",
   "execution_count": 8,
   "metadata": {},
   "outputs": [
    {
     "name": "stdout",
     "output_type": "stream",
     "text": [
      "Empty DataFrame\n",
      "Columns: [City, Lat, Lng, Max Temp, Humidity, Cloudiness, Wind Speed, Country, Date]\n",
      "Index: []\n",
      "Skipping since no cities have humidity > 100%\n"
     ]
    }
   ],
   "source": [
    "city_weather_no_null_humidity = city_weather_no_null.loc[city_weather_no_null['Humidity'] > 100, ]\n",
    "print(city_weather_no_null_humidity)\n",
    "print(f\"Skipping since no cities have humidity > 100%\")"
   ]
  },
  {
   "cell_type": "code",
   "execution_count": 9,
   "metadata": {},
   "outputs": [
    {
     "name": "stdout",
     "output_type": "stream",
     "text": [
      "Skipping since no cities have humidity > 100%\n"
     ]
    }
   ],
   "source": [
    "#  Get the indices of cities that have humidity over 100%.\n",
    "print(f\"Skipping since no cities have humidity > 100%\")"
   ]
  },
  {
   "cell_type": "code",
   "execution_count": 10,
   "metadata": {},
   "outputs": [
    {
     "name": "stdout",
     "output_type": "stream",
     "text": [
      "Skipping since no cities have humidity > 100%\n"
     ]
    }
   ],
   "source": [
    "# Make a new DataFrame equal to the city data to drop all humidity outliers by index.\n",
    "# Passing \"inplace=False\" will make a copy of the city_data DataFrame, which we call \"clean_city_data\".\n",
    "print(f\"Skipping since no cities have humidity > 100%\")"
   ]
  },
  {
   "cell_type": "code",
   "execution_count": 11,
   "metadata": {},
   "outputs": [
    {
     "name": "stdout",
     "output_type": "stream",
     "text": [
      "Already exported to CSV in step \"In [8]:\"\n"
     ]
    }
   ],
   "source": [
    "# Extract relevant fields from the data frame\n",
    "# Export the City_Data into a csv\n",
    "print('Already exported to CSV in step \"In [8]:\"') "
   ]
  },
  {
   "cell_type": "markdown",
   "metadata": {},
   "source": [
    "## Plotting the Data\n",
    "* Use proper labeling of the plots using plot titles (including date of analysis) and axes labels.\n",
    "* Save the plotted figures as .pngs."
   ]
  },
  {
   "cell_type": "markdown",
   "metadata": {},
   "source": [
    "## Latitude vs. Temperature Plot"
   ]
  },
  {
   "cell_type": "code",
   "execution_count": 12,
   "metadata": {
    "scrolled": true
   },
   "outputs": [
    {
     "data": {
      "text/plain": [
       "Text(0.5, 1.0, 'City Latitude vs Max Temperature (8/16/2020)')"
      ]
     },
     "execution_count": 12,
     "metadata": {},
     "output_type": "execute_result"
    },
    {
     "data": {
      "image/png": "[encoded data removed]",
      "text/plain": [
       "<Figure size 432x288 with 1 Axes>"
      ]
     },
     "metadata": {
      "needs_background": "light"
     },
     "output_type": "display_data"
    }
   ],
   "source": [
    "plt.grid()\n",
    "plt.scatter(city_weather_no_null['Lat'], city_weather_no_null['Max Temp'], facecolors=\"royalblue\", edgecolors=\"black\")\n",
    "plt.xlabel(\"Latitude\")\n",
    "plt.ylabel(\"Max Temperature (F)\")\n",
    "plt.title(\"City Latitude vs Max Temperature (8/16/2020)\")\n",
    "plt.savefig('lat_temp_all.png')"
   ]
  },
  {
   "cell_type": "markdown",
   "metadata": {},
   "source": [
    "## Latitude vs. Humidity Plot"
   ]
  },
  {
   "cell_type": "code",
   "execution_count": 13,
   "metadata": {},
   "outputs": [
    {
     "data": {
      "text/plain": [
       "Text(0.5, 1.0, 'City Latitude vs Humidity (8/16/2020)')"
      ]
     },
     "execution_count": 13,
     "metadata": {},
     "output_type": "execute_result"
    },
    {
     "data": {
      "image/png": "[encoded data removed]",
      "text/plain": [
       "<Figure size 432x288 with 1 Axes>"
      ]
     },
     "metadata": {
      "needs_background": "light"
     },
     "output_type": "display_data"
    }
   ],
   "source": [
    "plt.grid()\n",
    "plt.scatter(city_weather_no_null['Lat'], city_weather_no_null['Humidity'], facecolors=\"royalblue\", edgecolors=\"black\")\n",
    "plt.xlabel(\"Latitude\")\n",
    "plt.ylabel(\"Humidity (%)\")\n",
    "plt.title(\"City Latitude vs Humidity (8/16/2020)\")\n",
    "plt.savefig('lat_hum_all.png')"
   ]
  },
  {
   "cell_type": "markdown",
   "metadata": {},
   "source": [
    "## Latitude vs. Cloudiness Plot"
   ]
  },
  {
   "cell_type": "code",
   "execution_count": 14,
   "metadata": {},
   "outputs": [
    {
     "data": {
      "text/plain": [
       "Text(0.5, 1.0, 'City Latitude vs Cloudiness (8/16/2020)')"
      ]
     },
     "execution_count": 14,
     "metadata": {},
     "output_type": "execute_result"
    },
    {
     "data": {
      "image/png": "[encoded data removed]",
      "text/plain": [
       "<Figure size 432x288 with 1 Axes>"
      ]
     },
     "metadata": {
      "needs_background": "light"
     },
     "output_type": "display_data"
    }
   ],
   "source": [
    "plt.grid()\n",
    "plt.scatter(city_weather_no_null['Lat'], city_weather_no_null['Cloudiness'], facecolors=\"royalblue\", edgecolors=\"black\")\n",
    "plt.xlabel(\"Latitude\")\n",
    "plt.ylabel(\"Cloudiness (%)\")\n",
    "plt.title(\"City Latitude vs Cloudiness (8/16/2020)\")\n",
    "plt.savefig('lat_cloud_all.png')"
   ]
  },
  {
   "cell_type": "markdown",
   "metadata": {},
   "source": [
    "## Latitude vs. Wind Speed Plot"
   ]
  },
  {
   "cell_type": "code",
   "execution_count": 15,
   "metadata": {},
   "outputs": [
    {
     "data": {
      "text/plain": [
       "Text(0.5, 1.0, 'City Latitude vs Cloudiness (8/16/2020)')"
      ]
     },
     "execution_count": 15,
     "metadata": {},
     "output_type": "execute_result"
    },
    {
     "data": {
      "image/png": "[encoded data removed]",
      "text/plain": [
       "<Figure size 432x288 with 1 Axes>"
      ]
     },
     "metadata": {
      "needs_background": "light"
     },
     "output_type": "display_data"
    }
   ],
   "source": [
    "plt.grid()\n",
    "plt.scatter(city_weather_no_null['Lat'], city_weather_no_null['Wind Speed'], facecolors=\"royalblue\", edgecolors=\"black\")\n",
    "plt.xlabel(\"Latitude\")\n",
    "plt.ylabel(\"Wind Speed (mph)\")\n",
    "plt.title(\"City Latitude vs Cloudiness (8/16/2020)\")\n",
    "plt.savefig('lat_wind_all.png')"
   ]
  },
  {
   "cell_type": "markdown",
   "metadata": {},
   "source": [
    "## Linear Regression"
   ]
  },
  {
   "cell_type": "code",
   "execution_count": 16,
   "metadata": {},
   "outputs": [],
   "source": [
    "# OPTIONAL: Create a function to create Linear Regression plots"
   ]
  },
  {
   "cell_type": "code",
   "execution_count": 17,
   "metadata": {},
   "outputs": [],
   "source": [
    "# Create Northern and Southern Hemisphere DataFrames"
   ]
  },
  {
   "cell_type": "markdown",
   "metadata": {},
   "source": [
    "####  Northern Hemisphere - Max Temp vs. Latitude Linear Regression"
   ]
  },
  {
   "cell_type": "code",
   "execution_count": 18,
   "metadata": {},
   "outputs": [
    {
     "name": "stdout",
     "output_type": "stream",
     "text": [
      "R Val is 0.5406773330778535\n"
     ]
    },
    {
     "data": {
      "text/plain": [
       "Text(0, 40, 'y = -0.52x + 89.98')"
      ]
     },
     "execution_count": 18,
     "metadata": {},
     "output_type": "execute_result"
    },
    {
     "data": {
      "image/png": "[encoded data removed]",
      "text/plain": [
       "<Figure size 432x288 with 1 Axes>"
      ]
     },
     "metadata": {
      "needs_background": "light"
     },
     "output_type": "display_data"
    }
   ],
   "source": [
    "north_hem = city_weather_no_null.loc[city_weather_no_null['Lat'] > 0,]\n",
    "\n",
    "#plotting and formatting scatter\n",
    "plt.scatter(north_hem['Lat'], north_hem['Max Temp'], marker=\"o\", facecolors=\"dodgerblue\")\n",
    "\n",
    "#inserting chart labels\n",
    "plt.xlabel(\"Latitude\")\n",
    "plt.ylabel(\"Max Temp (F)\")\n",
    "plt.title(\"Northern Hemisphere - Max Temp vs. Latitude Linear Regression\")\n",
    "\n",
    "#defining values\n",
    "x_values = north_hem['Lat']\n",
    "y_values = north_hem['Max Temp']\n",
    "\n",
    "#defining stats\n",
    "(slope, intercept, rvalue, pvalue, stderr) = linregress(x_values, y_values)\n",
    "\n",
    "#Defining regression\n",
    "regress_values = x_values * slope + intercept\n",
    "line_eq = \"y = \" + str(round(slope,2)) + \"x + \" + str(round(intercept,2))\n",
    "\n",
    "#Plotting line regress\n",
    "plt.plot(x_values,regress_values,\"r-\")\n",
    "\n",
    "#Printing R Value\n",
    "print(f\"R Val is {rvalue**2}\")\n",
    "\n",
    "#Plotting line equation on the graph\n",
    "plt.annotate(line_eq,(0,40),fontsize=15,color=\"red\") #(20,30) is x y coordinate on graph where line will start printing\n",
    "plt.savefig('north_temp.png')"
   ]
  },
  {
   "cell_type": "markdown",
   "metadata": {},
   "source": [
    "####  Southern Hemisphere - Max Temp vs. Latitude Linear Regression"
   ]
  },
  {
   "cell_type": "code",
   "execution_count": 19,
   "metadata": {},
   "outputs": [
    {
     "name": "stdout",
     "output_type": "stream",
     "text": [
      "R Val is 0.6141550755734823\n"
     ]
    },
    {
     "data": {
      "text/plain": [
       "Text(-55, 80, 'y = 0.77x + 81.34')"
      ]
     },
     "execution_count": 19,
     "metadata": {},
     "output_type": "execute_result"
    },
    {
     "data": {
      "image/png": "[encoded data removed]",
      "text/plain": [
       "<Figure size 432x288 with 1 Axes>"
      ]
     },
     "metadata": {
      "needs_background": "light"
     },
     "output_type": "display_data"
    }
   ],
   "source": [
    "south_hem = city_weather_no_null.loc[city_weather_no_null['Lat'] < 0,]\n",
    "\n",
    "#plotting and formatting scatter\n",
    "plt.scatter(south_hem['Lat'], south_hem['Max Temp'], marker=\"o\", facecolors=\"dodgerblue\")\n",
    "\n",
    "#inserting chart labels\n",
    "plt.xlabel(\"Latitude\")\n",
    "plt.ylabel(\"Max Temp (F)\")\n",
    "plt.title(\"Southern Hemisphere - Max Temp vs. Latitude Linear Regression\")\n",
    "\n",
    "#defining values\n",
    "x_values = south_hem['Lat']\n",
    "y_values = south_hem['Max Temp']\n",
    "\n",
    "#defining stats\n",
    "(slope, intercept, rvalue, pvalue, stderr) = linregress(x_values, y_values)\n",
    "\n",
    "#Defining regression\n",
    "regress_values = x_values * slope + intercept\n",
    "line_eq = \"y = \" + str(round(slope,2)) + \"x + \" + str(round(intercept,2))\n",
    "\n",
    "#Plotting line regress\n",
    "plt.plot(x_values,regress_values,\"r-\")\n",
    "\n",
    "#Printing R Value\n",
    "print(f\"R Val is {rvalue**2}\")\n",
    "\n",
    "#Plotting line equation on the graph\n",
    "plt.annotate(line_eq,(-55,80),fontsize=15,color=\"red\") #(20,30) is x y coordinate on graph where line will start printing\n",
    "plt.savefig('south_temp.png')"
   ]
  },
  {
   "cell_type": "markdown",
   "metadata": {},
   "source": [
    "Northern Hemisphere - Humidity (%) vs. Latitude Linear Regression"
   ]
  },
  {
   "cell_type": "code",
   "execution_count": 20,
   "metadata": {},
   "outputs": [
    {
     "name": "stdout",
     "output_type": "stream",
     "text": [
      "R Val is 0.0001972463337591203\n"
     ]
    },
    {
     "data": {
      "text/plain": [
       "Text(45, 5, 'y = 0.02x + 70.52')"
      ]
     },
     "execution_count": 20,
     "metadata": {},
     "output_type": "execute_result"
    },
    {
     "data": {
      "image/png": "[encoded data removed]",
      "text/plain": [
       "<Figure size 432x288 with 1 Axes>"
      ]
     },
     "metadata": {
      "needs_background": "light"
     },
     "output_type": "display_data"
    }
   ],
   "source": [
    "north_hem = city_weather_no_null.loc[city_weather_no_null['Lat'] > 0,]\n",
    "\n",
    "#plotting and formatting scatter\n",
    "plt.scatter(north_hem['Lat'], north_hem['Humidity'], marker=\"o\", facecolors=\"dodgerblue\")\n",
    "\n",
    "#inserting chart labels\n",
    "plt.xlabel(\"Latitude\")\n",
    "plt.ylabel(\"Humidity (%)\")\n",
    "plt.title(\"Northern Hemisphere - Humidity (%) vs. Latitude Linear Regression\")\n",
    "\n",
    "#defining values\n",
    "x_values = north_hem['Lat']\n",
    "y_values = north_hem['Humidity']\n",
    "\n",
    "#defining stats\n",
    "(slope, intercept, rvalue, pvalue, stderr) = linregress(x_values, y_values)\n",
    "\n",
    "#Defining regression\n",
    "regress_values = x_values * slope + intercept\n",
    "line_eq = \"y = \" + str(round(slope,2)) + \"x + \" + str(round(intercept,2))\n",
    "\n",
    "#Plotting line regress\n",
    "plt.plot(x_values,regress_values,\"r-\")\n",
    "\n",
    "#Printing R Value\n",
    "print(f\"R Val is {rvalue**2}\")\n",
    "\n",
    "#Plotting line equation on the graph\n",
    "plt.annotate(line_eq,(45,5),fontsize=15,color=\"red\") #(20,30) is x y coordinate on graph where line will start printing\n",
    "plt.savefig('north_hum.png')"
   ]
  },
  {
   "cell_type": "markdown",
   "metadata": {},
   "source": [
    "####  Southern Hemisphere - Humidity (%) vs. Latitude Linear Regression"
   ]
  },
  {
   "cell_type": "code",
   "execution_count": 21,
   "metadata": {},
   "outputs": [
    {
     "ename": "KeyError",
     "evalue": "'Humidity (%)'",
     "output_type": "error",
     "traceback": [
      "\u001b[1;31m---------------------------------------------------------------------------\u001b[0m",
      "\u001b[1;31mKeyError\u001b[0m                                  Traceback (most recent call last)",
      "\u001b[1;32m~\\anaconda3.1\\envs\\pythondata\\lib\\site-packages\\pandas\\core\\indexes\\base.py\u001b[0m in \u001b[0;36mget_loc\u001b[1;34m(self, key, method, tolerance)\u001b[0m\n\u001b[0;32m   2888\u001b[0m             \u001b[1;32mtry\u001b[0m\u001b[1;33m:\u001b[0m\u001b[1;33m\u001b[0m\u001b[1;33m\u001b[0m\u001b[0m\n\u001b[1;32m-> 2889\u001b[1;33m                 \u001b[1;32mreturn\u001b[0m \u001b[0mself\u001b[0m\u001b[1;33m.\u001b[0m\u001b[0m_engine\u001b[0m\u001b[1;33m.\u001b[0m\u001b[0mget_loc\u001b[0m\u001b[1;33m(\u001b[0m\u001b[0mcasted_key\u001b[0m\u001b[1;33m)\u001b[0m\u001b[1;33m\u001b[0m\u001b[1;33m\u001b[0m\u001b[0m\n\u001b[0m\u001b[0;32m   2890\u001b[0m             \u001b[1;32mexcept\u001b[0m \u001b[0mKeyError\u001b[0m \u001b[1;32mas\u001b[0m \u001b[0merr\u001b[0m\u001b[1;33m:\u001b[0m\u001b[1;33m\u001b[0m\u001b[1;33m\u001b[0m\u001b[0m\n",
      "\u001b[1;32mpandas\\_libs\\index.pyx\u001b[0m in \u001b[0;36mpandas._libs.index.IndexEngine.get_loc\u001b[1;34m()\u001b[0m\n",
      "\u001b[1;32mpandas\\_libs\\index.pyx\u001b[0m in \u001b[0;36mpandas._libs.index.IndexEngine.get_loc\u001b[1;34m()\u001b[0m\n",
      "\u001b[1;32mpandas\\_libs\\hashtable_class_helper.pxi\u001b[0m in \u001b[0;36mpandas._libs.hashtable.PyObjectHashTable.get_item\u001b[1;34m()\u001b[0m\n",
      "\u001b[1;32mpandas\\_libs\\hashtable_class_helper.pxi\u001b[0m in \u001b[0;36mpandas._libs.hashtable.PyObjectHashTable.get_item\u001b[1;34m()\u001b[0m\n",
      "\u001b[1;31mKeyError\u001b[0m: 'Humidity (%)'",
      "\nThe above exception was the direct cause of the following exception:\n",
      "\u001b[1;31mKeyError\u001b[0m                                  Traceback (most recent call last)",
      "\u001b[1;32m<ipython-input-21-605f014d044d>\u001b[0m in \u001b[0;36m<module>\u001b[1;34m\u001b[0m\n\u001b[0;32m     11\u001b[0m \u001b[1;31m#defining values\u001b[0m\u001b[1;33m\u001b[0m\u001b[1;33m\u001b[0m\u001b[1;33m\u001b[0m\u001b[0m\n\u001b[0;32m     12\u001b[0m \u001b[0mx_values\u001b[0m \u001b[1;33m=\u001b[0m \u001b[0msouth_hem\u001b[0m\u001b[1;33m[\u001b[0m\u001b[1;34m'Lat'\u001b[0m\u001b[1;33m]\u001b[0m\u001b[1;33m\u001b[0m\u001b[1;33m\u001b[0m\u001b[0m\n\u001b[1;32m---> 13\u001b[1;33m \u001b[0my_values\u001b[0m \u001b[1;33m=\u001b[0m \u001b[0msouth_hem\u001b[0m\u001b[1;33m[\u001b[0m\u001b[1;34m'Humidity (%)'\u001b[0m\u001b[1;33m]\u001b[0m\u001b[1;33m\u001b[0m\u001b[1;33m\u001b[0m\u001b[0m\n\u001b[0m\u001b[0;32m     14\u001b[0m \u001b[1;33m\u001b[0m\u001b[0m\n\u001b[0;32m     15\u001b[0m \u001b[1;31m#defining stats\u001b[0m\u001b[1;33m\u001b[0m\u001b[1;33m\u001b[0m\u001b[1;33m\u001b[0m\u001b[0m\n",
      "\u001b[1;32m~\\anaconda3.1\\envs\\pythondata\\lib\\site-packages\\pandas\\core\\frame.py\u001b[0m in \u001b[0;36m__getitem__\u001b[1;34m(self, key)\u001b[0m\n\u001b[0;32m   2897\u001b[0m             \u001b[1;32mif\u001b[0m \u001b[0mself\u001b[0m\u001b[1;33m.\u001b[0m\u001b[0mcolumns\u001b[0m\u001b[1;33m.\u001b[0m\u001b[0mnlevels\u001b[0m \u001b[1;33m>\u001b[0m \u001b[1;36m1\u001b[0m\u001b[1;33m:\u001b[0m\u001b[1;33m\u001b[0m\u001b[1;33m\u001b[0m\u001b[0m\n\u001b[0;32m   2898\u001b[0m                 \u001b[1;32mreturn\u001b[0m \u001b[0mself\u001b[0m\u001b[1;33m.\u001b[0m\u001b[0m_getitem_multilevel\u001b[0m\u001b[1;33m(\u001b[0m\u001b[0mkey\u001b[0m\u001b[1;33m)\u001b[0m\u001b[1;33m\u001b[0m\u001b[1;33m\u001b[0m\u001b[0m\n\u001b[1;32m-> 2899\u001b[1;33m             \u001b[0mindexer\u001b[0m \u001b[1;33m=\u001b[0m \u001b[0mself\u001b[0m\u001b[1;33m.\u001b[0m\u001b[0mcolumns\u001b[0m\u001b[1;33m.\u001b[0m\u001b[0mget_loc\u001b[0m\u001b[1;33m(\u001b[0m\u001b[0mkey\u001b[0m\u001b[1;33m)\u001b[0m\u001b[1;33m\u001b[0m\u001b[1;33m\u001b[0m\u001b[0m\n\u001b[0m\u001b[0;32m   2900\u001b[0m             \u001b[1;32mif\u001b[0m \u001b[0mis_integer\u001b[0m\u001b[1;33m(\u001b[0m\u001b[0mindexer\u001b[0m\u001b[1;33m)\u001b[0m\u001b[1;33m:\u001b[0m\u001b[1;33m\u001b[0m\u001b[1;33m\u001b[0m\u001b[0m\n\u001b[0;32m   2901\u001b[0m                 \u001b[0mindexer\u001b[0m \u001b[1;33m=\u001b[0m \u001b[1;33m[\u001b[0m\u001b[0mindexer\u001b[0m\u001b[1;33m]\u001b[0m\u001b[1;33m\u001b[0m\u001b[1;33m\u001b[0m\u001b[0m\n",
      "\u001b[1;32m~\\anaconda3.1\\envs\\pythondata\\lib\\site-packages\\pandas\\core\\indexes\\base.py\u001b[0m in \u001b[0;36mget_loc\u001b[1;34m(self, key, method, tolerance)\u001b[0m\n\u001b[0;32m   2889\u001b[0m                 \u001b[1;32mreturn\u001b[0m \u001b[0mself\u001b[0m\u001b[1;33m.\u001b[0m\u001b[0m_engine\u001b[0m\u001b[1;33m.\u001b[0m\u001b[0mget_loc\u001b[0m\u001b[1;33m(\u001b[0m\u001b[0mcasted_key\u001b[0m\u001b[1;33m)\u001b[0m\u001b[1;33m\u001b[0m\u001b[1;33m\u001b[0m\u001b[0m\n\u001b[0;32m   2890\u001b[0m             \u001b[1;32mexcept\u001b[0m \u001b[0mKeyError\u001b[0m \u001b[1;32mas\u001b[0m \u001b[0merr\u001b[0m\u001b[1;33m:\u001b[0m\u001b[1;33m\u001b[0m\u001b[1;33m\u001b[0m\u001b[0m\n\u001b[1;32m-> 2891\u001b[1;33m                 \u001b[1;32mraise\u001b[0m \u001b[0mKeyError\u001b[0m\u001b[1;33m(\u001b[0m\u001b[0mkey\u001b[0m\u001b[1;33m)\u001b[0m \u001b[1;32mfrom\u001b[0m \u001b[0merr\u001b[0m\u001b[1;33m\u001b[0m\u001b[1;33m\u001b[0m\u001b[0m\n\u001b[0m\u001b[0;32m   2892\u001b[0m \u001b[1;33m\u001b[0m\u001b[0m\n\u001b[0;32m   2893\u001b[0m         \u001b[1;32mif\u001b[0m \u001b[0mtolerance\u001b[0m \u001b[1;32mis\u001b[0m \u001b[1;32mnot\u001b[0m \u001b[1;32mNone\u001b[0m\u001b[1;33m:\u001b[0m\u001b[1;33m\u001b[0m\u001b[1;33m\u001b[0m\u001b[0m\n",
      "\u001b[1;31mKeyError\u001b[0m: 'Humidity (%)'"
     ]
    },
    {
     "data": {
      "image/png": "[encoded data removed]",
      "text/plain": [
       "<Figure size 432x288 with 1 Axes>"
      ]
     },
     "metadata": {
      "needs_background": "light"
     },
     "output_type": "display_data"
    }
   ],
   "source": [
    "south_hem = city_weather_no_null.loc[city_weather_no_null['Lat'] < 0,]\n",
    "\n",
    "#plotting and formatting scatter\n",
    "plt.scatter(south_hem['Lat'], south_hem['Humidity'], marker=\"o\", facecolors=\"dodgerblue\")\n",
    "\n",
    "#inserting chart labels\n",
    "plt.xlabel(\"Latitude\")\n",
    "plt.ylabel(\"Humidity\")\n",
    "plt.title(\"Southern Hemisphere - Humidity (%) vs. Latitude Linear Regression\")\n",
    "\n",
    "#defining values\n",
    "x_values = south_hem['Lat']\n",
    "y_values = south_hem['Humidity (%)']\n",
    "\n",
    "#defining stats\n",
    "(slope, intercept, rvalue, pvalue, stderr) = linregress(x_values, y_values)\n",
    "\n",
    "#Defining regression\n",
    "regress_values = x_values * slope + intercept\n",
    "line_eq = \"y = \" + str(round(slope,2)) + \"x + \" + str(round(intercept,2))\n",
    "\n",
    "#Plotting line regress\n",
    "plt.plot(x_values,regress_values,\"r-\")\n",
    "\n",
    "#Printing R Value\n",
    "print(f\"R Val is {rvalue**2}\")\n",
    "\n",
    "#Plotting line equation on the graph\n",
    "plt.annotate(line_eq,(-55,7),fontsize=15,color=\"red\") #(20,30) is x y coordinate on graph where line will start printing\n",
    "plt.savefig('south_hum.png')"
   ]
  },
  {
   "cell_type": "markdown",
   "metadata": {},
   "source": [
    "####  Northern Hemisphere - Cloudiness (%) vs. Latitude Linear Regression"
   ]
  },
  {
   "cell_type": "code",
   "execution_count": 22,
   "metadata": {},
   "outputs": [
    {
     "ename": "KeyError",
     "evalue": "'Cloudiness (%)'",
     "output_type": "error",
     "traceback": [
      "\u001b[1;31m---------------------------------------------------------------------------\u001b[0m",
      "\u001b[1;31mKeyError\u001b[0m                                  Traceback (most recent call last)",
      "\u001b[1;32m~\\anaconda3.1\\envs\\pythondata\\lib\\site-packages\\pandas\\core\\indexes\\base.py\u001b[0m in \u001b[0;36mget_loc\u001b[1;34m(self, key, method, tolerance)\u001b[0m\n\u001b[0;32m   2888\u001b[0m             \u001b[1;32mtry\u001b[0m\u001b[1;33m:\u001b[0m\u001b[1;33m\u001b[0m\u001b[1;33m\u001b[0m\u001b[0m\n\u001b[1;32m-> 2889\u001b[1;33m                 \u001b[1;32mreturn\u001b[0m \u001b[0mself\u001b[0m\u001b[1;33m.\u001b[0m\u001b[0m_engine\u001b[0m\u001b[1;33m.\u001b[0m\u001b[0mget_loc\u001b[0m\u001b[1;33m(\u001b[0m\u001b[0mcasted_key\u001b[0m\u001b[1;33m)\u001b[0m\u001b[1;33m\u001b[0m\u001b[1;33m\u001b[0m\u001b[0m\n\u001b[0m\u001b[0;32m   2890\u001b[0m             \u001b[1;32mexcept\u001b[0m \u001b[0mKeyError\u001b[0m \u001b[1;32mas\u001b[0m \u001b[0merr\u001b[0m\u001b[1;33m:\u001b[0m\u001b[1;33m\u001b[0m\u001b[1;33m\u001b[0m\u001b[0m\n",
      "\u001b[1;32mpandas\\_libs\\index.pyx\u001b[0m in \u001b[0;36mpandas._libs.index.IndexEngine.get_loc\u001b[1;34m()\u001b[0m\n",
      "\u001b[1;32mpandas\\_libs\\index.pyx\u001b[0m in \u001b[0;36mpandas._libs.index.IndexEngine.get_loc\u001b[1;34m()\u001b[0m\n",
      "\u001b[1;32mpandas\\_libs\\hashtable_class_helper.pxi\u001b[0m in \u001b[0;36mpandas._libs.hashtable.PyObjectHashTable.get_item\u001b[1;34m()\u001b[0m\n",
      "\u001b[1;32mpandas\\_libs\\hashtable_class_helper.pxi\u001b[0m in \u001b[0;36mpandas._libs.hashtable.PyObjectHashTable.get_item\u001b[1;34m()\u001b[0m\n",
      "\u001b[1;31mKeyError\u001b[0m: 'Cloudiness (%)'",
      "\nThe above exception was the direct cause of the following exception:\n",
      "\u001b[1;31mKeyError\u001b[0m                                  Traceback (most recent call last)",
      "\u001b[1;32m<ipython-input-22-4dbbe90a1ed1>\u001b[0m in \u001b[0;36m<module>\u001b[1;34m\u001b[0m\n\u001b[0;32m     11\u001b[0m \u001b[1;31m#defining values\u001b[0m\u001b[1;33m\u001b[0m\u001b[1;33m\u001b[0m\u001b[1;33m\u001b[0m\u001b[0m\n\u001b[0;32m     12\u001b[0m \u001b[0mx_values\u001b[0m \u001b[1;33m=\u001b[0m \u001b[0mnorth_hem\u001b[0m\u001b[1;33m[\u001b[0m\u001b[1;34m'Lat'\u001b[0m\u001b[1;33m]\u001b[0m\u001b[1;33m\u001b[0m\u001b[1;33m\u001b[0m\u001b[0m\n\u001b[1;32m---> 13\u001b[1;33m \u001b[0my_values\u001b[0m \u001b[1;33m=\u001b[0m \u001b[0mnorth_hem\u001b[0m\u001b[1;33m[\u001b[0m\u001b[1;34m'Cloudiness (%)'\u001b[0m\u001b[1;33m]\u001b[0m\u001b[1;33m\u001b[0m\u001b[1;33m\u001b[0m\u001b[0m\n\u001b[0m\u001b[0;32m     14\u001b[0m \u001b[1;33m\u001b[0m\u001b[0m\n\u001b[0;32m     15\u001b[0m \u001b[1;31m#defining stats\u001b[0m\u001b[1;33m\u001b[0m\u001b[1;33m\u001b[0m\u001b[1;33m\u001b[0m\u001b[0m\n",
      "\u001b[1;32m~\\anaconda3.1\\envs\\pythondata\\lib\\site-packages\\pandas\\core\\frame.py\u001b[0m in \u001b[0;36m__getitem__\u001b[1;34m(self, key)\u001b[0m\n\u001b[0;32m   2897\u001b[0m             \u001b[1;32mif\u001b[0m \u001b[0mself\u001b[0m\u001b[1;33m.\u001b[0m\u001b[0mcolumns\u001b[0m\u001b[1;33m.\u001b[0m\u001b[0mnlevels\u001b[0m \u001b[1;33m>\u001b[0m \u001b[1;36m1\u001b[0m\u001b[1;33m:\u001b[0m\u001b[1;33m\u001b[0m\u001b[1;33m\u001b[0m\u001b[0m\n\u001b[0;32m   2898\u001b[0m                 \u001b[1;32mreturn\u001b[0m \u001b[0mself\u001b[0m\u001b[1;33m.\u001b[0m\u001b[0m_getitem_multilevel\u001b[0m\u001b[1;33m(\u001b[0m\u001b[0mkey\u001b[0m\u001b[1;33m)\u001b[0m\u001b[1;33m\u001b[0m\u001b[1;33m\u001b[0m\u001b[0m\n\u001b[1;32m-> 2899\u001b[1;33m             \u001b[0mindexer\u001b[0m \u001b[1;33m=\u001b[0m \u001b[0mself\u001b[0m\u001b[1;33m.\u001b[0m\u001b[0mcolumns\u001b[0m\u001b[1;33m.\u001b[0m\u001b[0mget_loc\u001b[0m\u001b[1;33m(\u001b[0m\u001b[0mkey\u001b[0m\u001b[1;33m)\u001b[0m\u001b[1;33m\u001b[0m\u001b[1;33m\u001b[0m\u001b[0m\n\u001b[0m\u001b[0;32m   2900\u001b[0m             \u001b[1;32mif\u001b[0m \u001b[0mis_integer\u001b[0m\u001b[1;33m(\u001b[0m\u001b[0mindexer\u001b[0m\u001b[1;33m)\u001b[0m\u001b[1;33m:\u001b[0m\u001b[1;33m\u001b[0m\u001b[1;33m\u001b[0m\u001b[0m\n\u001b[0;32m   2901\u001b[0m                 \u001b[0mindexer\u001b[0m \u001b[1;33m=\u001b[0m \u001b[1;33m[\u001b[0m\u001b[0mindexer\u001b[0m\u001b[1;33m]\u001b[0m\u001b[1;33m\u001b[0m\u001b[1;33m\u001b[0m\u001b[0m\n",
      "\u001b[1;32m~\\anaconda3.1\\envs\\pythondata\\lib\\site-packages\\pandas\\core\\indexes\\base.py\u001b[0m in \u001b[0;36mget_loc\u001b[1;34m(self, key, method, tolerance)\u001b[0m\n\u001b[0;32m   2889\u001b[0m                 \u001b[1;32mreturn\u001b[0m \u001b[0mself\u001b[0m\u001b[1;33m.\u001b[0m\u001b[0m_engine\u001b[0m\u001b[1;33m.\u001b[0m\u001b[0mget_loc\u001b[0m\u001b[1;33m(\u001b[0m\u001b[0mcasted_key\u001b[0m\u001b[1;33m)\u001b[0m\u001b[1;33m\u001b[0m\u001b[1;33m\u001b[0m\u001b[0m\n\u001b[0;32m   2890\u001b[0m             \u001b[1;32mexcept\u001b[0m \u001b[0mKeyError\u001b[0m \u001b[1;32mas\u001b[0m \u001b[0merr\u001b[0m\u001b[1;33m:\u001b[0m\u001b[1;33m\u001b[0m\u001b[1;33m\u001b[0m\u001b[0m\n\u001b[1;32m-> 2891\u001b[1;33m                 \u001b[1;32mraise\u001b[0m \u001b[0mKeyError\u001b[0m\u001b[1;33m(\u001b[0m\u001b[0mkey\u001b[0m\u001b[1;33m)\u001b[0m \u001b[1;32mfrom\u001b[0m \u001b[0merr\u001b[0m\u001b[1;33m\u001b[0m\u001b[1;33m\u001b[0m\u001b[0m\n\u001b[0m\u001b[0;32m   2892\u001b[0m \u001b[1;33m\u001b[0m\u001b[0m\n\u001b[0;32m   2893\u001b[0m         \u001b[1;32mif\u001b[0m \u001b[0mtolerance\u001b[0m \u001b[1;32mis\u001b[0m \u001b[1;32mnot\u001b[0m \u001b[1;32mNone\u001b[0m\u001b[1;33m:\u001b[0m\u001b[1;33m\u001b[0m\u001b[1;33m\u001b[0m\u001b[0m\n",
      "\u001b[1;31mKeyError\u001b[0m: 'Cloudiness (%)'"
     ]
    },
    {
     "data": {
      "image/png": "[encoded data removed]",
      "text/plain": [
       "<Figure size 432x288 with 1 Axes>"
      ]
     },
     "metadata": {
      "needs_background": "light"
     },
     "output_type": "display_data"
    }
   ],
   "source": [
    "north_hem = city_weather_no_null.loc[city_weather_no_null['Lat'] > 0,]\n",
    "\n",
    "#plotting and formatting scatter\n",
    "plt.scatter(north_hem['Lat'], north_hem['Cloudiness'], marker=\"o\", facecolors=\"dodgerblue\")\n",
    "\n",
    "#inserting chart labels\n",
    "plt.xlabel(\"Latitude\")\n",
    "plt.ylabel(\"Cloudiness\")\n",
    "plt.title(\"Northern Hemisphere - Cloudiness (%) vs. Latitude Linear Regression\")\n",
    "\n",
    "#defining values\n",
    "x_values = north_hem['Lat']\n",
    "y_values = north_hem['Cloudiness (%)']\n",
    "\n",
    "#defining stats\n",
    "(slope, intercept, rvalue, pvalue, stderr) = linregress(x_values, y_values)\n",
    "\n",
    "#Defining regression\n",
    "regress_values = x_values * slope + intercept\n",
    "line_eq = \"y = \" + str(round(slope,2)) + \"x + \" + str(round(intercept,2))\n",
    "\n",
    "#Plotting line regress\n",
    "plt.plot(x_values,regress_values,\"r-\")\n",
    "\n",
    "#Printing R Value\n",
    "print(f\"R Val is {rvalue**2}\")\n",
    "\n",
    "#Plotting line equation on the graph\n",
    "plt.annotate(line_eq,(0,8),fontsize=15,color=\"red\") #(20,30) is x y coordinate on graph where line will start printing\n",
    "plt.savefig('north_cloud.png')"
   ]
  },
  {
   "cell_type": "markdown",
   "metadata": {},
   "source": [
    "####  Southern Hemisphere - Cloudiness (%) vs. Latitude Linear Regression"
   ]
  },
  {
   "cell_type": "code",
   "execution_count": 23,
   "metadata": {},
   "outputs": [
    {
     "name": "stdout",
     "output_type": "stream",
     "text": [
      "R Val is 0.04183580948628334\n"
     ]
    },
    {
     "data": {
      "text/plain": [
       "Text(-55, 7, 'y = -0.56x + 30.49')"
      ]
     },
     "execution_count": 23,
     "metadata": {},
     "output_type": "execute_result"
    },
    {
     "data": {
      "image/png": "[encoded data removed]",
      "text/plain": [
       "<Figure size 432x288 with 1 Axes>"
      ]
     },
     "metadata": {
      "needs_background": "light"
     },
     "output_type": "display_data"
    }
   ],
   "source": [
    "south_hem = city_weather_no_null.loc[city_weather_no_null['Lat'] < 0,]\n",
    "\n",
    "#plotting and formatting scatter\n",
    "plt.scatter(south_hem['Lat'], south_hem['Cloudiness'], marker=\"o\", facecolors=\"dodgerblue\")\n",
    "\n",
    "#inserting chart labels\n",
    "plt.xlabel(\"Latitude\")\n",
    "plt.ylabel('Cloudiness (%)')\n",
    "plt.title(\"Southern Hemisphere - Cloudiness (%) vs. Latitude Linear Regression\")\n",
    "\n",
    "#defining values\n",
    "x_values = south_hem['Lat']\n",
    "y_values = south_hem['Cloudiness']\n",
    "\n",
    "#defining stats\n",
    "(slope, intercept, rvalue, pvalue, stderr) = linregress(x_values, y_values)\n",
    "\n",
    "#Defining regression\n",
    "regress_values = x_values * slope + intercept\n",
    "line_eq = \"y = \" + str(round(slope,2)) + \"x + \" + str(round(intercept,2))\n",
    "\n",
    "#Plotting line regress\n",
    "plt.plot(x_values,regress_values,\"r-\")\n",
    "\n",
    "#Printing R Value\n",
    "print(f\"R Val is {rvalue**2}\")\n",
    "\n",
    "#Plotting line equation on the graph\n",
    "plt.annotate(line_eq,(-55,7),fontsize=15,color=\"red\") #(20,30) is x y coordinate on graph where line will start printing\n",
    "plt.savefig('south_cloud.png')"
   ]
  },
  {
   "cell_type": "markdown",
   "metadata": {},
   "source": [
    "####  Northern Hemisphere - Wind Speed (mph) vs. Latitude Linear Regression"
   ]
  },
  {
   "cell_type": "code",
   "execution_count": 24,
   "metadata": {},
   "outputs": [
    {
     "name": "stdout",
     "output_type": "stream",
     "text": [
      "R Val is 1.2809906047338507e-05\n"
     ]
    },
    {
     "data": {
      "text/plain": [
       "Text(0, 13.3, 'y = -0.0x + 3.29')"
      ]
     },
     "execution_count": 24,
     "metadata": {},
     "output_type": "execute_result"
    },
    {
     "data": {
      "image/png": "[encoded data removed]",
      "text/plain": [
       "<Figure size 432x288 with 1 Axes>"
      ]
     },
     "metadata": {
      "needs_background": "light"
     },
     "output_type": "display_data"
    }
   ],
   "source": [
    "north_hem = city_weather_no_null.loc[city_weather_no_null['Lat'] > 0,]\n",
    "\n",
    "#plotting and formatting scatter\n",
    "plt.scatter(north_hem['Lat'], north_hem['Wind Speed'], marker=\"o\", facecolors=\"dodgerblue\")\n",
    "\n",
    "#inserting chart labels\n",
    "plt.xlabel(\"Latitude\")\n",
    "plt.ylabel('Wind Speed (mph)')\n",
    "plt.title(\"Northern Hemisphere - Wind Speed (mph) vs. Latitude Linear Regression\")\n",
    "\n",
    "#defining values\n",
    "x_values = north_hem['Lat']\n",
    "y_values = north_hem['Wind Speed']\n",
    "\n",
    "#defining stats\n",
    "(slope, intercept, rvalue, pvalue, stderr) = linregress(x_values, y_values)\n",
    "\n",
    "#Defining regression\n",
    "regress_values = x_values * slope + intercept\n",
    "line_eq = \"y = \" + str(round(slope,2)) + \"x + \" + str(round(intercept,2))\n",
    "\n",
    "#Plotting line regress\n",
    "plt.plot(x_values,regress_values,\"r-\")\n",
    "\n",
    "#Printing R Value\n",
    "print(f\"R Val is {rvalue**2}\")\n",
    "\n",
    "#Plotting line equation on the graph\n",
    "plt.annotate(line_eq,(0,13.3),fontsize=15,color=\"red\") #(20,30) is x y coordinate on graph where line will start printing\n",
    "plt.savefig('north_wind.png')"
   ]
  },
  {
   "cell_type": "markdown",
   "metadata": {},
   "source": [
    "####  Southern Hemisphere - Wind Speed (mph) vs. Latitude Linear Regression"
   ]
  },
  {
   "cell_type": "code",
   "execution_count": 25,
   "metadata": {},
   "outputs": [
    {
     "name": "stdout",
     "output_type": "stream",
     "text": [
      "R Val is 0.11181815503920316\n"
     ]
    },
    {
     "data": {
      "text/plain": [
       "Text(-55, 11, 'y = -0.07x + 2.41')"
      ]
     },
     "execution_count": 25,
     "metadata": {},
     "output_type": "execute_result"
    },
    {
     "data": {
      "image/png": "[encoded data removed]",
      "text/plain": [
       "<Figure size 432x288 with 1 Axes>"
      ]
     },
     "metadata": {
      "needs_background": "light"
     },
     "output_type": "display_data"
    }
   ],
   "source": [
    "south_hem = city_weather_no_null.loc[city_weather_no_null['Lat'] < 0,]\n",
    "\n",
    "#plotting and formatting scatter\n",
    "plt.scatter(south_hem['Lat'], south_hem['Wind Speed'], marker=\"o\", facecolors=\"dodgerblue\")\n",
    "\n",
    "#inserting chart labels\n",
    "plt.xlabel(\"Latitude\")\n",
    "plt.ylabel(\"Wind Speed (mph)\")\n",
    "plt.title(\"Southern Hemisphere - Wind Speed (mph) vs. Latitude Linear Regression\")\n",
    "\n",
    "#defining values\n",
    "x_values = south_hem['Lat']\n",
    "y_values = south_hem['Wind Speed']\n",
    "\n",
    "#defining stats\n",
    "(slope, intercept, rvalue, pvalue, stderr) = linregress(x_values, y_values)\n",
    "\n",
    "#Defining regression\n",
    "regress_values = x_values * slope + intercept\n",
    "line_eq = \"y = \" + str(round(slope,2)) + \"x + \" + str(round(intercept,2))\n",
    "\n",
    "#Plotting line regress\n",
    "plt.plot(x_values,regress_values,\"r-\")\n",
    "\n",
    "#Printing R Value\n",
    "print(f\"R Val is {rvalue**2}\")\n",
    "\n",
    "#Plotting line equation on the graph\n",
    "plt.annotate(line_eq,(-55,11),fontsize=15,color=\"red\") #(20,30) is x y coordinate on graph where line will start printing\n",
    "plt.savefig('south_wind.png')"
   ]
  }
 ],
 "metadata": {
  "anaconda-cloud": {},
  "kernel_info": {
   "name": "python3"
  },
  "kernelspec": {
   "display_name": "Python [conda env:pythondata] *",
   "language": "python",
   "name": "conda-env-pythondata-py"
  },
  "language_info": {
   "codemirror_mode": {
    "name": "ipython",
    "version": 3
   },
   "file_extension": ".py",
   "mimetype": "text/x-python",
   "name": "python",
   "nbconvert_exporter": "python",
   "pygments_lexer": "ipython3",
   "version": "3.8.5"
  },
  "latex_envs": {
   "LaTeX_envs_menu_present": true,
   "autoclose": false,
   "autocomplete": true,
   "bibliofile": "biblio.bib",
   "cite_by": "apalike",
   "current_citInitial": 1,
   "eqLabelWithNumbers": true,
   "eqNumInitial": 1,
   "hotkeys": {
    "equation": "Ctrl-E",
    "itemize": "Ctrl-I"
   },
   "labels_anchors": false,
   "latex_user_defs": false,
   "report_style_numbering": false,
   "user_envs_cfg": false
  },
  "nteract": {
   "version": "0.12.3"
  }
 },
 "nbformat": 4,
 "nbformat_minor": 2
}
